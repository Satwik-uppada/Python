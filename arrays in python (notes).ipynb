{
 "cells": [
  {
   "attachments": {},
   "cell_type": "markdown",
   "metadata": {},
   "source": [
    "# Arrays in python\n"
   ]
  },
  {
   "attachments": {},
   "cell_type": "markdown",
   "metadata": {},
   "source": [
    "Arrays are two types:-\n",
    "-  1-D Arrays\n",
    "-  2-D Arrrays"
   ]
  },
  {
   "attachments": {},
   "cell_type": "markdown",
   "metadata": {},
   "source": [
    "# 1-D Arrays"
   ]
  },
  {
   "cell_type": "code",
   "execution_count": 3,
   "metadata": {},
   "outputs": [],
   "source": [
    "import array as arr"
   ]
  },
  {
   "attachments": {},
   "cell_type": "markdown",
   "metadata": {},
   "source": [
    "-  to use arrays in python we need to import arrays module"
   ]
  },
  {
   "cell_type": "code",
   "execution_count": 19,
   "metadata": {},
   "outputs": [
    {
     "name": "stdout",
     "output_type": "stream",
     "text": [
      "array('i', [1, 2, 3, 4, 5])\n",
      "array('f', [1.0, 2.0, 3.0, 4.0, 5.0])\n",
      "array('d', [1.0, 2.0, 3.0, 4.0, 5.0])\n"
     ]
    }
   ],
   "source": [
    "import array as arr   #importing array, alias as arr\n",
    "\n",
    "# must be b, B, u, h, H, i, I, l, L, q, Q, f or d)\n",
    "\n",
    "\n",
    "my_array1=arr.array('i',[1,2,3,4,5])  #here we're creating an array of integers\n",
    "#'i' is the type code for integers  \n",
    "my_array2=arr.array('f',[1,2,3,4,5])\n",
    "my_array3=arr.array('d',[1,2,3,4,5])\n",
    "\n",
    "print(my_array1)\n",
    "print(my_array2)\n",
    "print(my_array3)\n",
    "\n",
    "\n"
   ]
  },
  {
   "attachments": {},
   "cell_type": "markdown",
   "metadata": {},
   "source": [
    "-  b and B: signed and unsigned byte integers (-128 to 127 and 0 to 255, respectively)\n",
    "-  u: Unicode character\n",
    "-  h and H: signed and unsigned short integers (-32768 to 32767 and 0 to 65535, respectively)\n",
    "-  i and I: signed and unsigned integers (-2147483648 to 2147483647 and 0 to 4294967295, respectively)\n",
    "-  l and L: signed and unsigned long integers (similar to i and I but with more bytes)\n",
    "-  q and Q: signed and unsigned long long integers (similar to i and I but with even more bytes)\n",
    "-  f: single-precision floating point number (32 bits)\n",
    "-  d: double-precision floating point number (64 bits)"
   ]
  },
  {
   "cell_type": "code",
   "execution_count": 28,
   "metadata": {},
   "outputs": [
    {
     "name": "stdout",
     "output_type": "stream",
     "text": [
      "array('b', [-128, 0, 127])\n",
      "array('B', [0, 128, 255])\n"
     ]
    }
   ],
   "source": [
    "import array\n",
    "my_array = array.array('b', [-128, 0, 127])\n",
    "my_unsigned_array = array.array('B', [0, 128, 255])\n",
    "print(my_array)\n",
    "print(my_unsigned_array)\n"
   ]
  },
  {
   "cell_type": "code",
   "execution_count": 27,
   "metadata": {},
   "outputs": [
    {
     "name": "stdout",
     "output_type": "stream",
     "text": [
      "array('u', 'hello')\n"
     ]
    }
   ],
   "source": [
    "import array\n",
    "my_array = array.array('u', 'hello')\n",
    "print(my_array)\n"
   ]
  },
  {
   "cell_type": "code",
   "execution_count": 26,
   "metadata": {},
   "outputs": [
    {
     "name": "stdout",
     "output_type": "stream",
     "text": [
      "array('h', [-32768, 0, 32767])\n",
      "array('H', [0, 32768, 65535])\n"
     ]
    }
   ],
   "source": [
    "import array\n",
    "my_array = array.array('h', [-32768, 0, 32767])\n",
    "my_unsigned_array = array.array('H', [0, 32768, 65535])\n",
    "print(my_array)\n",
    "print(my_unsigned_array)\n"
   ]
  },
  {
   "cell_type": "code",
   "execution_count": 25,
   "metadata": {},
   "outputs": [
    {
     "name": "stdout",
     "output_type": "stream",
     "text": [
      "array('i', [-2147483648, 0, 2147483647])\n",
      "array('I', [0, 2147483648, 4294967295])\n"
     ]
    }
   ],
   "source": [
    "import array\n",
    "my_array = array.array('i', [-2147483648, 0, 2147483647])\n",
    "my_unsigned_array = array.array('I', [0, 2147483648, 4294967295])\n",
    "print(my_array)\n",
    "print(my_unsigned_array)\n"
   ]
  },
  {
   "cell_type": "code",
   "execution_count": 24,
   "metadata": {},
   "outputs": [
    {
     "ename": "OverflowError",
     "evalue": "Python int too large to convert to C long",
     "output_type": "error",
     "traceback": [
      "\u001b[1;31m---------------------------------------------------------------------------\u001b[0m",
      "\u001b[1;31mOverflowError\u001b[0m                             Traceback (most recent call last)",
      "\u001b[1;32mc:\\Users\\uppada satwik\\Downloads\\INT215\\programs\\python\\arrays in python (notes).ipynb Cell 10\u001b[0m in \u001b[0;36m<cell line: 2>\u001b[1;34m()\u001b[0m\n\u001b[0;32m      <a href='vscode-notebook-cell:/c%3A/Users/uppada%20satwik/Downloads/INT215/programs/python/arrays%20in%20python%20%28notes%29.ipynb#X12sZmlsZQ%3D%3D?line=0'>1</a>\u001b[0m \u001b[39mimport\u001b[39;00m \u001b[39marray\u001b[39;00m\n\u001b[1;32m----> <a href='vscode-notebook-cell:/c%3A/Users/uppada%20satwik/Downloads/INT215/programs/python/arrays%20in%20python%20%28notes%29.ipynb#X12sZmlsZQ%3D%3D?line=1'>2</a>\u001b[0m my_array \u001b[39m=\u001b[39m array\u001b[39m.\u001b[39;49marray(\u001b[39m'\u001b[39;49m\u001b[39ml\u001b[39;49m\u001b[39m'\u001b[39;49m, [\u001b[39m-\u001b[39;49m\u001b[39m9223372036854775808\u001b[39;49m, \u001b[39m0\u001b[39;49m, \u001b[39m9223372036854775807\u001b[39;49m])\n\u001b[0;32m      <a href='vscode-notebook-cell:/c%3A/Users/uppada%20satwik/Downloads/INT215/programs/python/arrays%20in%20python%20%28notes%29.ipynb#X12sZmlsZQ%3D%3D?line=2'>3</a>\u001b[0m my_unsigned_array \u001b[39m=\u001b[39m array\u001b[39m.\u001b[39marray(\u001b[39m'\u001b[39m\u001b[39mL\u001b[39m\u001b[39m'\u001b[39m, [\u001b[39m0\u001b[39m, \u001b[39m9223372036854775808\u001b[39m, \u001b[39m18446744073709551615\u001b[39m])\n\u001b[0;32m      <a href='vscode-notebook-cell:/c%3A/Users/uppada%20satwik/Downloads/INT215/programs/python/arrays%20in%20python%20%28notes%29.ipynb#X12sZmlsZQ%3D%3D?line=3'>4</a>\u001b[0m \u001b[39mprint\u001b[39m(my_array)\n",
      "\u001b[1;31mOverflowError\u001b[0m: Python int too large to convert to C long"
     ]
    }
   ],
   "source": [
    "import array\n",
    "my_array = array.array('l', [-9223372036854775808, 0, 9223372036854775807])\n",
    "my_unsigned_array = array.array('L', [0, 9223372036854775808, 18446744073709551615])\n",
    "print(my_array)\n",
    "print(my_unsigned_array)"
   ]
  },
  {
   "cell_type": "code",
   "execution_count": 23,
   "metadata": {},
   "outputs": [
    {
     "name": "stdout",
     "output_type": "stream",
     "text": [
      "array('q', [-9223372036854775808, 0, 9223372036854775807])\n",
      "array('Q', [0, 9223372036854775808, 18446744073709551615])\n"
     ]
    }
   ],
   "source": [
    "import array\n",
    "my_array = array.array('q', [-9223372036854775808, 0, 9223372036854775807])\n",
    "my_unsigned_array = array.array('Q', [0, 9223372036854775808, 18446744073709551615])\n",
    "print(my_array)\n",
    "print(my_unsigned_array)"
   ]
  },
  {
   "cell_type": "code",
   "execution_count": 22,
   "metadata": {},
   "outputs": [
    {
     "name": "stdout",
     "output_type": "stream",
     "text": [
      "array('f', [3.140000104904175, -1.0, 2.0])\n"
     ]
    }
   ],
   "source": [
    "import array\n",
    "my_array = array.array('f', [3.14, -1.0, 2.0])\n",
    "print(my_array)\n"
   ]
  },
  {
   "cell_type": "code",
   "execution_count": 21,
   "metadata": {},
   "outputs": [
    {
     "name": "stdout",
     "output_type": "stream",
     "text": [
      "array('d', [3.14, -1.0, 2.0])\n"
     ]
    }
   ],
   "source": [
    "import array\n",
    "my_array = array.array('d', [3.14, -1.0, 2.0])\n",
    "print(my_array)\n",
    "\n"
   ]
  },
  {
   "attachments": {},
   "cell_type": "markdown",
   "metadata": {},
   "source": [
    "## Accessing individual elements in an array"
   ]
  },
  {
   "cell_type": "code",
   "execution_count": 30,
   "metadata": {},
   "outputs": [
    {
     "name": "stdout",
     "output_type": "stream",
     "text": [
      "1\n",
      "2\n",
      "3\n",
      "4\n",
      "5\n"
     ]
    }
   ],
   "source": [
    "import array as arr\n",
    "# create an array of integers\n",
    "my_array=arr.array(\"i\",[1,2,3,4,5,6,7,8,9,10])\n",
    "print(my_array[0])\n",
    "print(my_array[1])\n",
    "print(my_array[2])\n",
    "print(my_array[3])\n",
    "print(my_array[4])"
   ]
  },
  {
   "attachments": {},
   "cell_type": "markdown",
   "metadata": {},
   "source": [
    "## Modifying individual elements in an array using indexing"
   ]
  },
  {
   "cell_type": "code",
   "execution_count": 31,
   "metadata": {},
   "outputs": [
    {
     "name": "stdout",
     "output_type": "stream",
     "text": [
      "array('i', [11, 12, 3, 4, 5, 6, 7, 8, 9, 10])\n"
     ]
    }
   ],
   "source": [
    "import array as arr\n",
    "# create an array of integers\n",
    "my_array=arr.array(\"i\",[1,2,3,4,5,6,7,8,9,10])\n",
    "my_array[0]=11\n",
    "my_array[1]=12\n",
    "print(my_array)"
   ]
  },
  {
   "attachments": {},
   "cell_type": "markdown",
   "metadata": {},
   "source": [
    "## Methods and functions in array's"
   ]
  },
  {
   "cell_type": "code",
   "execution_count": 37,
   "metadata": {},
   "outputs": [],
   "source": [
    "import array as arr\n",
    "arr1=arr.array('i',[1,2,3,4,5,6])"
   ]
  },
  {
   "attachments": {},
   "cell_type": "markdown",
   "metadata": {},
   "source": [
    "## Append()"
   ]
  },
  {
   "attachments": {},
   "cell_type": "markdown",
   "metadata": {},
   "source": [
    "-  The append() method adds an element to the end of the array."
   ]
  },
  {
   "attachments": {},
   "cell_type": "markdown",
   "metadata": {},
   "source": [
    "idhi just one element ni array end ki add cheysthadi"
   ]
  },
  {
   "cell_type": "code",
   "execution_count": 44,
   "metadata": {},
   "outputs": [
    {
     "name": "stdout",
     "output_type": "stream",
     "text": [
      "array('i', [0, 1, 2, 3, 4, 5, 6, 7, 9, 10, 7])\n"
     ]
    }
   ],
   "source": [
    "arr1.append(7)\n",
    "print(arr1)"
   ]
  },
  {
   "attachments": {},
   "cell_type": "markdown",
   "metadata": {},
   "source": [
    "## extend()"
   ]
  },
  {
   "attachments": {},
   "cell_type": "markdown",
   "metadata": {},
   "source": [
    "-  The extend() method adds the elements from another sequence (such as a list or tuple) to the end of the array."
   ]
  },
  {
   "attachments": {},
   "cell_type": "markdown",
   "metadata": {},
   "source": [
    "ee function manam morethan one element add cheyali anukuntey appudu extend ani ichi dhanilo manam add ccheyali anukuna list isthey adhi array ending ki add avudhi"
   ]
  },
  {
   "cell_type": "code",
   "execution_count": 45,
   "metadata": {},
   "outputs": [
    {
     "name": "stdout",
     "output_type": "stream",
     "text": [
      "array('i', [0, 1, 2, 3, 4, 5, 6, 7, 9, 10, 7, 8, 9, 10])\n"
     ]
    }
   ],
   "source": [
    "arr1.extend([8,9,10])\n",
    "print(arr1)"
   ]
  },
  {
   "attachments": {},
   "cell_type": "markdown",
   "metadata": {},
   "source": [
    "## insert()"
   ]
  },
  {
   "attachments": {},
   "cell_type": "markdown",
   "metadata": {},
   "source": [
    "-  The insert() method inserts an element at a specified position in the array.\n"
   ]
  },
  {
   "attachments": {},
   "cell_type": "markdown",
   "metadata": {},
   "source": [
    "insert antey manam ichey value and and index position batti aa value aneydhi veylli aa index loki add avudhi"
   ]
  },
  {
   "cell_type": "code",
   "execution_count": 46,
   "metadata": {},
   "outputs": [
    {
     "name": "stdout",
     "output_type": "stream",
     "text": [
      "array('i', [0, 0, 1, 2, 3, 4, 5, 6, 7, 9, 10, 7, 8, 9, 10])\n"
     ]
    }
   ],
   "source": [
    "arr1.insert(0,0)\n",
    "print(arr1)"
   ]
  },
  {
   "attachments": {},
   "cell_type": "markdown",
   "metadata": {},
   "source": [
    "## pop()"
   ]
  },
  {
   "attachments": {},
   "cell_type": "markdown",
   "metadata": {},
   "source": [
    "-  The pop() method removes and returns the element at a specified position in the array"
   ]
  },
  {
   "attachments": {},
   "cell_type": "markdown",
   "metadata": {},
   "source": [
    "pop antey manam ichina value antey manam oka index position isthey dhani remove cheysi inko variable loki store cheysukoni dhani print cheysukodaniki use avudhi"
   ]
  },
  {
   "cell_type": "code",
   "execution_count": 42,
   "metadata": {},
   "outputs": [
    {
     "name": "stdout",
     "output_type": "stream",
     "text": [
      "array('i', [0, 1, 2, 3, 4, 5, 6, 7, 8, 9, 10])\n"
     ]
    }
   ],
   "source": [
    "arr1.pop(8)\n",
    "print(arr1)"
   ]
  },
  {
   "cell_type": "code",
   "execution_count": 43,
   "metadata": {},
   "outputs": [
    {
     "name": "stdout",
     "output_type": "stream",
     "text": [
      "array('i', [0, 1, 2, 3, 4, 5, 6, 7, 9, 10])\n",
      "8\n"
     ]
    }
   ],
   "source": [
    "# remove and return an element at a specified position in the array\n",
    "removed_element=arr1.pop(8)  #here return value stores in removed_elements\n",
    "print(arr1)\n",
    "print(removed_element)"
   ]
  },
  {
   "attachments": {},
   "cell_type": "markdown",
   "metadata": {},
   "source": [
    "## remove()"
   ]
  },
  {
   "attachments": {},
   "cell_type": "markdown",
   "metadata": {},
   "source": [
    "-  The remove() method removes the first occurrence of a specified element from the array."
   ]
  },
  {
   "attachments": {},
   "cell_type": "markdown",
   "metadata": {},
   "source": [
    "ee function manam ichina specific place lo vunna element ni remove cheysthadhi"
   ]
  },
  {
   "cell_type": "code",
   "execution_count": 47,
   "metadata": {},
   "outputs": [
    {
     "name": "stdout",
     "output_type": "stream",
     "text": [
      "array('i', [0, 0, 1, 2, 3, 4, 5, 6, 7, 9, 10, 7, 8, 9, 10])\n"
     ]
    }
   ],
   "source": [
    "print(arr1)"
   ]
  },
  {
   "cell_type": "code",
   "execution_count": 49,
   "metadata": {},
   "outputs": [
    {
     "name": "stdout",
     "output_type": "stream",
     "text": [
      "array('i', [0, 1, 2, 3, 4, 5, 6, 7, 8, 9, 10])\n"
     ]
    }
   ],
   "source": [
    "arr1.remove(0)\n",
    "arr1.remove(7)\n",
    "arr1.remove(9)\n",
    "arr1.remove(10)\n",
    "print(arr1)\n"
   ]
  },
  {
   "attachments": {},
   "cell_type": "markdown",
   "metadata": {},
   "source": [
    "## reverse()"
   ]
  },
  {
   "attachments": {},
   "cell_type": "markdown",
   "metadata": {},
   "source": [
    "-  The reverse() method used to reverse the order of the elements in an array"
   ]
  },
  {
   "attachments": {},
   "cell_type": "markdown",
   "metadata": {},
   "source": [
    "just reverse cheysthadhi vunna array ni"
   ]
  },
  {
   "cell_type": "code",
   "execution_count": 50,
   "metadata": {},
   "outputs": [
    {
     "name": "stdout",
     "output_type": "stream",
     "text": [
      "array('i', [10, 9, 8, 7, 6, 5, 4, 3, 2, 1, 0])\n"
     ]
    }
   ],
   "source": [
    "arr1.reverse()\n",
    "print(arr1)"
   ]
  },
  {
   "attachments": {},
   "cell_type": "markdown",
   "metadata": {},
   "source": [
    "# 2D-Array"
   ]
  },
  {
   "attachments": {},
   "cell_type": "markdown",
   "metadata": {},
   "source": [
    "A 2D array (also known as a matrix) is a collection of values arranged in rows and columns. Each value in a 2D array is identified by its row and column index"
   ]
  },
  {
   "attachments": {},
   "cell_type": "markdown",
   "metadata": {},
   "source": [
    "2-D arrays ni python lo lists use cheysi create cheystham list lo lists create cheysthey adhi 2d array avudhi oko inner list ocheysi oko row leykka ..dhanilo vunna values ni row values antaru"
   ]
  },
  {
   "cell_type": "code",
   "execution_count": 54,
   "metadata": {},
   "outputs": [],
   "source": [
    "# create a 2D array with 3 rows and 4 columns\n",
    "arr1 = [[1, 2, 3, 4],\n",
    "        [5, 6, 7, 8],\n",
    "        [9, 10, 11, 12]]\n"
   ]
  },
  {
   "attachments": {},
   "cell_type": "markdown",
   "metadata": {},
   "source": [
    "## Access individual elements of a 2d array"
   ]
  },
  {
   "attachments": {},
   "cell_type": "markdown",
   "metadata": {},
   "source": [
    "oka 3*4 matrix vunntey \n",
    "3*4 means 3 rows 4 colums\n",
    "\n",
    "rows  0        1       2      3   ---> columns\n",
    " 0  [0][0]  [0][1]  [0][2]  [0][3]\n",
    " 1  [1][0]  [1][1]  [1][2]  [1][3]\n",
    " 2  [2][0]  [2][1]  [2][2]  [2][3]\n",
    "\n",
    " indexes according to rows and columns\n"
   ]
  },
  {
   "cell_type": "code",
   "execution_count": 55,
   "metadata": {},
   "outputs": [
    {
     "name": "stdout",
     "output_type": "stream",
     "text": [
      "1\n",
      "2\n",
      "3\n",
      "5\n",
      "6\n",
      "7\n",
      "9\n",
      "10\n",
      "11\n"
     ]
    }
   ],
   "source": [
    "print(arr1[0][0])\n",
    "print(arr1[0][1])\n",
    "print(arr1[0][2])\n",
    "\n",
    "print(arr1[1][0])\n",
    "print(arr1[1][1])\n",
    "print(arr1[1][2])\n",
    "\n",
    "print(arr1[2][0])\n",
    "print(arr1[2][1])\n",
    "print(arr1[2][2])"
   ]
  },
  {
   "attachments": {},
   "cell_type": "markdown",
   "metadata": {},
   "source": [
    "## Modifying individual elements in an 2D array using indexing"
   ]
  },
  {
   "cell_type": "code",
   "execution_count": 58,
   "metadata": {},
   "outputs": [
    {
     "name": "stdout",
     "output_type": "stream",
     "text": [
      "[13, 14, 3, 4]\n",
      "[5, 6, 7, 8]\n",
      "[9, 10, 11, 12]\n"
     ]
    }
   ],
   "source": [
    "arr1[0][0]=13\n",
    "arr1[0][1]=14\n",
    "# print the modified array row by row\n",
    "for row in arr1:\n",
    "    print(row)\n"
   ]
  },
  {
   "attachments": {},
   "cell_type": "markdown",
   "metadata": {},
   "source": [
    "## Transposing a 2D array"
   ]
  },
  {
   "attachments": {},
   "cell_type": "markdown",
   "metadata": {},
   "source": [
    "transpose means ,manakada 3\\*4 matrix vuntey dhani 4\\*3 ga marchadani transpose antaru\n",
    "\n",
    "ila cheysinapudu rows columns avuthayi ,columms rows avuthayi"
   ]
  },
  {
   "attachments": {},
   "cell_type": "markdown",
   "metadata": {},
   "source": [
    "<font color=\"gold\">To transpose a 2D array, you can use the zip() function. This function takes multiple iterables and returns an iterator that aggregates the elements of each iterable"
   ]
  },
  {
   "attachments": {},
   "cell_type": "markdown",
   "metadata": {},
   "source": [
    "<font color=\"gold\">the list() function to convert the iterator back into a list."
   ]
  },
  {
   "cell_type": "code",
   "execution_count": 65,
   "metadata": {},
   "outputs": [
    {
     "name": "stdout",
     "output_type": "stream",
     "text": [
      "(1, 5, 9)\n",
      "(2, 6, 10)\n",
      "(3, 7, 11)\n",
      "(4, 8, 12)\n"
     ]
    }
   ],
   "source": [
    "# create a 2D array with 3 rows and 4 columns\n",
    "my_array = [[1, 2, 3, 4],\n",
    "            [5, 6, 7, 8],\n",
    "            [9, 10, 11, 12]]\n",
    "\n",
    "# transpose the array\n",
    "transposed_array = list(zip(*my_array))\n",
    "\n",
    "# print the transposed array\n",
    "for row in transposed_array:\n",
    "    print(row)"
   ]
  },
  {
   "attachments": {},
   "cell_type": "markdown",
   "metadata": {},
   "source": [
    "we're transposing the my_array array by using the zip() function with the * operator to unpack the rows of the array. We're then converting the resulting iterator back into a list using the list() function. Finally, we're printing the transposed array using a for loop to iterate over each row of the array."
   ]
  },
  {
   "attachments": {},
   "cell_type": "markdown",
   "metadata": {},
   "source": [
    "## Adding two arrays"
   ]
  },
  {
   "cell_type": "code",
   "execution_count": 69,
   "metadata": {},
   "outputs": [
    {
     "name": "stdout",
     "output_type": "stream",
     "text": [
      "[3, 6, 9, 12]\n",
      "[15, 18, 21, 24]\n",
      "[27, 30, 33, 36]\n"
     ]
    }
   ],
   "source": [
    "arr1=[[1,2,3,4],\n",
    "      [5,6,7,8],\n",
    "      [9,10,11,12]]\n",
    "arr2=[[2,4,6,8],\n",
    "      [10,12,14,16],\n",
    "      [18,20,22,24]]\n",
    "\n",
    "sum_arr=[]\n",
    "for i in range(len(arr1)):\n",
    "    row=[]\n",
    "    for j in range(len(arr1[0])):\n",
    "        row.append(arr1[i][j]+arr2[i][j])\n",
    "    sum_arr.append(row)\n",
    "\n",
    "for row in sum_arr:\n",
    "   print(row)"
   ]
  },
  {
   "attachments": {},
   "cell_type": "markdown",
   "metadata": {},
   "source": [
    "# subtracting two arrays"
   ]
  },
  {
   "cell_type": "code",
   "execution_count": 70,
   "metadata": {},
   "outputs": [
    {
     "name": "stdout",
     "output_type": "stream",
     "text": [
      "[-1, -2, -3, -4]\n",
      "[-5, -6, -7, -8]\n",
      "[-9, -10, -11, -12]\n"
     ]
    }
   ],
   "source": [
    "arr1=[[1,2,3,4],\n",
    "      [5,6,7,8],\n",
    "      [9,10,11,12]]\n",
    "arr2=[[2,4,6,8],\n",
    "      [10,12,14,16],\n",
    "      [18,20,22,24]]\n",
    "\n",
    "sum_arr=[]\n",
    "for i in range(len(arr1)):\n",
    "    row=[]\n",
    "    for j in range(len(arr1[0])):\n",
    "        row.append(arr1[i][j]-arr2[i][j])\n",
    "    sum_arr.append(row)\n",
    "\n",
    "for row in sum_arr:\n",
    "   print(row)"
   ]
  },
  {
   "attachments": {},
   "cell_type": "markdown",
   "metadata": {},
   "source": [
    "## Multiplying an arrray"
   ]
  },
  {
   "cell_type": "code",
   "execution_count": 77,
   "metadata": {},
   "outputs": [
    {
     "name": "stdout",
     "output_type": "stream",
     "text": [
      "[2, 8, 18, 32]\n",
      "[50, 72, 98, 128]\n",
      "[162, 200, 242, 288]\n"
     ]
    }
   ],
   "source": [
    "arr1=[[1,2,3,4],\n",
    "      [5,6,7,8],\n",
    "      [9,10,11,12]]\n",
    "arr2=[[2,4,6,8],\n",
    "      [10,12,14,16],\n",
    "      [18,20,22,24]]\n",
    "sum_arr=[]\n",
    "for i in range(len(arr1)):\n",
    "    row=[]\n",
    "    for j in range(len(arr1[0])):\n",
    "        row.append(arr1[i][j] * arr2[i][j])\n",
    "    sum_arr.append(row)\n",
    "\n",
    "for row in sum_arr:\n",
    "  print(row)"
   ]
  },
  {
   "attachments": {},
   "cell_type": "markdown",
   "metadata": {},
   "source": [
    "## Multiplying an array by a scalar value"
   ]
  },
  {
   "cell_type": "code",
   "execution_count": 79,
   "metadata": {},
   "outputs": [
    {
     "name": "stdout",
     "output_type": "stream",
     "text": [
      "[2, 4, 6, 8]\n",
      "[10, 12, 14, 16]\n",
      "[18, 20, 22, 24]\n"
     ]
    }
   ],
   "source": [
    "arr1=[[1,2,3,4],\n",
    "      [5,6,7,8],\n",
    "      [9,10,11,12]]\n",
    "\n",
    "scalar=int(input(\"Enter a number: \"))\n",
    "\n",
    "for i in range(len(arr1)):\n",
    "    for j in range(len(arr1[0])):\n",
    "        arr1[i][j]*=scalar\n",
    "\n",
    "for row in arr1:\n",
    "    print(row)"
   ]
  },
  {
   "attachments": {},
   "cell_type": "markdown",
   "metadata": {},
   "source": [
    "## Slicing a 2D array"
   ]
  },
  {
   "cell_type": "code",
   "execution_count": 93,
   "metadata": {},
   "outputs": [
    {
     "ename": "TypeError",
     "evalue": "list indices must be integers or slices, not tuple",
     "output_type": "error",
     "traceback": [
      "\u001b[1;31m---------------------------------------------------------------------------\u001b[0m",
      "\u001b[1;31mTypeError\u001b[0m                                 Traceback (most recent call last)",
      "\u001b[1;32mc:\\Users\\uppada satwik\\Downloads\\INT215\\programs\\python\\arrays in python (notes).ipynb Cell 72\u001b[0m in \u001b[0;36m<cell line: 5>\u001b[1;34m()\u001b[0m\n\u001b[0;32m      <a href='vscode-notebook-cell:/c%3A/Users/uppada%20satwik/Downloads/INT215/programs/python/arrays%20in%20python%20%28notes%29.ipynb#Y145sZmlsZQ%3D%3D?line=0'>1</a>\u001b[0m arr1\u001b[39m=\u001b[39m[[\u001b[39m1\u001b[39m,\u001b[39m2\u001b[39m,\u001b[39m3\u001b[39m,\u001b[39m4\u001b[39m],\n\u001b[0;32m      <a href='vscode-notebook-cell:/c%3A/Users/uppada%20satwik/Downloads/INT215/programs/python/arrays%20in%20python%20%28notes%29.ipynb#Y145sZmlsZQ%3D%3D?line=1'>2</a>\u001b[0m       [\u001b[39m5\u001b[39m,\u001b[39m6\u001b[39m,\u001b[39m7\u001b[39m,\u001b[39m8\u001b[39m],\n\u001b[0;32m      <a href='vscode-notebook-cell:/c%3A/Users/uppada%20satwik/Downloads/INT215/programs/python/arrays%20in%20python%20%28notes%29.ipynb#Y145sZmlsZQ%3D%3D?line=2'>3</a>\u001b[0m       [\u001b[39m9\u001b[39m,\u001b[39m10\u001b[39m,\u001b[39m11\u001b[39m,\u001b[39m12\u001b[39m]]\n\u001b[1;32m----> <a href='vscode-notebook-cell:/c%3A/Users/uppada%20satwik/Downloads/INT215/programs/python/arrays%20in%20python%20%28notes%29.ipynb#Y145sZmlsZQ%3D%3D?line=4'>5</a>\u001b[0m new_arr\u001b[39m=\u001b[39marr1[:\u001b[39m2\u001b[39;49m, :\u001b[39m3\u001b[39;49m]\n\u001b[0;32m      <a href='vscode-notebook-cell:/c%3A/Users/uppada%20satwik/Downloads/INT215/programs/python/arrays%20in%20python%20%28notes%29.ipynb#Y145sZmlsZQ%3D%3D?line=6'>7</a>\u001b[0m \u001b[39mfor\u001b[39;00m row \u001b[39min\u001b[39;00m new_arr:\n\u001b[0;32m      <a href='vscode-notebook-cell:/c%3A/Users/uppada%20satwik/Downloads/INT215/programs/python/arrays%20in%20python%20%28notes%29.ipynb#Y145sZmlsZQ%3D%3D?line=7'>8</a>\u001b[0m     \u001b[39mprint\u001b[39m(row)\n",
      "\u001b[1;31mTypeError\u001b[0m: list indices must be integers or slices, not tuple"
     ]
    }
   ],
   "source": [
    "arr1=[[1,2,3,4],\n",
    "      [5,6,7,8],\n",
    "      [9,10,11,12]]\n",
    "\n",
    "new_arr=arr1[:2]\n",
    "\n",
    "for row in new_arr:\n",
    "    print(row)"
   ]
  },
  {
   "cell_type": "code",
   "execution_count": null,
   "metadata": {},
   "outputs": [],
   "source": []
  },
  {
   "cell_type": "code",
   "execution_count": null,
   "metadata": {},
   "outputs": [],
   "source": []
  },
  {
   "cell_type": "code",
   "execution_count": null,
   "metadata": {},
   "outputs": [],
   "source": []
  },
  {
   "cell_type": "code",
   "execution_count": null,
   "metadata": {},
   "outputs": [],
   "source": []
  },
  {
   "cell_type": "code",
   "execution_count": null,
   "metadata": {},
   "outputs": [],
   "source": []
  },
  {
   "cell_type": "code",
   "execution_count": null,
   "metadata": {},
   "outputs": [],
   "source": []
  },
  {
   "cell_type": "code",
   "execution_count": null,
   "metadata": {},
   "outputs": [],
   "source": []
  },
  {
   "cell_type": "code",
   "execution_count": null,
   "metadata": {},
   "outputs": [],
   "source": []
  },
  {
   "cell_type": "code",
   "execution_count": null,
   "metadata": {},
   "outputs": [],
   "source": []
  }
 ],
 "metadata": {
  "kernelspec": {
   "display_name": "Python 3",
   "language": "python",
   "name": "python3"
  },
  "language_info": {
   "codemirror_mode": {
    "name": "ipython",
    "version": 3
   },
   "file_extension": ".py",
   "mimetype": "text/x-python",
   "name": "python",
   "nbconvert_exporter": "python",
   "pygments_lexer": "ipython3",
   "version": "3.10.5"
  },
  "orig_nbformat": 4,
  "vscode": {
   "interpreter": {
    "hash": "26de051ba29f2982a8de78e945f0abaf191376122a1563185a90213a26c5da77"
   }
  }
 },
 "nbformat": 4,
 "nbformat_minor": 2
}
