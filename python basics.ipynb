{
 "cells": [
  {
   "cell_type": "markdown",
   "metadata": {},
   "source": [
    "# `PYTHON TUTORIAL`"
   ]
  },
  {
   "cell_type": "markdown",
   "metadata": {},
   "source": [
    "<B>Python is a popular programming language. It was created by Guido van Rossum, and released in 1991.\n",
    "\n",
    "- Python can be treated in a procedural way, an object-oriented way or a functional way.\n",
    "- Python relies on indentation, using whitespace, to define scope; such as the scope of loops, functions and classes. Other programming languages often use curly-brackets for this purpose.\n",
    "\n",
    "- `python --version`\n",
    "\n",
    "- Case Sensitive\n",
    "\n",
    "---"
   ]
  },
  {
   "cell_type": "markdown",
   "metadata": {},
   "source": [
    "## `Python Indentation`\n",
    "<b>\n",
    "Indentation refers to the spaces at the beginning of a code line.\n",
    "- uses to indicate a block of code. </b>\n",
    "\n",
    "---"
   ]
  },
  {
   "cell_type": "markdown",
   "metadata": {},
   "source": [
    "## `Varibles in Python`\n",
    "- <b>Variables are the containers for storing data values. They hold a reference to an object and provide a name by which this value can be accessed later."
   ]
  },
  {
   "cell_type": "markdown",
   "metadata": {},
   "source": [
    "- ### `Creating a Variable`\n",
    "  - <b>Python hase no command for declaring a variable.\n",
    "  - A variable is created the moment you first assign a value to it.\n",
    "  - They do not need to be declared with any particular type, and can change type after they have been set(by type casting).\n",
    "  - To create a new variable in python, simply use assignment (`=`) operator: x = 24\n"
   ]
  },
  {
   "cell_type": "code",
   "execution_count": 1,
   "metadata": {},
   "outputs": [
    {
     "name": "stdout",
     "output_type": "stream",
     "text": [
      "5\n",
      "john\n"
     ]
    }
   ],
   "source": [
    "x= 5\n",
    "y = \"john\"\n",
    "\n",
    "print(x)\n",
    "print(y)"
   ]
  },
  {
   "cell_type": "markdown",
   "metadata": {},
   "source": [
    "---"
   ]
  },
  {
   "cell_type": "markdown",
   "metadata": {},
   "source": [
    "## `Data types`\n",
    "\n",
    "| Data Type | Description                     |\n",
    "|-----------|---------------------------------|\n",
    "| int       | Integer values                  |\n",
    "| float     | Floating-point numbers          |\n",
    "| bool      | Boolean values (True or False)  |\n",
    "| str       | String values                   |\n",
    "| list      | Ordered, mutable sequences      |\n",
    "| tuple     | Ordered, immutable sequences    |\n",
    "| dict      | Key-value pairs                 |\n",
    "| set       | Unordered, mutable collections |\n",
    "| None      | Represents null or absence      |\n",
    "\n",
    "\n",
    "- **`INT, FLOAT, BOOL` are the fundamental data types in python.**\n",
    "\n",
    "- **while `str, list, tuple, dict, and set` are considered data structures in Python, they can still be considered as specific data types within the broader range of available data types in the language.**"
   ]
  },
  {
   "cell_type": "markdown",
   "metadata": {},
   "source": [
    "- `Type Casting`"
   ]
  },
  {
   "cell_type": "code",
   "execution_count": 2,
   "metadata": {},
   "outputs": [
    {
     "name": "stdout",
     "output_type": "stream",
     "text": [
      "3\n",
      "3\n",
      "3.0\n"
     ]
    }
   ],
   "source": [
    "x = str(3)\n",
    "y = int(3)\n",
    "z = float (3)\n",
    "print(x)\n",
    "print(y)\n",
    "print(z)"
   ]
  },
  {
   "cell_type": "markdown",
   "metadata": {},
   "source": [
    "- `Get the data type of a variable` - using type() function."
   ]
  },
  {
   "cell_type": "code",
   "execution_count": 3,
   "metadata": {},
   "outputs": [
    {
     "name": "stdout",
     "output_type": "stream",
     "text": [
      "<class 'str'>\n",
      "<class 'int'>\n",
      "<class 'float'>\n"
     ]
    }
   ],
   "source": [
    "print(type(x))\n",
    "print(type(y))\n",
    "print(type(z))"
   ]
  },
  {
   "cell_type": "markdown",
   "metadata": {},
   "source": [
    "## `SINGLE/DOUBLE QUOTES`"
   ]
  },
  {
   "cell_type": "code",
   "execution_count": 7,
   "metadata": {},
   "outputs": [
    {
     "name": "stdout",
     "output_type": "stream",
     "text": [
      "satwik ,  satwik uppada\n",
      "<class 'str'> ,  <class 'str'>\n"
     ]
    }
   ],
   "source": [
    "x = 'satwik'\n",
    "y = \"satwik uppada\"\n",
    "print(x,\", \",y)\n",
    "print(type(x),\", \",type(y))\n",
    "\n",
    "# You can observe that both give same type of output."
   ]
  },
  {
   "cell_type": "markdown",
   "metadata": {},
   "source": [
    "## `Case Sensitive`\n",
    " - Variable names are Case-sensitive."
   ]
  },
  {
   "cell_type": "code",
   "execution_count": 8,
   "metadata": {},
   "outputs": [
    {
     "name": "stdout",
     "output_type": "stream",
     "text": [
      "a:  4\n",
      "A:  Sally\n"
     ]
    }
   ],
   "source": [
    "a = 4\n",
    "A = \"Sally\"\n",
    "\n",
    "#A will not overwrite a\n",
    "\n",
    "print(\"a: \",a)\n",
    "print(\"A: \",A)"
   ]
  },
  {
   "cell_type": "markdown",
   "metadata": {},
   "source": [
    "## `Variable Names`\n",
    "\n",
    "**Rules for naming a variable.**\n",
    "- Must start with _ or letter.\n",
    "- Cannot start with number.\n",
    "- Can only contain alpha- numeric characters(A-Z,a-z,0-9) and underscore('_').\n",
    "- Variable names are Case- Sensitive.\n",
    "- Variable name cannot be any of the Python keywords."
   ]
  },
  {
   "cell_type": "markdown",
   "metadata": {},
   "source": [
    "<b>Multi values to variable names </b>\n",
    "- Camel Case\n",
    "  - `myVariableName` =\"satwik\"\n",
    "\n",
    "- Pascal Case\n",
    "  - `MyVariableName` = \"satwik\"\n",
    "\n",
    "- Snake Case\n",
    "  - `my_variable_name` = \"satwik\""
   ]
  },
  {
   "cell_type": "markdown",
   "metadata": {},
   "source": [
    "#### `Many values to multiple variables`"
   ]
  },
  {
   "cell_type": "code",
   "execution_count": 1,
   "metadata": {},
   "outputs": [
    {
     "name": "stdout",
     "output_type": "stream",
     "text": [
      "12 13 14\n"
     ]
    }
   ],
   "source": [
    "x,y,z = 12,13,14\n",
    "\n",
    "print(x, y, z)"
   ]
  },
  {
   "cell_type": "markdown",
   "metadata": {},
   "source": [
    "#### ` One Value to multiple variables`\n"
   ]
  },
  {
   "cell_type": "code",
   "execution_count": 2,
   "metadata": {},
   "outputs": [
    {
     "name": "stdout",
     "output_type": "stream",
     "text": [
      "satwik satwik satwik\n"
     ]
    }
   ],
   "source": [
    "x=y=z =\"satwik\"\n",
    "\n",
    "print(x, y, z)"
   ]
  },
  {
   "cell_type": "markdown",
   "metadata": {},
   "source": [
    "### `Unpacking a collection`"
   ]
  },
  {
   "cell_type": "code",
   "execution_count": 3,
   "metadata": {},
   "outputs": [
    {
     "name": "stdout",
     "output_type": "stream",
     "text": [
      "mango banana apple\n"
     ]
    }
   ],
   "source": [
    "fruits = ['mango', 'banana', 'apple']\n",
    "x,y,z = fruits\n",
    "\n",
    "print(x, y, z)"
   ]
  },
  {
   "cell_type": "markdown",
   "metadata": {},
   "source": [
    "#### `Using Asterisk`\n",
    "- It saves the list of words to a variable with asterisk."
   ]
  },
  {
   "cell_type": "code",
   "execution_count": 4,
   "metadata": {},
   "outputs": [
    {
     "name": "stdout",
     "output_type": "stream",
     "text": [
      "apple\n",
      "banana\n",
      "['cherry', 'strawberry', 'raspberry']\n"
     ]
    }
   ],
   "source": [
    "fruits = (\"apple\", \"banana\", \"cherry\", \"strawberry\", \"raspberry\")\n",
    "\n",
    "(green, yellow, *red) = fruits\n",
    "\n",
    "print(green)\n",
    "print(yellow)\n",
    "print(red)"
   ]
  },
  {
   "cell_type": "markdown",
   "metadata": {},
   "source": [
    "### `Python Global Variable`\n",
    "\n",
    "- Variables that are created outside of a function are known as global variables.\n",
    "- These variables can be used by everyone, both inside and oustside of the function.\n"
   ]
  },
  {
   "cell_type": "code",
   "execution_count": 6,
   "metadata": {},
   "outputs": [
    {
     "name": "stdout",
     "output_type": "stream",
     "text": [
      "satwik is a good boy\n"
     ]
    }
   ],
   "source": [
    "\n",
    "x = \"satwik\" # Act as global variable\n",
    "\n",
    "def myfunc():\n",
    "    print(x+ \" is a good boy\")\n",
    "\n",
    "myfunc()"
   ]
  },
  {
   "cell_type": "code",
   "execution_count": 7,
   "metadata": {},
   "outputs": [
    {
     "name": "stdout",
     "output_type": "stream",
     "text": [
      "lokesh is a good boy\n",
      "satwik is a good boy\n"
     ]
    }
   ],
   "source": [
    "\n",
    "x = \"satwik\" # outside of the fuction --> global variable\n",
    "\n",
    "def myfunc():\n",
    "    x=\"lokesh\"  # It is a local variable\n",
    "    print(x+ \" is a good boy\")\n",
    "\n",
    "myfunc()   # returns --> lokesh is a good boy\n",
    "\n",
    "print(x+ \" is a good boy\") # output: satwik is a good boy \n",
    "# --> becuase we intialize the variable outside so it is acting as global"
   ]
  },
  {
   "cell_type": "code",
   "execution_count": 9,
   "metadata": {},
   "outputs": [
    {
     "name": "stdout",
     "output_type": "stream",
     "text": [
      "satwik is a good boy\n"
     ]
    }
   ],
   "source": [
    "\n",
    "def myfunc():\n",
    "    global x  # used to create global variable\n",
    "    x = \"satwik\"  # accessed from any where (outside and inside) of the function.\n",
    "    \n",
    "\n",
    "myfunc()\n",
    "print(x+ \" is a good boy\")"
   ]
  },
  {
   "cell_type": "markdown",
   "metadata": {},
   "source": [
    "### `Python Data Types`"
   ]
  },
  {
   "cell_type": "markdown",
   "metadata": {},
   "source": [
    "Category | Data Types |\n",
    "|-----------|----------|\n",
    "Text Type |\tstr |\n",
    "Numeric Types|\tint, float, complex|\n",
    "Sequence Types|\tlist, tuple, range|\n",
    "Mapping Type|\tdict|\n",
    "Set Types |\tset, frozenset|\n",
    "Boolean Type|\tbool|\n",
    "Binary Types|\tbytes, bytearray, memoryview|\n",
    "None Type|\tNoneType|"
   ]
  },
  {
   "cell_type": "markdown",
   "metadata": {},
   "source": [
    "- In python data types are set when we assign a value to a variable.\n"
   ]
  },
  {
   "cell_type": "code",
   "execution_count": 18,
   "metadata": {},
   "outputs": [
    {
     "name": "stdout",
     "output_type": "stream",
     "text": [
      "Data Type of Hello world  : <class 'str'>\n",
      "\n",
      "Data Type of 15  : <class 'int'>\n",
      "\n",
      "Data Type of 15.2  : <class 'float'>\n",
      "\n",
      "Data Type of [1, 2, 3]  : <class 'list'>\n",
      "\n",
      "Data Type of (1, 2, 3)  : <class 'tuple'>\n",
      "\n",
      "Data Type of {'name': 'satwik', 'age': 20}  : <class 'dict'>\n",
      "\n",
      "Data Type of {1, 2, 3, 4, 5}  : <class 'set'>\n",
      "\n",
      "Data Type of frozenset({1, 2, 3, 4, 5})  : <class 'frozenset'>\n",
      "\n",
      "Data Type of b'Hello'  : <class 'bytes'>\n",
      "\n",
      "Data Type of bytearray(b'\\x00\\x00\\x00\\x00\\x00')  : <class 'bytearray'>\n",
      "\n",
      "Data Type of <memory at 0x000001E4AA5FFA00>  : <class 'memoryview'>\n",
      "\n",
      "Data Type of None  : <class 'NoneType'>\n",
      "\n"
     ]
    }
   ],
   "source": [
    "x = \"Hello world\"\n",
    "y = 15\n",
    "z = 15.2\n",
    "a = True\n",
    "\n",
    "l = [1,2,3]\n",
    "t = (1,2,3)\n",
    "d = {\"name\": \"satwik\", \"age\": 20}\n",
    "s = {1,2,3,4,5,2}\n",
    "fs = frozenset({1,2,3,4,5,2})\n",
    "\n",
    "b = b\"Hello\"\n",
    "ba = bytearray(5)\n",
    "mv = memoryview(bytes(5))\n",
    "N = None\n",
    "\n",
    "variables = [x, y, z, l, t, d, s, fs, b, ba, mv, N]\n",
    "for i in variables:\n",
    "    print(\"Data Type of {}  :\".format(i),type(i))\n",
    "    print()"
   ]
  },
  {
   "cell_type": "markdown",
   "metadata": {},
   "source": [
    "### `Python Numbers`\n",
    "\n",
    "There are three numeric types in Python:\n",
    "\n",
    "- int --> Whole numbers (+ive,-ive,without decimals, of unlimited length).\n",
    "  - x = 15  | x =123456789  | x =-12\n",
    "- float --> (-ve,+ve, containing one or more decimals, Scientific numbers with an e --> indicates power of 10).\n",
    "  - y = 15.2   | y= 15.23456789   | y = -12.5   | y = -8.7e100\n",
    "- complex  --> (written with j as the imaginary part)\n",
    "  - z = 3 + 5j  | z = 5j   | z = -5j\n",
    "\n",
    "---\n",
    "\n",
    "##### `Type conversion`\n",
    "\n",
    "we can convert \n",
    "- int to float  --> float()\n",
    "- float to int  --> int()\n",
    "- int to complex --> complex()\n",
    "- float to complex  --> complex()\n",
    "\n",
    "- **`BUT WE CAN'T CONVERT COMPLEX INTTO ANOTHER TYPE`**"
   ]
  },
  {
   "cell_type": "code",
   "execution_count": 20,
   "metadata": {},
   "outputs": [
    {
     "name": "stdout",
     "output_type": "stream",
     "text": [
      "1.0\n",
      "2\n",
      "(1+0j)\n",
      "(2.8+0j)\n",
      "<class 'float'>\n",
      "<class 'int'>\n",
      "<class 'complex'>\n",
      "<class 'complex'>\n"
     ]
    }
   ],
   "source": [
    "x = 1    # int\n",
    "y = 2.8  # float\n",
    "z = 1j   # complex\n",
    "\n",
    "#convert from int to float:\n",
    "a = float(x)\n",
    "\n",
    "#convert from float to int:\n",
    "b = int(y)\n",
    "\n",
    "#convert from int to complex:\n",
    "c = complex(x)\n",
    "\n",
    "#convert from float to complex:\n",
    "d = complex(y)\n",
    "\n",
    "print(a)\n",
    "print(b)\n",
    "print(c)\n",
    "print(d)\n",
    "\n",
    "print(type(a))\n",
    "print(type(b))\n",
    "print(type(c))\n",
    "print(type(d))"
   ]
  },
  {
   "cell_type": "markdown",
   "metadata": {},
   "source": [
    "### `PYTHON STRINGS`"
   ]
  },
  {
   "cell_type": "markdown",
   "metadata": {},
   "source": [
    "- Strings in python are surrounded by either single or double quotes."
   ]
  },
  {
   "cell_type": "code",
   "execution_count": 1,
   "metadata": {},
   "outputs": [
    {
     "name": "stdout",
     "output_type": "stream",
     "text": [
      "Hello\n",
      "Hello\n"
     ]
    }
   ],
   "source": [
    "print(\"Hello\")\n",
    "print('Hello')"
   ]
  },
  {
   "cell_type": "markdown",
   "metadata": {},
   "source": [
    "\n",
    "- you can assign a multiline string to a variable by using three quotes(double/\n",
    "single). --> The line breaks are inserted at the same position as in the code."
   ]
  },
  {
   "cell_type": "code",
   "execution_count": 2,
   "metadata": {},
   "outputs": [
    {
     "name": "stdout",
     "output_type": "stream",
     "text": [
      "Lorem ipsum dolor sit amet,\n",
      "consectetur adipiscing elit,\n",
      "sed do eiusmod tempor incididunt\n",
      "ut labore et dolore magna aliqua.\n"
     ]
    }
   ],
   "source": [
    "a = \"\"\"Lorem ipsum dolor sit amet,\n",
    "consectetur adipiscing elit,\n",
    "sed do eiusmod tempor incididunt\n",
    "ut labore et dolore magna aliqua.\"\"\"\n",
    "print(a)"
   ]
  },
  {
   "cell_type": "markdown",
   "metadata": {},
   "source": [
    "\n",
    "- Strings in python are arrays of bytes representing unicode characters.\n",
    "\n",
    "- we can use square brackets to access elements of string.\n",
    "\n",
    "\n",
    "\n"
   ]
  },
  {
   "cell_type": "code",
   "execution_count": 3,
   "metadata": {},
   "outputs": [
    {
     "name": "stdout",
     "output_type": "stream",
     "text": [
      "e\n"
     ]
    }
   ],
   "source": [
    "a = \"Hello, World!\"\n",
    "print(a[1])"
   ]
  },
  {
   "cell_type": "markdown",
   "metadata": {},
   "source": [
    "\n",
    "- since strings are arrys, we can loop through the characters in a string, with \n",
    "a for loop."
   ]
  },
  {
   "cell_type": "code",
   "execution_count": 4,
   "metadata": {},
   "outputs": [
    {
     "name": "stdout",
     "output_type": "stream",
     "text": [
      "b\n",
      "a\n",
      "n\n",
      "a\n",
      "n\n",
      "a\n"
     ]
    }
   ],
   "source": [
    "for x in \"banana\":\n",
    "  print(x)"
   ]
  },
  {
   "cell_type": "markdown",
   "metadata": {},
   "source": [
    "- Len() function returns the length of the string."
   ]
  },
  {
   "cell_type": "code",
   "execution_count": 5,
   "metadata": {},
   "outputs": [
    {
     "data": {
      "text/plain": [
       "13"
      ]
     },
     "execution_count": 5,
     "metadata": {},
     "output_type": "execute_result"
    }
   ],
   "source": [
    "len(a) # H E L L O , _ W O  R  L  D  !\n",
    "#        1 2 3 4 5 6 7 8 9 10 11 12 13  -->7 is SPACE is also consider as a character in string."
   ]
  },
  {
   "cell_type": "markdown",
   "metadata": {},
   "source": [
    "- we can check the phrase or a charater in a string using `in` keyword."
   ]
  },
  {
   "cell_type": "code",
   "execution_count": 6,
   "metadata": {},
   "outputs": [
    {
     "name": "stdout",
     "output_type": "stream",
     "text": [
      "True\n",
      "False\n"
     ]
    }
   ],
   "source": [
    "txt = \"satwik is a good boy\"\n",
    "print(\"boy\" in txt) # present in string so TRUE\n",
    "print(\"lokesh\" in txt) # not Present in string so FALSE."
   ]
  },
  {
   "cell_type": "markdown",
   "metadata": {},
   "source": [
    "- we can check the phrase or character not present in a string using `not in` keyword.\n"
   ]
  },
  {
   "cell_type": "code",
   "execution_count": 7,
   "metadata": {},
   "outputs": [
    {
     "name": "stdout",
     "output_type": "stream",
     "text": [
      "False\n",
      "True\n"
     ]
    }
   ],
   "source": [
    "txt = \"satwik is a good boy\"\n",
    "print(\"boy\" not in txt) # present in string so False\n",
    "print(\"lokesh\" not in txt) # not Present in string so TRUE."
   ]
  },
  {
   "cell_type": "markdown",
   "metadata": {},
   "source": [
    "### Python Slicing\n",
    "\n",
    "- you can return a range of characters by using the slice syntax.\n",
    "\n",
    "1. Slice a string to get substring - Syntax : `variable_name[start:end] `-->where start is inclusive and end is exclusive.\n",
    "\n",
    "2. `Varable_name [start:stop:step]` ->step specifies the interval between start and stop to include in the slice."
   ]
  },
  {
   "cell_type": "code",
   "execution_count": 5,
   "metadata": {},
   "outputs": [
    {
     "name": "stdout",
     "output_type": "stream",
     "text": [
      "sathvi\n",
      "boy\n",
      "a boy from NoWhere.\n",
      "NoWhere\n",
      "av,\n",
      "ahi,\n",
      ".erehWoN morf yob a ,kivhtas\n"
     ]
    }
   ],
   "source": [
    "a = \"sathvik, a boy from NoWhere.\"\n",
    "\n",
    "# --------------------------------------------------------------------------------------------------------------------------------------------------------\n",
    "'''Slice from start'''\n",
    "print(a[:6])  # 6 not included --> only from 0(empty space consiser as 0) to 5th index.\n",
    "# Output: sathvi\n",
    "\n",
    "'''Slice the substring'''\n",
    "print(a[11:14])  # 14 is exclusive and print from 11-13 (11 as start, 13 as end).\n",
    "# Output:boy\n",
    "\n",
    "'''Slice to the end'''\n",
    "print(a[9:]) # from 9 to end of the string --> empty space at end results to entire string from start index.\n",
    "#Output: a boy from NoWhere.\n",
    "\n",
    "'''Slicing with negetive indexing'''\n",
    "print(a[-8:-1]) #Negetive indexing --> -1 to -8 positions will print \n",
    "'''\n",
    "From back side the index starts from -1.\n",
    "From front side the index starts from 0.\n",
    "'''\n",
    "\n",
    "'''Get every third character starting from index 1 until index 7'''\n",
    "print(a[1:8:3])\n",
    "\n",
    "\n",
    "'''Reversing a string'''\n",
    "print(a[::-1]) #Reversing the entire string. (negetive stepping)"
   ]
  },
  {
   "cell_type": "markdown",
   "metadata": {},
   "source": [
    "#### Build in method in string."
   ]
  },
  {
   "cell_type": "code",
   "execution_count": 1,
   "metadata": {},
   "outputs": [
    {
     "name": "stdout",
     "output_type": "stream",
     "text": [
      " ARJUN, A GENTLEMAN WITH GOLDEN HEART \n",
      " arjun, a gentleman with golden heart \n",
      "arjun, a GentleMan with Golden Heart\n",
      " Arjun, A GentleMAn with Golden HeArt \n",
      "[' arjun', ' a GentleMan with Golden Heart ']\n"
     ]
    }
   ],
   "source": [
    "a = \" arjun, a GentleMan with Golden Heart \"\n",
    "'''Upper case'''\n",
    "print(a.upper())        # convert text to uppercase\n",
    "\n",
    "'''lower case'''\n",
    "print(a.lower())        # convert text to lowercase (all the characters)\n",
    "\n",
    "'''Remove whitespace'''\n",
    "print(a.strip())         # remove white space from beginnig or ending\n",
    "\n",
    "'''Replace string'''\n",
    "print(a.replace(\"a\",\"A\"))  # Replace the spectific character \n",
    "\n",
    "'''Split string'''\n",
    "print(a.split(\",\"))         # split the string at specific value given in this method parameter.\n"
   ]
  },
  {
   "cell_type": "code",
   "execution_count": 5,
   "metadata": {},
   "outputs": [
    {
     "name": "stdout",
     "output_type": "stream",
     "text": [
      "Hello World\n",
      "Hello World\n",
      "Hello World\n"
     ]
    }
   ],
   "source": [
    "\"\"\" Concatenation using + operater \"\"\"\n",
    "a = \"Hello\"\n",
    "b = \"World\"\n",
    "\n",
    "c = a +\" \"+ b\n",
    "print(c)\n",
    "\n",
    "\n",
    "'''Using f'strings'''\n",
    "c = f\"{a} {b}\"\n",
    "print(c)\n",
    "\n",
    "'''using the str.format'''\n",
    "c = \"{} {}\".format(a,b)\n",
    "print(c)"
   ]
  },
  {
   "cell_type": "markdown",
   "metadata": {},
   "source": [
    "| Method                | Description                                                       | Example                                              |\n",
    "|-----------------------|-------------------------------------------------------------------|------------------------------------------------------|\n",
    "| `str.capitalize()`    | Returns a copy of the string with the first character capitalized | `\"hello\".capitalize()` => `\"Hello\"`                  |\n",
    "| `str.upper()`         | Returns a copy of the string converted to uppercase               | `\"hello\".upper()` => `\"HELLO\"`                       |\n",
    "| `str.lower()`         | Returns a copy of the string converted to lowercase               | `\"HELLO\".lower()` => `\"hello\"`                       |\n",
    "| `str.strip()`         | Returns a copy of the string with leading and trailing whitespace removed | `\"  hello  \".strip()` => `\"hello\"`              |\n",
    "| `str.startswith(prefix)` | Returns `True` if the string starts with the specified prefix, otherwise `False` | `\"hello\".startswith(\"he\")` => `True`          |\n",
    "| `str.endswith(suffix)`   | Returns `True` if the string ends with the specified suffix, otherwise `False` | `\"hello\".endswith(\"lo\")` => `True`             |\n",
    "| `str.replace(old, new)`  | Returns a copy of the string with all occurrences of `old` replaced by `new` | `\"hello\".replace(\"e\", \"i\")` => `\"hillo\"`      |\n",
    "| `str.split(sep=None, maxsplit=-1)` | Returns a list of substrings separated by the given separator `sep` | `\"hello world\".split()` => `[\"hello\", \"world\"]` |\n",
    "| `str.join(iterable)`   | Concatenates elements of an iterable with the string as a separator | `\" \".join([\"hello\", \"world\"])` => `\"hello world\"` |\n",
    "| `str.find(sub)`        | Returns the lowest index in the string where substring `sub` is found, or `-1` if not found | `\"hello\".find(\"lo\")` => `3`                   |\n",
    "| `str.count(sub)`       | Returns the number of non-overlapping occurrences of substring `sub` in the string | `\"hello hello\".count(\"lo\")` => `2`            |\n",
    "| `str.isalnum()`        | Returns `True` if all characters in the string are alphanumeric (letters or digits), otherwise `False` | `\"hello123\".isalnum()` => `True`           |\n",
    "| `str.isdigit()`        | Returns `True` if all characters in the string are digits, otherwise `False` | `\"123\".isdigit()` => `True`                 |\n",
    "| `str.isalpha()`        | Returns `True` if all characters in the string are alphabetic (letters), otherwise `False` | `\"hello\".isalpha()` => `True`               |\n",
    "| `str.islower()`        | Returns `True` if all alphabetic characters in the string are lowercase, otherwise `False` | `\"hello\".islower()` => `True`               |\n",
    "| `str.isupper()`        | Returns `True` if all alphabetic characters in the string are uppercase, otherwise `False` | `\"HELLO\".isupper()` => `True`               |\n",
    "| `str.isspace()`        | Returns `True` if all characters in the string are whitespace, otherwise `False` | `\"   \".isspace()` => `True`                 |\n"
   ]
  },
  {
   "cell_type": "code",
   "execution_count": 6,
   "metadata": {},
   "outputs": [
    {
     "name": "stdout",
     "output_type": "stream",
     "text": [
      "Capitalized:   hello, world!  \n",
      "Uppercase:   HELLO, WORLD!  \n",
      "Lowercase:   hello, world!  \n",
      "Stripped: Hello, World!\n",
      "Starts with 'Hello'? False\n",
      "Ends with 'World!'? False\n",
      "Replaced:   Hello, Universe!  \n",
      "Split: ['Hello,', 'World!']\n",
      "Joined: Hello, World!\n",
      "Index of 'World': 9\n",
      "Count of 'l': 3\n",
      "Is alphanumeric? False\n",
      "Is digit? False\n",
      "Is alpha? False\n",
      "Is lower? False\n",
      "Is upper? False\n",
      "Is space? False\n"
     ]
    }
   ],
   "source": [
    "# Original string\n",
    "original_string = \"  Hello, World!  \"\n",
    "\n",
    "# 1. Capitalize the string\n",
    "capitalized_string = original_string.capitalize()\n",
    "print(\"Capitalized:\", capitalized_string)  # Output: Capitalized:   hello, world!  \n",
    "\n",
    "# 2. Convert to uppercase\n",
    "uppercase_string = original_string.upper()\n",
    "print(\"Uppercase:\", uppercase_string)  # Output: Uppercase:   HELLO, WORLD!  \n",
    "\n",
    "# 3. Convert to lowercase\n",
    "lowercase_string = original_string.lower()\n",
    "print(\"Lowercase:\", lowercase_string)  # Output: Lowercase:   hello, world!  \n",
    "\n",
    "# 4. Strip leading and trailing whitespace\n",
    "stripped_string = original_string.strip()\n",
    "print(\"Stripped:\", stripped_string)  # Output: Stripped: Hello, World!\n",
    "\n",
    "# 5. Check if string starts with a prefix\n",
    "starts_with_hello = original_string.startswith(\"Hello\")\n",
    "print(\"Starts with 'Hello'?\", starts_with_hello)  # Output: Starts with 'Hello'? False\n",
    "\n",
    "# 6. Check if string ends with a suffix\n",
    "ends_with_world = original_string.endswith(\"World!\")\n",
    "print(\"Ends with 'World!'?\", ends_with_world)  # Output: Ends with 'World!'? False\n",
    "\n",
    "# 7. Replace substring\n",
    "replaced_string = original_string.replace(\"World\", \"Universe\")\n",
    "print(\"Replaced:\", replaced_string)  # Output: Replaced:   Hello, Universe!  \n",
    "\n",
    "# 8. Split string by whitespace\n",
    "split_string = original_string.split()\n",
    "print(\"Split:\", split_string)  # Output: Split: ['Hello,', 'World!']\n",
    "\n",
    "# 9. Join list of strings\n",
    "joined_string = \" \".join(split_string)\n",
    "print(\"Joined:\", joined_string)  # Output: Joined: Hello, World!\n",
    "\n",
    "# 10. Find substring\n",
    "index_of_world = original_string.find(\"World\")\n",
    "print(\"Index of 'World':\", index_of_world)  # Output: Index of 'World': 8\n",
    "\n",
    "# 11. Count occurrences of substring\n",
    "count_of_l = original_string.count(\"l\")\n",
    "print(\"Count of 'l':\", count_of_l)  # Output: Count of 'l': 3\n",
    "\n",
    "# 12. Check if string is alphanumeric\n",
    "is_alphanumeric = original_string.isalnum()\n",
    "print(\"Is alphanumeric?\", is_alphanumeric)  # Output: Is alphanumeric? False\n",
    "\n",
    "# 13. Check if string is composed of digits\n",
    "is_digit = original_string.isdigit()\n",
    "print(\"Is digit?\", is_digit)  # Output: Is digit? False\n",
    "\n",
    "# 14. Check if string is composed of alphabetic characters\n",
    "is_alpha = original_string.isalpha()\n",
    "print(\"Is alpha?\", is_alpha)  # Output: Is alpha? False\n",
    "\n",
    "# 15. Check if string is in lowercase\n",
    "is_lower = original_string.islower()\n",
    "print(\"Is lower?\", is_lower)  # Output: Is lower? False\n",
    "\n",
    "# 16. Check if string is in uppercase\n",
    "is_upper = original_string.isupper()\n",
    "print(\"Is upper?\", is_upper)  # Output: Is upper? False\n",
    "\n",
    "# 17. Check if string is composed of whitespace characters\n",
    "is_space = original_string.isspace()\n",
    "print(\"Is space?\", is_space)  # Output: Is space? False\n"
   ]
  },
  {
   "cell_type": "markdown",
   "metadata": {},
   "source": [
    "### Booleans\n",
    "- Represents one of two values: True or False\n",
    "- Any string is True, except empty strings.\n",
    "\n",
    "- Any number is True, except 0.\n",
    "\n",
    "- Any list, tuple, set, and dictionary are True, except empty ones."
   ]
  },
  {
   "cell_type": "code",
   "execution_count": 2,
   "metadata": {},
   "outputs": [
    {
     "name": "stdout",
     "output_type": "stream",
     "text": [
      "True\n",
      "True\n",
      "True\n"
     ]
    }
   ],
   "source": [
    "print(bool(\"abc\"))\n",
    "print(bool(123))\n",
    "print(bool([\"apple\", \"cherry\", \"banana\"]))"
   ]
  },
  {
   "cell_type": "code",
   "execution_count": 3,
   "metadata": {},
   "outputs": [
    {
     "name": "stdout",
     "output_type": "stream",
     "text": [
      "False\n",
      "False\n",
      "False\n",
      "False\n",
      "False\n",
      "False\n",
      "False\n"
     ]
    }
   ],
   "source": [
    "print(bool(False))\n",
    "print(bool(None))\n",
    "print(bool(0))\n",
    "print(bool(\"\"))\n",
    "print(bool(()))\n",
    "print(bool([]))\n",
    "print(bool({}))"
   ]
  },
  {
   "cell_type": "markdown",
   "metadata": {},
   "source": [
    "---\n",
    "\n",
    "### `Operaters in Python`"
   ]
  },
  {
   "cell_type": "markdown",
   "metadata": {},
   "source": [
    "| Operator       | Description                                 | Example                |\n",
    "|----------------|---------------------------------------------|------------------------|\n",
    "| Arithmetic     | Perform mathematical operations             | `+, -, *, /, %, **`    |\n",
    "| Comparison     | Compare values                              | `==, !=, <, >, <=, >=` |\n",
    "| Assignment     | Assign values                               | `=, +=, -=, *=, /=`    |\n",
    "| Logical        | Perform logical operations                  | `and, or, not`         |\n",
    "| Bitwise        | Perform bitwise operations                  | `&, \\|, ^, ~, <<, >>`    |\n",
    "| Membership     | Test for membership in a sequence           | `in, not in`           |\n",
    "| Identity       | Compare object identities                   | `is, is not`           |\n",
    "\n"
   ]
  },
  {
   "cell_type": "code",
   "execution_count": 7,
   "metadata": {},
   "outputs": [
    {
     "name": "stdout",
     "output_type": "stream",
     "text": [
      "Arithmetic Operators:\n",
      "-------------------------\n",
      "Addition: 13\n",
      "Subtraction: 7\n",
      "Multiplication: 30\n",
      "Division: 3.3333333333333335\n",
      "Modulus: 1\n",
      "Exponentiation: 1000\n"
     ]
    }
   ],
   "source": [
    "\n",
    "# Arithmetic Operators\n",
    "x = 10\n",
    "y = 3\n",
    "print(\"Arithmetic Operators:\")\n",
    "print(\"-------------------------\")\n",
    "print(\"Addition:\", x + y)        # Output: Addition: 13\n",
    "print(\"Subtraction:\", x - y)     # Output: Subtraction: 7\n",
    "print(\"Multiplication:\", x * y)  # Output: Multiplication: 30\n",
    "print(\"Division:\", x / y)        # Output: Division: 3.3333333333333335\n",
    "print(\"Modulus:\", x % y)         # Output: Modulus: 1\n",
    "print(\"Exponentiation:\", x ** y) # Output: Exponentiation: 1000"
   ]
  },
  {
   "cell_type": "code",
   "execution_count": 6,
   "metadata": {},
   "outputs": [
    {
     "name": "stdout",
     "output_type": "stream",
     "text": [
      "\n",
      "Comparison Operators:\n",
      "-------------------------\n",
      "Equal to: False\n",
      "Not equal to: True\n",
      "Greater than: True\n",
      "Less than: False\n",
      "Greater than or equal to: True\n",
      "Less than or equal to: False\n"
     ]
    }
   ],
   "source": [
    "# Comparison Operators\n",
    "a = 10\n",
    "b = 5\n",
    "print(\"\\nComparison Operators:\")\n",
    "print(\"-------------------------\")\n",
    "print(\"Equal to:\", a == b)     # Output: Equal to: False\n",
    "print(\"Not equal to:\", a != b) # Output: Not equal to: True\n",
    "print(\"Greater than:\", a > b)  # Output: Greater than: True\n",
    "print(\"Less than:\", a < b)     # Output: Less than: False\n",
    "print(\"Greater than or equal to:\", a >= b)  # Output: Greater than or equal to: True\n",
    "print(\"Less than or equal to:\", a <= b)     # Output: Less than or equal to: False\n"
   ]
  },
  {
   "cell_type": "code",
   "execution_count": 13,
   "metadata": {},
   "outputs": [
    {
     "name": "stdout",
     "output_type": "stream",
     "text": [
      "\n",
      "Assignment Operators:\n",
      "-------------------------\n",
      "Assignment with addition: 15\n",
      "Assignment with addition: 10\n",
      "Assignment with addition: 50\n",
      "Assignment with addition: 10.0\n"
     ]
    }
   ],
   "source": [
    "# Assignment Operators\n",
    "c = 10\n",
    "print(\"\\nAssignment Operators:\")\n",
    "print(\"-------------------------\")\n",
    "c += 5\n",
    "print(\"Assignment with addition:\",c)  # Output: Assignment with addition: 15\n",
    "\n",
    "c -= 5\n",
    "print(\"Assignment with addition:\",c)  # Output: Assignment with subtraction: 10\n",
    "\n",
    "\n",
    "c *= 5\n",
    "print(\"Assignment with addition:\",c)  # Output: Assignment with multiply: 50\n",
    "\n",
    "c /= 5\n",
    "print(\"Assignment with addition:\",c)  # Output: Assignment with division: 10.0\n"
   ]
  },
  {
   "cell_type": "code",
   "execution_count": 14,
   "metadata": {},
   "outputs": [
    {
     "name": "stdout",
     "output_type": "stream",
     "text": [
      "\n",
      "Logical Operators:\n",
      "-------------------------\n",
      "AND: False\n",
      "OR: True\n",
      "NOT p: False\n"
     ]
    }
   ],
   "source": [
    "# Logical Operators\n",
    "p = True\n",
    "q = False\n",
    "print(\"\\nLogical Operators:\")\n",
    "print(\"-------------------------\")\n",
    "print(\"AND:\", p and q)   # Output: AND: False\n",
    "print(\"OR:\", p or q)     # Output: OR: True\n",
    "print(\"NOT p:\", not p)   # Output: NOT p: False"
   ]
  },
  {
   "cell_type": "code",
   "execution_count": 15,
   "metadata": {},
   "outputs": [
    {
     "name": "stdout",
     "output_type": "stream",
     "text": [
      "\n",
      "Bitwise Operators:\n",
      "Bitwise AND: 0\n",
      "Bitwise OR: 14\n",
      "Bitwise XOR: 14\n",
      "Bitwise NOT m: -11\n",
      "Bitwise Left Shift: 20\n",
      "Bitwise Right Shift: 5\n"
     ]
    }
   ],
   "source": [
    "# Bitwise Operators\n",
    "m = 10  # Binary: 1010\n",
    "n = 4   # Binary: 0100\n",
    "print(\"\\nBitwise Operators:\")\n",
    "print(\"-------------------------\")\n",
    "print(\"Bitwise AND:\", m & n)   # Output: Bitwise AND: 0\n",
    "print(\"Bitwise OR:\", m | n)    # Output: Bitwise OR: 14\n",
    "print(\"Bitwise XOR:\", m ^ n)   # Output: Bitwise XOR: 14\n",
    "print(\"Bitwise NOT m:\", ~m)    # Output: Bitwise NOT m: -11\n",
    "print(\"Bitwise Left Shift:\", m << 1)  # Output: Bitwise Left Shift: 20\n",
    "print(\"Bitwise Right Shift:\", m >> 1) # Output: Bitwise Right Shift: 5\n"
   ]
  },
  {
   "cell_type": "code",
   "execution_count": 16,
   "metadata": {},
   "outputs": [
    {
     "name": "stdout",
     "output_type": "stream",
     "text": [
      "\n",
      "Identity Operators:\n",
      "-------------------------\n",
      "is: True\n",
      "is not: True\n"
     ]
    }
   ],
   "source": [
    "# Identity Operators\n",
    "x = 5\n",
    "y = x\n",
    "z = 6\n",
    "print(\"\\nIdentity Operators:\")\n",
    "print(\"-------------------------\")\n",
    "print(\"is:\", x is y)      # Output: is: True\n",
    "print(\"is not:\", x is not z)  # Output: is not: True"
   ]
  },
  {
   "cell_type": "markdown",
   "metadata": {},
   "source": [
    "---"
   ]
  },
  {
   "cell_type": "markdown",
   "metadata": {},
   "source": [
    "# ` Differences`\n",
    "\n",
    "\n",
    "| Feature         | Lists                                | Tuples                                   | Dictionaries                            | Sets                                 |\n",
    "|-----------------|--------------------------------------|------------------------------------------|-----------------------------------------|--------------------------------------|\n",
    "| **Mutability**  | Mutable                              | Immutable                                | Mutable                                 | Mutable                              |\n",
    "| **Ordered**     | Ordered                              | Ordered                                  | Unordered                               | Unordered                            |\n",
    "| **Indexing**    | Indexed (by position)                | Indexed (by position)                    | Indexed (by key)                        | Not indexed                         |\n",
    "| **Duplicates**  | Allows duplicates                    | Allows duplicates                        | No duplicates                           | No duplicates                       |\n",
    "| **Syntax**      | Square brackets `[]`                 | Parentheses `()`                         | Curly braces `{}`                       | Curly braces `{}`                   |\n",
    "| **Creation**    | `[1, 2, 3]` or list() constructer                         | `(1, 2, 3)`                               | `{'key1': 'value1', 'key2': 'value2'}` or  dict() constructer | `{1, 2, 3}`   or  set constructer()                      |\n",
    "| **Example**     | `my_list = [1, 2, 3]`                | `my_tuple = (1, 2, 3)`                   | `my_dict = {'name': 'John', 'age': 30}` | `my_set = {1, 2, 3}`               |\n",
    "| **Access**      | `my_list[0]`                         | `my_tuple[0]`                            | `my_dict['name']`                       | Not applicable                      |\n",
    "| **Iteration**   | Iterates over elements               | Iterates over elements                   | Iterates over keys/values               | Iterates over elements              |\n",
    "| **Operations**  | Support various operations           | Limited operations                       | Support various operations              | Support various operations          |\n",
    "| **Use case**    | When you need a collection of items | When you need an immutable collection   | When you need key-value pairs           | When you need unique elements       |\n",
    "| **Example**     | `[1, 'apple', True]`                 | `(1, 'apple', True)`                     | `{'name': 'John', 'age': 30}`           | `{1, 2, 3}`                         |\n"
   ]
  },
  {
   "cell_type": "markdown",
   "metadata": {},
   "source": [
    "---"
   ]
  },
  {
   "cell_type": "markdown",
   "metadata": {},
   "source": [
    "### `List Comprehensions`\n",
    "<b>\n",
    "- List comprehension offers a shorter syntax when you want to create a new list based on the values of an existing list.</b>\n",
    "\n",
    "- **`newlist` = [expression for item in iterable if condition == True]**\n",
    "\n",
    "- **`nested_list` = [exp for item1 in iterable1 if cond1\n",
    "            for item2 in iterable2 if cond2\n",
    "            ...\n",
    "            for itemN in iterableN if condN]**"
   ]
  },
  {
   "cell_type": "code",
   "execution_count": 5,
   "metadata": {},
   "outputs": [],
   "source": [
    "fruits = ['apples','bananas','strawbarries']"
   ]
  },
  {
   "cell_type": "code",
   "execution_count": 6,
   "metadata": {},
   "outputs": [
    {
     "name": "stdout",
     "output_type": "stream",
     "text": [
      "apples\n",
      "bananas\n",
      "strawbarries\n"
     ]
    }
   ],
   "source": [
    "\n",
    "'''using for loop'''\n",
    "for fruit in fruits:\n",
    "    print(fruit)\n"
   ]
  },
  {
   "cell_type": "code",
   "execution_count": 11,
   "metadata": {},
   "outputs": [
    {
     "data": {
      "text/plain": [
       "['APPLES', 'BANANAS', 'STRAWBARRIES']"
      ]
     },
     "execution_count": 11,
     "metadata": {},
     "output_type": "execute_result"
    }
   ],
   "source": [
    "\n",
    "'''using list comprehension'''\n",
    "new_list = [fruit.upper() for fruit in fruits]\n",
    "new_list\n"
   ]
  },
  {
   "cell_type": "code",
   "execution_count": 14,
   "metadata": {},
   "outputs": [
    {
     "name": "stdout",
     "output_type": "stream",
     "text": [
      "Hello My Name Is Satwik\n"
     ]
    }
   ],
   "source": [
    "\n",
    "'''using list comprehension'''\n",
    "my_string = \"HelloMyNameIsSatwik\"\n",
    "my_string =\"\".join( [i if i.islower() else \" \"+i for i in my_string] )[1:]\n",
    "print(my_string)"
   ]
  },
  {
   "cell_type": "markdown",
   "metadata": {},
   "source": [
    "**`we can't use elif in list comprehension`**\n"
   ]
  },
  {
   "cell_type": "code",
   "execution_count": 20,
   "metadata": {},
   "outputs": [
    {
     "name": "stdout",
     "output_type": "stream",
     "text": [
      "{'satwik': 'cse student', 'lokesh': 'bipc student', 'pardhi': 'be a student'}\n"
     ]
    }
   ],
   "source": [
    "\n",
    "names = ['satwik','lokesh','pardhi']\n",
    "roles = ['cse student','bipc student','be a student']\n",
    "\n",
    "my_dict ={}\n",
    "for key,value in zip(names,roles):\n",
    "    my_dict[key] = value\n",
    "\n",
    "print(my_dict)\n",
    "\n"
   ]
  },
  {
   "cell_type": "code",
   "execution_count": 25,
   "metadata": {},
   "outputs": [
    {
     "data": {
      "text/plain": [
       "{'satwik': 'cse student', 'lokesh': 'bipc student', 'pardhi': 'be a student'}"
      ]
     },
     "execution_count": 25,
     "metadata": {},
     "output_type": "execute_result"
    }
   ],
   "source": [
    "\n",
    "'''ZIP APPROACH'''\n",
    "my_dict = {key: value for key,value in zip(names,roles)}\n",
    "my_dict"
   ]
  },
  {
   "cell_type": "code",
   "execution_count": 24,
   "metadata": {},
   "outputs": [
    {
     "data": {
      "text/plain": [
       "{'satwik': 'cse student', 'lokesh': 'bipc student', 'pardhi': 'be a student'}"
      ]
     },
     "execution_count": 24,
     "metadata": {},
     "output_type": "execute_result"
    }
   ],
   "source": [
    "\n",
    "'''RANGE APPROACH'''\n",
    "{ names[i]:roles[i] for i in range(len(names)) }"
   ]
  },
  {
   "cell_type": "code",
   "execution_count": null,
   "metadata": {},
   "outputs": [],
   "source": [
    "\n"
   ]
  }
 ],
 "metadata": {
  "kernelspec": {
   "display_name": "Python 3",
   "language": "python",
   "name": "python3"
  },
  "language_info": {
   "codemirror_mode": {
    "name": "ipython",
    "version": 3
   },
   "file_extension": ".py",
   "mimetype": "text/x-python",
   "name": "python",
   "nbconvert_exporter": "python",
   "pygments_lexer": "ipython3",
   "version": "3.10.5"
  }
 },
 "nbformat": 4,
 "nbformat_minor": 2
}
