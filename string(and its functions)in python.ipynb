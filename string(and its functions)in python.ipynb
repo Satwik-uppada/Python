{
 "cells": [
  {
   "cell_type": "code",
   "execution_count": 1,
   "metadata": {},
   "outputs": [],
   "source": [
    "string=\"In this we will see how string works in python and how its inbuilt functions useful in minimize our time according to our requirement\""
   ]
  },
  {
   "cell_type": "code",
   "execution_count": 7,
   "metadata": {},
   "outputs": [
    {
     "name": "stdout",
     "output_type": "stream",
     "text": [
      "In this we will see how string works in python and how its inbuilt functions useful in minimize our time according to our requirement\n"
     ]
    }
   ],
   "source": [
    "print(string)"
   ]
  },
  {
   "attachments": {},
   "cell_type": "markdown",
   "metadata": {},
   "source": [
    "# Basic functions"
   ]
  },
  {
   "attachments": {},
   "cell_type": "markdown",
   "metadata": {},
   "source": [
    "len() - returns the length of the string.<br>\n",
    "str() - converts an object to a string representation.<br>\n",
    "lower() - returns each character of a string in lowercase.<br>\n",
    "upper() - returns each character of a string in  uppercase.<br>\n",
    "str.replace(old, new) - replaces all occurrences of old with new in the string.<br>\n",
    "str.strip() - removes whitespaces from the beginning and end of a string.<br>\n",
    "str.split() - splits the string into a list of substrings based on a separator.<br>\n",
    "str.format() - formats a string using placeholders.<br>\n",
    "str.join() - concatenates a list of strings with the string acting as a separator.<br>\n",
    "str.isdigit() - returns True if all characters in the string are digits.<br>"
   ]
  },
  {
   "cell_type": "code",
   "execution_count": 3,
   "metadata": {},
   "outputs": [
    {
     "data": {
      "text/plain": [
       "133"
      ]
     },
     "execution_count": 3,
     "metadata": {},
     "output_type": "execute_result"
    }
   ],
   "source": [
    "len(string)"
   ]
  },
  {
   "cell_type": "code",
   "execution_count": 10,
   "metadata": {},
   "outputs": [
    {
     "data": {
      "text/plain": [
       "'in this we will see how string works in python and how its inbuilt functions useful in minimize our time according to our requirement'"
      ]
     },
     "execution_count": 10,
     "metadata": {},
     "output_type": "execute_result"
    }
   ],
   "source": [
    "string.lower()"
   ]
  },
  {
   "cell_type": "code",
   "execution_count": 11,
   "metadata": {},
   "outputs": [
    {
     "data": {
      "text/plain": [
       "'IN THIS WE WILL SEE HOW STRING WORKS IN PYTHON AND HOW ITS INBUILT FUNCTIONS USEFUL IN MINIMIZE OUR TIME ACCORDING TO OUR REQUIREMENT'"
      ]
     },
     "execution_count": 11,
     "metadata": {},
     "output_type": "execute_result"
    }
   ],
   "source": [
    "string.upper()"
   ]
  },
  {
   "cell_type": "code",
   "execution_count": 19,
   "metadata": {},
   "outputs": [
    {
     "data": {
      "text/plain": [
       "'    IN this we will see how string works in python and how its inbuilt functions useful in minimize our time according to our requirement'"
      ]
     },
     "execution_count": 19,
     "metadata": {},
     "output_type": "execute_result"
    }
   ],
   "source": [
    "string.replace(\"In\",\"    IN\")"
   ]
  },
  {
   "cell_type": "code",
   "execution_count": 20,
   "metadata": {},
   "outputs": [
    {
     "data": {
      "text/plain": [
       "'In this we will see how string works in python and how its inbuilt functions useful in minimize our time according to our requirement'"
      ]
     },
     "execution_count": 20,
     "metadata": {},
     "output_type": "execute_result"
    }
   ],
   "source": [
    "string.strip()"
   ]
  },
  {
   "cell_type": "code",
   "execution_count": 21,
   "metadata": {},
   "outputs": [
    {
     "data": {
      "text/plain": [
       "['In',\n",
       " 'this',\n",
       " 'we',\n",
       " 'will',\n",
       " 'see',\n",
       " 'how',\n",
       " 'string',\n",
       " 'works',\n",
       " 'in',\n",
       " 'python',\n",
       " 'and',\n",
       " 'how',\n",
       " 'its',\n",
       " 'inbuilt',\n",
       " 'functions',\n",
       " 'useful',\n",
       " 'in',\n",
       " 'minimize',\n",
       " 'our',\n",
       " 'time',\n",
       " 'according',\n",
       " 'to',\n",
       " 'our',\n",
       " 'requirement']"
      ]
     },
     "execution_count": 21,
     "metadata": {},
     "output_type": "execute_result"
    }
   ],
   "source": [
    "string.split()"
   ]
  },
  {
   "cell_type": "code",
   "execution_count": 22,
   "metadata": {},
   "outputs": [
    {
     "data": {
      "text/plain": [
       "'In this we will see how string works in python and how its inbuilt functions useful in minimize our time according to our requirement'"
      ]
     },
     "execution_count": 22,
     "metadata": {},
     "output_type": "execute_result"
    }
   ],
   "source": [
    "string.format()"
   ]
  },
  {
   "cell_type": "code",
   "execution_count": 26,
   "metadata": {},
   "outputs": [
    {
     "name": "stdout",
     "output_type": "stream",
     "text": [
      "apple, banana, cherry\n"
     ]
    }
   ],
   "source": [
    "fruits = ['apple', 'banana', 'cherry']\n",
    "result = ', '.join(fruits)\n",
    "print(result)"
   ]
  },
  {
   "cell_type": "code",
   "execution_count": 27,
   "metadata": {},
   "outputs": [
    {
     "data": {
      "text/plain": [
       "False"
      ]
     },
     "execution_count": 27,
     "metadata": {},
     "output_type": "execute_result"
    }
   ],
   "source": [
    "string.isdigit()"
   ]
  },
  {
   "attachments": {},
   "cell_type": "markdown",
   "metadata": {},
   "source": [
    "# Comprehensive list of string functions"
   ]
  },
  {
   "attachments": {},
   "cell_type": "markdown",
   "metadata": {},
   "source": [
    "capitalize() - Converts the first character of the string to upper case.<br>\n",
    "\n",
    "center(width, fillchar) - Returns a centered string with a specified width and fill character.<br>\n",
    "\n",
    "count(sub, start, end) - Returns the number of occurrences of a specified substring in the string.<br>\n",
    "\n",
    "encode(encoding, errors) - Encodes the string using a specified encoding and returns a bytes object.<br>\n",
    "\n",
    "endswith(suffix, start, end) - Returns True if the string ends with a specified suffix.<br>\n",
    "\n",
    "expandtabs(tabsize) - Replaces tabs in the string with a specified number of spaces.<br>\n",
    "\n",
    "find(sub, start, end) - Returns the index of the first occurrence of a specified substring in the string. Returns -1 if not found.<br>\n",
    "\n",
    "format(*args, **kwargs) - Formats the string using placeholders and arguments.<br>\n",
    "\n",
    "format_map(mapping) - Formats the string using a mapping object.<br>\n",
    "\n",
    "index(sub, start, end) - Returns the index of the first occurrence of a specified substring in the string. Raises an exception if not found.<br>\n",
    "\n",
    "isalnum() - Returns True if all characters in the string are alphanumeric (letters or digits).<br>\n",
    "\n",
    "isalpha() - Returns True if all characters in the string are letters.<br>\n",
    "isdecimal() - Returns True if all characters in the string are decimal digits.<br>\n",
    "\n",
    "isdigit() - Returns True if all characters in the string are digits.<br>\n",
    "isidentifier() - Returns True if the string is a valid Python identifier.<br>\n",
    "\n",
    "islower() - Returns True if all cased characters in the string are in lower case.<br>\n",
    "\n",
    "isnumeric() - Returns True if all characters in the string are numeric characters.<br>\n",
    "\n",
    "isprintable() - Returns True if all characters in the string are printable.<br>\n",
    "\n",
    "isspace() - Returns True if all characters in the string are whitespaces.<br>\n",
    "\n",
    "istitle() - Returns True if the string is in title case.<br>\n",
    "\n",
    "isupper() - Returns True if all cased characters in the string are in upper case.<br>\n",
    "\n",
    "join(iterable) - Joins the elements of an iterable (e.g. list) with the string as separator.<br>\n",
    "\n",
    "ljust(width, fillchar) - Returns a left-justified string with a specified width and fill character.<br>\n",
    "\n",
    "lower() - Converts all characters in the string to lower case.<br>\n",
    "\n",
    "lstrip(chars) - Removes leading characters specified in the argument from the string.<br>\n",
    "\n",
    "maketrans(x, y, z) - Returns a translation table usable for str.translate().<br>\n",
    "\n",
    "partition(sep) - Returns a tuple containing the part before the separator, the separator itself, and the part after the separator.<br>\n",
    "\n",
    "replace(old, new, count) - Replaces all occurrences of old with new in the string.<br>\n",
    "\n",
    "rfind(sub, start, end) - Returns the index of the last occurrence of a specified substring in the string. Returns -1 if not<br>"
   ]
  },
  {
   "cell_type": "code",
   "execution_count": null,
   "metadata": {},
   "outputs": [],
   "source": []
  }
 ],
 "metadata": {
  "kernelspec": {
   "display_name": "Python 3",
   "language": "python",
   "name": "python3"
  },
  "language_info": {
   "codemirror_mode": {
    "name": "ipython",
    "version": 3
   },
   "file_extension": ".py",
   "mimetype": "text/x-python",
   "name": "python",
   "nbconvert_exporter": "python",
   "pygments_lexer": "ipython3",
   "version": "3.10.5"
  },
  "orig_nbformat": 4,
  "vscode": {
   "interpreter": {
    "hash": "26de051ba29f2982a8de78e945f0abaf191376122a1563185a90213a26c5da77"
   }
  }
 },
 "nbformat": 4,
 "nbformat_minor": 2
}
