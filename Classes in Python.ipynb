{
 "cells": [
  {
   "cell_type": "code",
   "execution_count": 8,
   "metadata": {},
   "outputs": [
    {
     "name": "stdout",
     "output_type": "stream",
     "text": [
      "***** Details of K21MD *****\n",
      "section name:  K21MD\n",
      "class_roll:  40\n",
      "Semester:  Semister 4\n",
      "-----------------------------\n",
      "section name:  K21MD\n",
      "class_roll:  50\n",
      "Semester:  Semister 4\n",
      "\n",
      "\n",
      "***** Details of K21MP *****\n",
      "section name:  K21MP\n",
      "class_roll:  42\n",
      "Semester:  Semister 4\n",
      "----------------------------\n",
      "section name:  K21MP\n",
      "class_roll:  52\n",
      "Semester:  Semister 4\n",
      "\n",
      "\n",
      "***** Details of K21UP *****\n",
      "section name:  K21UP\n",
      "class_roll:  43\n",
      "Semester:  Semister 4\n",
      "----------------------------\n",
      "section name:  K21UP\n",
      "class_roll:  53\n",
      "Semester:  Semister 4\n"
     ]
    }
   ],
   "source": [
    "class K21MD:\n",
    "    def __init__(self,section_name,class_roll,sem):\n",
    "        self.section_name=section_name\n",
    "        self.class_roll=class_roll\n",
    "        self.sem=sem\n",
    "    def display_section(self):\n",
    "        print(\"section name: \",self.section_name)\n",
    "\n",
    "    def display_class_roll(self):\n",
    "        print(\"class_roll: \",self.class_roll)\n",
    "    \n",
    "    def display_sem(self):\n",
    "        print(\"Semester: \",self.sem)\n",
    "print(\"***** Details of K21MD *****\")\n",
    "obj1=K21MD(\"K21MD\",\"40\",\"Semister 4\")\n",
    "obj1.display_section()\n",
    "obj1.display_class_roll()\n",
    "obj1.display_sem()\n",
    "print(\"-----------------------------\")\n",
    "obj2=K21MD(\"K21MD\",\"50\",\"Semister 4\")\n",
    "obj2.display_section()\n",
    "obj2.display_class_roll()\n",
    "obj2.display_sem()\n",
    "print(\"\\n\")\n",
    "\n",
    "class K21MP:\n",
    "    def __init__(self,section_name,class_roll,sem):\n",
    "        self.section_name=section_name\n",
    "        self.class_roll=class_roll\n",
    "        self.sem=sem\n",
    "    def display_section(self):\n",
    "        print(\"section name: \",self.section_name)\n",
    "\n",
    "    def display_class_roll(self):\n",
    "        print(\"class_roll: \",self.class_roll)\n",
    "    \n",
    "    def display_sem(self):\n",
    "        print(\"Semester: \",self.sem)\n",
    "print(\"***** Details of K21MP *****\")\n",
    "obj1=K21MP(\"K21MP\",\"42\",\"Semister 4\")\n",
    "obj1.display_section()\n",
    "obj1.display_class_roll()\n",
    "obj1.display_sem()\n",
    "print(\"----------------------------\")\n",
    "obj2=K21MP(\"K21MP\",\"52\",\"Semister 4\")\n",
    "obj2.display_section()\n",
    "obj2.display_class_roll()\n",
    "obj2.display_sem()\n",
    "print(\"\\n\")\n",
    "\n",
    "class K21UP:\n",
    "    def __init__(self,section_name,class_roll,sem):\n",
    "        self.section_name=section_name\n",
    "        self.class_roll=class_roll\n",
    "        self.sem=sem\n",
    "    def display_section(self):\n",
    "        print(\"section name: \",self.section_name)\n",
    "\n",
    "    def display_class_roll(self):\n",
    "        print(\"class_roll: \",self.class_roll)\n",
    "    \n",
    "    def display_sem(self):\n",
    "        print(\"Semester: \",self.sem)\n",
    "print(\"***** Details of K21UP *****\")\n",
    "obj1=K21UP(\"K21UP\",\"43\",\"Semister 4\")\n",
    "obj1.display_section()\n",
    "obj1.display_class_roll()\n",
    "obj1.display_sem()\n",
    "print(\"----------------------------\")\n",
    "obj2=K21UP(\"K21UP\",\"53\",\"Semister 4\")\n",
    "obj2.display_section()\n",
    "obj2.display_class_roll()\n",
    "obj2.display_sem()\n",
    "\n",
    " \n",
    " "
   ]
  },
  {
   "cell_type": "code",
   "execution_count": 27,
   "metadata": {},
   "outputs": [
    {
     "name": "stdout",
     "output_type": "stream",
     "text": [
      "Subject 1: 1.0\n",
      "Subject 2: 2.0\n",
      "Subject 3: 3.0\n",
      "Subject 4: 4.0\n",
      "Subject 5: 5.0\n",
      "Avarage marks:  3.0\n",
      "Subject 1: 1.0\n",
      "Subject 2: 2.0\n",
      "Subject 3: 3.0\n",
      "Subject 4: 4.0\n",
      "Avarage marks:  2.5\n"
     ]
    }
   ],
   "source": [
    "class Student:\n",
    "    def get_marks(self):# det_marks function:taking input from user that how many marks he/she want to give input and that n no.of inputs (taking 1 paramters ,self)\n",
    "      marks=[]          # empty list\n",
    "      n=int(input(\"Enter how many subjects marks u want to give: \"))  # Taking no.of inputs\n",
    "      for i in range(n):                                              # use to iternate no.of times that user give ,that no.of times he ask for the marks input\n",
    "         results=(float(input(\"Enter marks for subject \"+str(i+1)+\": \"))) \n",
    "         marks.append(results)                                        # appending the inputs to marks list\n",
    "      return marks                                                    # returning marks as a list\n",
    "      \n",
    "    def calculate_avg(self,marks):                                    # avarage calc function(taking 2 paramters ,self and marks)\n",
    "       total=0                                                        # intialise total=0\n",
    "       total=sum(marks)                                               # finding total of marks\n",
    "       avg=total/len(marks)                                           # finding average of marks\n",
    "       return avg                                                     # returning avg for marks in that list\n",
    "    \n",
    "    def display_info(self,marks,avg):                                 # display_info function \n",
    "        n=len(marks)                                                  # length of list which we give as an argument\n",
    "        for i in range(n):\n",
    "           print(\"Subject \"+str(i+1)+\": \"+str(marks[i]))              # displaying the marks subject wise by iterating upto length of list\n",
    "\n",
    "        print(\"Avarage marks: \",avg)                                  # prinnting average of the list\n",
    "\n",
    "#object 1\n",
    "obj1=Student()\n",
    "result1=obj1.get_marks()   # return value of get_marks is stored in the result1\n",
    "result2=obj1.calculate_avg(result1)# return value of calculate_avg is stored in the result2 ,and the result of get_marks taken as the input of this\n",
    "obj1.display_info(result1,result2)# calling display_info which took input as result of both get_marks and caluculate_avg functions\n",
    "print(\"------------------------\")\n",
    "#object 2\n",
    "obj2=Student()\n",
    "result1=obj1.get_marks()# return value of get_marks is stored in the result1\n",
    "result2=obj1.calculate_avg(result1)# return value of calculate_avg is stored in the result2 ,and the result of get_marks taken as the input of this\n",
    "obj1.display_info(result1,result2) # calling display_info which took input as result of both get_marks and caluculate_avg functions\n",
    "\n"
   ]
  },
  {
   "cell_type": "code",
   "execution_count": 33,
   "metadata": {},
   "outputs": [
    {
     "name": "stdout",
     "output_type": "stream",
     "text": [
      "Subject 1: 1.0\n",
      "Subject 2: 2.0\n",
      "Subject 3: 3.0\n",
      "Subject 4: 4.0\n",
      "Subject 5: 5.0\n",
      "Avarage marks:  3.0\n"
     ]
    }
   ],
   "source": [
    "class Student:\n",
    "    def get_marks(self):# det_marks function:taking input from user that how many marks he/she want to give input and that n no.of inputs (taking 1 paramters ,self)\n",
    "      marks=[]          # empty list\n",
    "      n=int(input(\"Enter how many subjects marks u want to give: \"))  # Taking no.of inputs\n",
    "      for i in range(n):                                              # use to iternate no.of times that user give ,that no.of times he ask for the marks input\n",
    "         results=(float(input(\"Enter marks for subject \"+str(i+1)+\": \"))) \n",
    "         marks.append(results)                                        # appending the inputs to marks list\n",
    "      return marks                                                    # returning marks as a list\n",
    "      \n",
    "    def calculate_avg(self,marks):                                    # avarage calc function(taking 2 paramters ,self and marks)\n",
    "       total=0                                                        # intialise total=0\n",
    "       total=sum(marks)                                               # finding total of marks\n",
    "       avg=total/len(marks)                                           # finding average of marks\n",
    "       return avg                                                     # returning avg for marks in that list\n",
    "    \n",
    "    def display_info(self,marks,avg):                                 # display_info function \n",
    "        n=len(marks)                                                  # length of list which we give as an argument\n",
    "        for i in range(n):\n",
    "           print(\"Subject \"+str(i+1)+\": \"+str(marks[i]))              \n",
    "\n",
    "        print(\"Avarage marks: \",avg)                               \n",
    "\n",
    "obj_count = int(input(\"Enter how many objects you wnat to create for the student class: \"))\n",
    "obj_list = [] \n",
    "for i in range(obj_count):\n",
    "    obj = Student()\n",
    "    result1 = obj.get_marks()  # return value of get_marks is stored in the result1\n",
    "    result2 = obj.calculate_avg(result1)  # return value of calculate_avg is stored in the result2, and the result of get_marks taken as the input of this\n",
    "    obj.display_info(result1, result2)  # calling display_info which took input as result of both get_marks and calculate_avg functions\n",
    "    obj_list.append(obj)\n"
   ]
  },
  {
   "cell_type": "code",
   "execution_count": 40,
   "metadata": {},
   "outputs": [
    {
     "name": "stdout",
     "output_type": "stream",
     "text": [
      "6\n"
     ]
    }
   ],
   "source": [
    "class A:\n",
    "    # def sum(self,a,b):\n",
    "        # return a+b\n",
    "    def sum(self,a,b,c):\n",
    "        return a+b+c\n",
    "    \n",
    "onj=A()\n",
    "\n",
    "# print(onj.sum(1,2))\n",
    "print(onj.sum(1,2,3))"
   ]
  },
  {
   "cell_type": "code",
   "execution_count": 45,
   "metadata": {},
   "outputs": [
    {
     "name": "stdout",
     "output_type": "stream",
     "text": [
      "1010\n"
     ]
    }
   ],
   "source": [
    "class BankAccount:\n",
    "    def __init__(self, balance):\n",
    "        self.__balance = balance\n",
    "\n",
    "    def deposit(self, amount):\n",
    "        self.__balance += amount\n",
    "\n",
    "    def withdraw(self, amount):\n",
    "        if amount <= self.__balance:\n",
    "            self.__balance -= amount\n",
    "        else:\n",
    "            print(\"Insufficient funds.\")\n",
    "\n",
    "    def get_balance(self):\n",
    "        return self.__balance\n",
    "    \n",
    "obj=BankAccount(1000)\n",
    "obj.deposit(10)\n",
    "print(obj.get_balance())\n"
   ]
  },
  {
   "cell_type": "code",
   "execution_count": 48,
   "metadata": {},
   "outputs": [
    {
     "name": "stdout",
     "output_type": "stream",
     "text": [
      "Hello,my name is john and i m 30 years old.\n",
      "Hello,my name is jane,I m 20 years old, and i'm majoring in computer science\n"
     ]
    }
   ],
   "source": [
    "class Person:\n",
    "    def __init__(self, name, age):\n",
    "        self.name=name\n",
    "        self.age=age\n",
    "    def say_hello(self):\n",
    "        print(f\"Hello,my name is {self.name} and i m {self.age} years old.\")\n",
    "\n",
    "class Student(Person):\n",
    "    def __init__(self, name, age,major):\n",
    "        super().__init__(name,age)\n",
    "        self.major = major\n",
    "    \n",
    "    def say_hello(self):\n",
    "        print(f\"Hello,my name is {self.name},I m {self.age} years old, and i'm majoring in {self.major}\")\n",
    "\n",
    "def greeting(person):\n",
    "    person.say_hello()\n",
    "\n",
    "person1=Person(\"john\",30)\n",
    "student1=Student(\"jane\",20,\"computer science\")\n",
    "\n",
    "greeting(person1)\n",
    "greeting(student1)\n",
    "\n"
   ]
  },
  {
   "cell_type": "code",
   "execution_count": null,
   "metadata": {},
   "outputs": [],
   "source": []
  }
 ],
 "metadata": {
  "kernelspec": {
   "display_name": "Python 3",
   "language": "python",
   "name": "python3"
  },
  "language_info": {
   "codemirror_mode": {
    "name": "ipython",
    "version": 3
   },
   "file_extension": ".py",
   "mimetype": "text/x-python",
   "name": "python",
   "nbconvert_exporter": "python",
   "pygments_lexer": "ipython3",
   "version": "3.10.5"
  },
  "orig_nbformat": 4
 },
 "nbformat": 4,
 "nbformat_minor": 2
}
