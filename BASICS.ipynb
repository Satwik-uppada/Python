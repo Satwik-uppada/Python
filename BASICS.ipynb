{
 "cells": [
  {
   "cell_type": "markdown",
   "metadata": {},
   "source": [
    "# BASICS"
   ]
  },
  {
   "cell_type": "code",
   "execution_count": 1,
   "metadata": {},
   "outputs": [
    {
     "name": "stdout",
     "output_type": "stream",
     "text": [
      "hello; This is the first python class\n"
     ]
    }
   ],
   "source": [
    "print(\"hello; This is the first python class\")"
   ]
  },
  {
   "cell_type": "code",
   "execution_count": null,
   "metadata": {},
   "outputs": [],
   "source": [
    "# print statement\n",
    "print(\"Hello LPU\")  # printing statement"
   ]
  },
  {
   "cell_type": "markdown",
   "metadata": {},
   "source": [
    "# INPUT"
   ]
  },
  {
   "cell_type": "code",
   "execution_count": 1,
   "metadata": {},
   "outputs": [
    {
     "name": "stdout",
     "output_type": "stream",
     "text": [
      "SATWIK\n"
     ]
    }
   ],
   "source": [
    "name = input()  # taking input\n",
    "print(name)  # printing input\n"
   ]
  },
  {
   "cell_type": "markdown",
   "metadata": {},
   "source": [
    "# PRINTING THE TYPE OF VARIABLE"
   ]
  },
  {
   "cell_type": "code",
   "execution_count": 8,
   "metadata": {},
   "outputs": [
    {
     "ename": "NameError",
     "evalue": "name 'height' is not defined",
     "output_type": "error",
     "traceback": [
      "\u001b[1;31m---------------------------------------------------------------------------\u001b[0m",
      "\u001b[1;31mNameError\u001b[0m                                 Traceback (most recent call last)",
      "\u001b[1;32mC:\\Users\\UPPADA~1\\AppData\\Local\\Temp/ipykernel_21272/4274052187.py\u001b[0m in \u001b[0;36m<module>\u001b[1;34m\u001b[0m\n\u001b[1;32m----> 1\u001b[1;33m \u001b[0mprint\u001b[0m\u001b[1;33m(\u001b[0m\u001b[0mtype\u001b[0m\u001b[1;33m(\u001b[0m\u001b[0mheight\u001b[0m\u001b[1;33m)\u001b[0m\u001b[1;33m)\u001b[0m  \u001b[1;31m# printing the type of height\u001b[0m\u001b[1;33m\u001b[0m\u001b[1;33m\u001b[0m\u001b[0m\n\u001b[0m\u001b[0;32m      2\u001b[0m \u001b[0mprint\u001b[0m\u001b[1;33m(\u001b[0m\u001b[0mtype\u001b[0m\u001b[1;33m(\u001b[0m\u001b[0mvalue\u001b[0m\u001b[1;33m)\u001b[0m\u001b[1;33m)\u001b[0m  \u001b[1;31m# printing the type of value\u001b[0m\u001b[1;33m\u001b[0m\u001b[1;33m\u001b[0m\u001b[0m\n\u001b[0;32m      3\u001b[0m \u001b[0mprint\u001b[0m\u001b[1;33m(\u001b[0m\u001b[0mtype\u001b[0m\u001b[1;33m(\u001b[0m\u001b[0mage\u001b[0m\u001b[1;33m)\u001b[0m\u001b[1;33m)\u001b[0m  \u001b[1;31m# printing the type of age\u001b[0m\u001b[1;33m\u001b[0m\u001b[1;33m\u001b[0m\u001b[0m\n\u001b[0;32m      4\u001b[0m \u001b[0mtype\u001b[0m\u001b[1;33m(\u001b[0m\u001b[0mname\u001b[0m\u001b[1;33m)\u001b[0m  \u001b[1;31m# it will not print anything in pycharm ....but the line will give an output in jupyter notebook\u001b[0m\u001b[1;33m\u001b[0m\u001b[1;33m\u001b[0m\u001b[0m\n",
      "\u001b[1;31mNameError\u001b[0m: name 'height' is not defined"
     ]
    }
   ],
   "source": [
    "print(type(height))  # printing the type of height\n",
    "print(type(value))  # printing the type of value\n",
    "print(type(age))  # printing the type of age\n",
    "type(name)  # it will not print anything in pycharm ....but the line will give an output in jupyter notebook"
   ]
  },
  {
   "cell_type": "markdown",
   "metadata": {},
   "source": [
    "# CHANING TYPE OF INPUT BY DEFAULT"
   ]
  },
  {
   "cell_type": "code",
   "execution_count": 2,
   "metadata": {},
   "outputs": [
    {
     "name": "stdout",
     "output_type": "stream",
     "text": [
      "5\n",
      "<class 'str'>\n"
     ]
    }
   ],
   "source": [
    "# taking default input as string\n",
    "inp = str(input())\n",
    "print(inp)\n",
    "print(type(inp))"
   ]
  },
  {
   "cell_type": "markdown",
   "metadata": {},
   "source": [
    "# ASSIGNING STRING DATA TYPE"
   ]
  },
  {
   "cell_type": "code",
   "execution_count": 4,
   "metadata": {},
   "outputs": [
    {
     "name": "stdout",
     "output_type": "stream",
     "text": [
      "he is ,\"a python staff\". this is the first class\n",
      "he is ,'a python staff'. this is the first class\n",
      "he is ,\"a python staff\". this is the first class\n",
      "he is ,\"a python staff\". this is the first class\n"
     ]
    }
   ],
   "source": [
    "# In python, we can assign string data type in three types according to our necessary\n",
    "\n",
    "# first one: using single quotes/double quotes if we have double quotes/single quotes in out string.(vice versa)\n",
    "print('he is ,\"a python staff\". this is the first class')\n",
    "print(\"he is ,'a python staff'. this is the first class\")\n",
    "\n",
    "# second one:using three double quotes\n",
    "print(\"\"\"he is ,\"a python staff\". this is the first class\"\"\")\n",
    "\n",
    "# Third one:using right slash before quotes in text\n",
    "print(\"he is ,\\\"a python staff\\\". this is the first class\")"
   ]
  },
  {
   "cell_type": "markdown",
   "metadata": {},
   "source": [
    "# ARITHEMATIC OPERATORS"
   ]
  },
  {
   "cell_type": "code",
   "execution_count": 4,
   "metadata": {},
   "outputs": [
    {
     "name": "stdout",
     "output_type": "stream",
     "text": [
      "7\n",
      "3\n",
      "10\n",
      "1\n",
      "2.5\n",
      "2\n",
      "-3\n"
     ]
    }
   ],
   "source": [
    "# Arithematic operators -> +,-,*,/,%,//\n",
    "# // results the floating value of given integers\n",
    "print(5+2)\n",
    "print(5-2)\n",
    "print(5*2)\n",
    "print(5%2)\n",
    "print(5/2)\n",
    "print(5//2)\n",
    "print(-5//2)"
   ]
  },
  {
   "cell_type": "code",
   "execution_count": 2,
   "metadata": {},
   "outputs": [
    {
     "name": "stdout",
     "output_type": "stream",
     "text": [
      "Sum:  9\n",
      "Subtraction:  5\n",
      "Multiplication:  14\n",
      "Division:  3.5\n",
      "Floor Division:  3\n",
      "Modulo:  1\n",
      "Power:  49\n"
     ]
    }
   ],
   "source": [
    "# Arithmetic Operators in Python\n",
    "a = 7\n",
    "b = 2\n",
    "\n",
    "# addition\n",
    "print ('Sum: ', a + b)  \n",
    "\n",
    "# subtraction\n",
    "print ('Subtraction: ', a - b)   \n",
    "\n",
    "# multiplication\n",
    "print ('Multiplication: ', a * b)  \n",
    "\n",
    "# division\n",
    "print ('Division: ', a / b) \n",
    "\n",
    "# floor division\n",
    "print ('Floor Division: ', a // b)\n",
    "\n",
    "# modulo\n",
    "print ('Modulo: ', a % b)  \n",
    "\n",
    "# a to the power b\n",
    "print ('Power: ', a ** b)   \n"
   ]
  },
  {
   "attachments": {},
   "cell_type": "markdown",
   "metadata": {},
   "source": [
    "# ASSIGNMENT OPERATERS"
   ]
  },
  {
   "cell_type": "code",
   "execution_count": null,
   "metadata": {},
   "outputs": [],
   "source": [
    "# Assignment operators are used to assign values to variables. For example,\n",
    "# assign 5 to x \n",
    "var X = 5\n",
    "\n",
    "# Example 2: Assignment Operators\n",
    "# assign 10 to a\n",
    "a = 10\n",
    "\n",
    "# assign 5 to b\n",
    "b = 5 \n",
    "\n",
    "# assign the sum of a and b to a\n",
    "a += b      # a = a + b\n",
    "\n",
    "print(a)\n",
    "\n",
    "# Output: 15"
   ]
  },
  {
   "attachments": {},
   "cell_type": "markdown",
   "metadata": {},
   "source": [
    "# COMPARISON OPERATERS"
   ]
  },
  {
   "cell_type": "code",
   "execution_count": 3,
   "metadata": {},
   "outputs": [
    {
     "name": "stdout",
     "output_type": "stream",
     "text": [
      "True\n",
      "a == b = False\n",
      "a != b = True\n",
      "a > b = True\n",
      "a < b = False\n",
      "a >= b = True\n",
      "a <= b = False\n"
     ]
    }
   ],
   "source": [
    "# Comparison operators compare two values/variables and return a boolean result: True or False. For example,\n",
    "a = 5\n",
    "b =2\n",
    "\n",
    "print (a > b)    # True\n",
    "\n",
    "#  Comparison Operators\n",
    "a = 5\n",
    "\n",
    "b = 2\n",
    "\n",
    "# equal to operator\n",
    "print('a == b =', a == b)\n",
    "\n",
    "# not equal to operator\n",
    "print('a != b =', a != b)\n",
    "\n",
    "# greater than operator\n",
    "print('a > b =', a > b)\n",
    "\n",
    "# less than operator\n",
    "print('a < b =', a < b)\n",
    "\n",
    "# greater than or equal to operator\n",
    "print('a >= b =', a >= b)\n",
    "\n",
    "# less than or equal to operator\n",
    "print('a <= b =', a <= b)"
   ]
  },
  {
   "cell_type": "code",
   "execution_count": 6,
   "metadata": {},
   "outputs": [
    {
     "name": "stdout",
     "output_type": "stream",
     "text": [
      "False\n"
     ]
    }
   ],
   "source": [
    "# Relational operators--> >,<,>=,<=,==,!=\n",
    "# return boolean datatype\n",
    "print(5<3)\n"
   ]
  },
  {
   "attachments": {},
   "cell_type": "markdown",
   "metadata": {},
   "source": [
    "# LOGICAL OPERATERS"
   ]
  },
  {
   "cell_type": "code",
   "execution_count": 4,
   "metadata": {},
   "outputs": [
    {
     "name": "stdout",
     "output_type": "stream",
     "text": [
      "True\n",
      "True\n",
      "False\n",
      "True\n",
      "False\n"
     ]
    }
   ],
   "source": [
    "# Logical operators are used to check whether an expression is True or False. They are used in decision-making. For example,\n",
    "a = 5\n",
    "b = 6\n",
    "\n",
    "print((a > 2) and (b >= 6))    # True\n",
    "\n",
    "# Logical Operators\n",
    "# logical AND\n",
    "print(True and True)     # True\n",
    "print(True and False)    # False\n",
    "\n",
    "# logical OR\n",
    "print(True or False)     # True\n",
    "\n",
    "# logical NOT\n",
    "print(not True)          # False"
   ]
  },
  {
   "attachments": {},
   "cell_type": "markdown",
   "metadata": {},
   "source": [
    "# IDENTITY OPERATERS"
   ]
  },
  {
   "cell_type": "code",
   "execution_count": 8,
   "metadata": {},
   "outputs": [
    {
     "name": "stdout",
     "output_type": "stream",
     "text": [
      "False\n",
      "True\n",
      "False\n",
      ".......................\n",
      "True\n",
      "True\n",
      "True\n",
      "False\n"
     ]
    }
   ],
   "source": [
    "# Identity operators in Python\n",
    "x1 = 5\n",
    "y1 = 5\n",
    "x2 = 'Hello'\n",
    "y2 = 'Hello'\n",
    "x3 = [1,2,3]\n",
    "y3 = [1,2,3]\n",
    "\n",
    "print(x1 is not y1)  # prints False\n",
    "\n",
    "print(x2 is y2)  # prints True\n",
    "\n",
    "print(x3 is y3)  # prints False\n",
    "\n",
    "print(\".......................\")\n",
    "\n",
    "#  Membership operators in Python\n",
    "x = 'Hello world'\n",
    "y = {1:'a', 2:'b'}\n",
    "\n",
    "# check if 'H' is present in x string\n",
    "print('H' in x)  # prints True\n",
    "\n",
    "# check if 'hello' is present in x string\n",
    "print('hello' not in x)  # prints True\n",
    "\n",
    "# check if '1' key is present in y\n",
    "print(1 in y)  # prints True\n",
    "\n",
    "# check if 'a' key is present in y\n",
    "print('a' in y)  # prints False\n"
   ]
  },
  {
   "cell_type": "code",
   "execution_count": 3,
   "metadata": {},
   "outputs": [
    {
     "name": "stdout",
     "output_type": "stream",
     "text": [
      "I'M a boy\n",
      "No.of upper case letters =  2\n",
      "No.of lower case letters =  4\n",
      "No.of characters in the string  1\n",
      "No.of spaces in between =  2\n"
     ]
    }
   ],
   "source": [
    "string=input(\"Enter any string: \")\n",
    "print(string)\n",
    "ucount=0\n",
    "lcount=0\n",
    "chcount=0\n",
    "scount=0\n",
    "upper='ABCDEFGHIJKLMNOPQRSTUVZXYZ'\n",
    "lower='abcdeghijklmnopqrstuvzxyz'\n",
    "characters='@\\'\"?()*&^%$#!.></\\|{[]}'\n",
    "for i in range(len(string)):\n",
    "    if string[i] in upper:\n",
    "        ucount+=1\n",
    "    elif string[i] in lower:\n",
    "        lcount+=1\n",
    "    elif string[i] in characters:\n",
    "        chcount+=1\n",
    "    else:\n",
    "        scount+=1\n",
    "print(\"No.of upper case letters = \",ucount)\n",
    "print(\"No.of lower case letters = \",lcount)\n",
    "print(\"No.of characters in the string \",chcount)\n",
    "print(\"No.of spaces in between = \",scount)"
   ]
  },
  {
   "attachments": {},
   "cell_type": "markdown",
   "metadata": {},
   "source": [
    "# calculater program"
   ]
  },
  {
   "cell_type": "code",
   "execution_count": 1,
   "metadata": {},
   "outputs": [
    {
     "name": "stdout",
     "output_type": "stream",
     "text": [
      "Sum of 2 numbers=  2312\n"
     ]
    }
   ],
   "source": [
    "# calculater program\n",
    "num1=int(input(\"Enter 1st number: \"))\n",
    "num2=int(input(\"Enter 2nd number: \"))\n",
    "\n",
    "operater=input(\"Enter operater('+, -, * ,/ ,%, // ,**'): \")\n",
    "if operater=='+':\n",
    "   result=num1+num2\n",
    "   print(\"Sum of 2 numbers= \",result)\n",
    "elif operater=='-':\n",
    "   result=num1-num2\n",
    "   print(\"Differnce of 2 numbers= \",result)\n",
    "\n",
    "elif operater=='*':\n",
    "   result=num1*num2\n",
    "   print(\"Product of 2 numbers= \",result)\n",
    "\n",
    "elif operater=='/':\n",
    "   result=num1/num2\n",
    "   print(\"Quotient of 2 numbers= \",result)\n",
    "\n",
    "elif operater=='%':\n",
    "   result=num1%num2\n",
    "   print(\"Remainder of 2 numbers= \",result)\n",
    "\n",
    "elif operater=='//':\n",
    "   result=num1//num2\n",
    "   print(\"float value of 2 numbers= \",result)\n",
    "\n",
    "elif operater=='**':\n",
    "   result=num1**num2\n",
    "   print(\"Exponentiation of 2 numbers= \",result)\n",
    "\n",
    "else:\n",
    "   print(\"oohoo!!!!... u gave wrong operater! please give valid operater...\")\n",
    "\n"
   ]
  },
  {
   "cell_type": "code",
   "execution_count": 2,
   "metadata": {},
   "outputs": [
    {
     "name": "stdout",
     "output_type": "stream",
     "text": [
      "10\n",
      "9\n",
      "8\n",
      "7\n",
      "6\n",
      "5\n",
      "4\n",
      "3\n"
     ]
    }
   ],
   "source": [
    "for i in range(10,2,-1):\n",
    " print(i)"
   ]
  },
  {
   "cell_type": "code",
   "execution_count": 4,
   "metadata": {},
   "outputs": [
    {
     "ename": "ModuleNotFoundError",
     "evalue": "No module named 'pandas'",
     "output_type": "error",
     "traceback": [
      "\u001b[1;31m---------------------------------------------------------------------------\u001b[0m",
      "\u001b[1;31mModuleNotFoundError\u001b[0m                       Traceback (most recent call last)",
      "\u001b[1;32mC:\\Users\\UPPADA~1\\AppData\\Local\\Temp/ipykernel_17780/1429147928.py\u001b[0m in \u001b[0;36m<module>\u001b[1;34m\u001b[0m\n\u001b[1;32m----> 1\u001b[1;33m \u001b[1;32mimport\u001b[0m \u001b[0mpandas\u001b[0m\u001b[1;33m\u001b[0m\u001b[1;33m\u001b[0m\u001b[0m\n\u001b[0m\u001b[0;32m      2\u001b[0m \u001b[0mRaw_Housing_Data\u001b[0m\u001b[1;33m=\u001b[0m\u001b[0mpandas\u001b[0m\u001b[1;33m.\u001b[0m\u001b[0mread_csv\u001b[0m\u001b[1;33m(\u001b[0m\u001b[1;34m\"C:\\\\Users\\\\uppada satwik\\\\Downloads\\\\M3T2_helper_text\\\\1. Regression - Module - (Housing Prices).csv\"\u001b[0m\u001b[1;33m)\u001b[0m\u001b[1;33m\u001b[0m\u001b[1;33m\u001b[0m\u001b[0m\n\u001b[0;32m      3\u001b[0m \u001b[0mprint\u001b[0m\u001b[1;33m(\u001b[0m\u001b[0mRaw_Housing_Data\u001b[0m\u001b[1;33m)\u001b[0m\u001b[1;33m\u001b[0m\u001b[1;33m\u001b[0m\u001b[0m\n",
      "\u001b[1;31mModuleNotFoundError\u001b[0m: No module named 'pandas'"
     ]
    }
   ],
   "source": []
  }
 ],
 "metadata": {
  "kernelspec": {
   "display_name": "Python 3.9.7 ('python')",
   "language": "python",
   "name": "python3"
  },
  "language_info": {
   "codemirror_mode": {
    "name": "ipython",
    "version": 3
   },
   "file_extension": ".py",
   "mimetype": "text/x-python",
   "name": "python",
   "nbconvert_exporter": "python",
   "pygments_lexer": "ipython3",
   "version": "3.9.7"
  },
  "orig_nbformat": 4,
  "vscode": {
   "interpreter": {
    "hash": "ebca2c0207c2e4390668c2950131c1f04206a65d347091efc0411a24a42dac2a"
   }
  }
 },
 "nbformat": 4,
 "nbformat_minor": 2
}
