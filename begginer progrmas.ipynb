{
 "cells": [
  {
   "attachments": {},
   "cell_type": "markdown",
   "metadata": {},
   "source": [
    "# python program for adding two numbers"
   ]
  },
  {
   "cell_type": "code",
   "execution_count": null,
   "metadata": {},
   "outputs": [],
   "source": [
    "num1=30\n",
    "num2=40\n",
    "print(\"sum=\",num1+num2)\n",
    "sum=num1+num2\n",
    "print(\"sum=\",sum)\n"
   ]
  },
  {
   "cell_type": "code",
   "execution_count": null,
   "metadata": {},
   "outputs": [],
   "source": [
    "num1=float(input(\"Enter the first number:\"))\n",
    "num2=float(input(\"Enter the second number:\"))\n",
    "\n",
    "sum=num1+num2\n",
    "print(sum)"
   ]
  },
  {
   "attachments": {},
   "cell_type": "markdown",
   "metadata": {},
   "source": [
    "# program to calculate square root of the number"
   ]
  },
  {
   "attachments": {},
   "cell_type": "markdown",
   "metadata": {},
   "source": [
    "using exponentiation"
   ]
  },
  {
   "cell_type": "code",
   "execution_count": null,
   "metadata": {},
   "outputs": [],
   "source": [
    "num=int(input(\"Enter a number:\"))\n",
    "sqrt=num**0.5 # using exponentiation\n",
    "print (\"sqrt of the given number is :\",sqrt)"
   ]
  },
  {
   "attachments": {},
   "cell_type": "markdown",
   "metadata": {},
   "source": [
    "using math module"
   ]
  },
  {
   "cell_type": "code",
   "execution_count": null,
   "metadata": {},
   "outputs": [],
   "source": [
    "import math  as m #importing math library\n",
    "num= int(input(\"Enter a no:\"))\n",
    "sqrt=m.sqrt(num)\n",
    "print(sqrt)"
   ]
  },
  {
   "attachments": {},
   "cell_type": "markdown",
   "metadata": {},
   "source": [
    "# python program to calculate area of a Right angle triangle"
   ]
  },
  {
   "cell_type": "code",
   "execution_count": null,
   "metadata": {},
   "outputs": [],
   "source": [
    "base=int(input(\"Enter base of the triangle:: \"))\n",
    "height=int(input(\"Enter height of the triangle:: \"))\n",
    "area=0.5*base*height\n",
    "print(\"Area of the triangle is: \",area)"
   ]
  },
  {
   "cell_type": "code",
   "execution_count": null,
   "metadata": {},
   "outputs": [],
   "source": [
    "b=int(input(\"Enter base\"))\n",
    "h=int(input(\"Enter height\"))\n",
    "Area  = 0.5*b*h\n",
    "print(Area)"
   ]
  },
  {
   "attachments": {},
   "cell_type": "markdown",
   "metadata": {},
   "source": [
    "# Area of triangle having 3 sides"
   ]
  },
  {
   "cell_type": "code",
   "execution_count": null,
   "metadata": {},
   "outputs": [],
   "source": [
    "# Area=s(s-a)(s-b)(s-c)**0.5\n",
    "a=float(input(\"Enter first side of triangle:: \"))\n",
    "b=float(input(\"Enter second side of triangle:: \"))\n",
    "c=float(input(\"Enter third side of triangle:: \"))\n",
    "s=(a+b+c)/2\n",
    "area=(s*(s-a)*(s-b)*(s-c))**0.5# using heron's formula\n",
    "# **0.5 is equal to square root(its a exponatiation)\n",
    "print(\"area of the triangle: \",area)# floating value\n",
    "print(\"area of the triangle %0.2f\"%area)# float value with 2 decimal points\n"
   ]
  },
  {
   "cell_type": "code",
   "execution_count": null,
   "metadata": {},
   "outputs": [],
   "source": [
    "a=float(input(\"enter frst number\"))\n",
    "b=float(input(\"enter second number\"))\n",
    "c=float(input(\"enter third number\"))\n",
    "s=(a+b+c)/2\n",
    "area=(s*(s-a)*(s-b)*(s-c))**0.5\n",
    "print(area)\n",
    "print(\"area of the triangle %0.2f\"% area)"
   ]
  },
  {
   "cell_type": "code",
   "execution_count": null,
   "metadata": {},
   "outputs": [],
   "source": [
    "a=float(input(\"enter frst number\"))\n",
    "b=float(input(\"enter second number\"))\n",
    "c=float(input(\"enter third number\"))\n",
    "s=(a+b+c)/2\n",
    "area=(s*(s-a)(s-b)(s-c))**0.5\n",
    "print(area)\n",
    "print(\"area of the triangle %0.2f\"%area)"
   ]
  },
  {
   "cell_type": "markdown",
   "metadata": {},
   "source": [
    "# perimeter of the triangle"
   ]
  },
  {
   "cell_type": "code",
   "execution_count": null,
   "metadata": {},
   "outputs": [],
   "source": [
    "\n",
    "a=float(input(\"Enter first side of triangle:: \"))\n",
    "b=float(input(\"Enter second side of triangle:: \"))\n",
    "c=float(input(\"Enter third side of triangle:: \"))\n",
    "s=(a+b+c)\n",
    "print(\"perimeter of the triangle: \",s)\n",
    "print(\"perimeter of the triangle %0.3f\"%s)"
   ]
  },
  {
   "attachments": {},
   "cell_type": "markdown",
   "metadata": {},
   "source": [
    "# program to swap two variables"
   ]
  },
  {
   "cell_type": "code",
   "execution_count": null,
   "metadata": {},
   "outputs": [],
   "source": [
    "a=float(input(\"Enter first number:: \"))\n",
    "b=float(input(\"Enter second number: \"))\n",
    "print(\"Intial value: \",a)\n",
    "print(\"Intial value: \",b)\n",
    "temp=a\n",
    "a=b\n",
    "b=temp\n",
    "print(\"final value: \",a)\n",
    "print(\"final value: \",b)\n"
   ]
  },
  {
   "cell_type": "code",
   "execution_count": null,
   "metadata": {},
   "outputs": [],
   "source": [
    "a=float(input(\"Enter first number:: \"))\n",
    "b=float(input(\"Enter second number: \"))\n",
    "print(\"Intial value: \",a)\n",
    "print(\"Intial value: \",b)\n",
    "temp1=a\n",
    "temp2=b\n",
    "a=temp2\n",
    "b=temp1\n",
    "print(\"final value: \",a)\n",
    "print(\"final value: \",b)\n"
   ]
  },
  {
   "attachments": {},
   "cell_type": "markdown",
   "metadata": {},
   "source": [
    "# program to generate random number"
   ]
  },
  {
   "cell_type": "code",
   "execution_count": null,
   "metadata": {},
   "outputs": [],
   "source": [
    "import random\n",
    "print(random.randint(0,100))"
   ]
  },
  {
   "attachments": {},
   "cell_type": "markdown",
   "metadata": {},
   "source": [
    "# python program for solving quadratic eqn"
   ]
  },
  {
   "cell_type": "code",
   "execution_count": null,
   "metadata": {},
   "outputs": [],
   "source": [
    "#ax^2+bx+c\n",
    "#roots=[-b+/-sqrt(b^2-4ac)]/2a\n",
    "\n",
    "import math as m\n",
    "a=int(input(\"Enter 'a' value (a!=0): \"))\n",
    "b=int(input(\"Enter 'b' value :\"))\n",
    "c=int(input(\"Enter 'c' value :\"))\n",
    "print(\"a={} ,b={} ,c={} \".format(a,b,c))\n",
    "# formula for discriminent\n",
    "d=b*b-4*a*c #or b**2-4*a*c\n",
    "if a!=0:\n",
    " if d>0:\n",
    "    print(\"Roots are real and different\")\n",
    "    root1=(-b+m.sqrt(d))/(2*a)\n",
    "    root2=(-b-m.sqrt(d))/(2*a)\n",
    "    print(\"root1 is: {} and root2 is: {} \".format(root1,root2))\n",
    " elif d==0:\n",
    "    print(\"Roots are same(only one real solution)\")\n",
    "    root1=(-b+m.sqrt(d))/(2*a)\n",
    "    root2=(-b-m.sqrt(d))/(2*a)\n",
    "    print(\"root1 is: {} and root2 is: {} \".format(root1,root2))\n",
    " elif d<0:\n",
    "    print(\"Roots are complex\")\n",
    "    real=(-b)/(2*a)\n",
    "    img=(m.sqrt(-d))/(2*a)\n",
    "    print(\"root1 is {} + {}i and root 2 is {}- {}i \".format(real,img,real,img))\n",
    "else:\n",
    "   print(\"a never be zero ...please give correct input\")\n",
    "\n",
    "\n"
   ]
  },
  {
   "attachments": {},
   "cell_type": "markdown",
   "metadata": {},
   "source": [
    "# Python Program to Convert Kilometers to Miles"
   ]
  },
  {
   "cell_type": "code",
   "execution_count": null,
   "metadata": {},
   "outputs": [],
   "source": [
    "#converter\n",
    "\n",
    "\n",
    "print(\"Click on 1 for conversions\")\n",
    "print(\"Click on 2 for arthematic operations\")\n",
    "com=input(\"Enter the commond to further process(ex:1):\" )\n",
    "\n",
    "conv=input(\"Enter Conversion:\")\n",
    "\n",
    "if com==\"1\":\n",
    "    print(\"Please Give the Conversion details:(ex:km to miles or 1 for km to miles or kilometers to miles).... :)\")\n",
    "    conv=input(\"Enter Conversion type:\")\n",
    "    print(\"1.km to miles\")\n",
    "    print(\"2.miles to km\")\n",
    "\n",
    "    if conv==\"km to miles \" or 'kilometers to miles' or \"1\":     \n",
    "     km=float(input(\"Enter the value of kilometers:\"))\n",
    "     miles=km*0.62137119\n",
    "     print(\"{} km = {} miles\".format(km,miles))\n",
    "\n",
    "    elif conv==\"miles to km \" or'miles to kilometers' or \"2\" :\n",
    "      miles=float(input(\"Enter the value of miles:\"))\n",
    "      km=miles/0.62137119\n",
    "      print(\"{} miles = {} km\".format(miles,km))\n",
    "\n",
    "    elif conv==\"km to m\" or \"kilometers to meters\" or \"3\" :\n",
    "      km=float(input(\"Enter the value of kilometers:\"))\n",
    "      m=km*1000\n",
    "      print(\"{} km = {} m\".format(km,m))\n",
    "\n",
    "    elif conv==\"m to km\" or \"meters to kilometers\" or\"4\":\n",
    "      m=float(input(\"Enter the value of meters:\"))\n",
    "      km=m/1000\n",
    "      print(\"{} m = {} km\".format(m,km))\n",
    "\n",
    "    elif conv==\"m to cm\" or \"meters to centimeters\" or\"5\":\n",
    "      m=float(input(\"Enter the value of meters:\"))\n",
    "      cm=m/100\n",
    "      print(\"{} m = {} cm\".format(m,cm))\n"
   ]
  },
  {
   "attachments": {},
   "cell_type": "markdown",
   "metadata": {},
   "source": [
    "# kilometers to meters calculater"
   ]
  },
  {
   "cell_type": "code",
   "execution_count": null,
   "metadata": {},
   "outputs": [],
   "source": [
    "km=float(input(\"Enter the kilometers:\"))\n",
    "m=km*1000\n",
    "print(\"{} km ={} m\".format(km,m))"
   ]
  },
  {
   "attachments": {},
   "cell_type": "markdown",
   "metadata": {},
   "source": [
    "# Check whether no is positive or negative"
   ]
  },
  {
   "cell_type": "code",
   "execution_count": null,
   "metadata": {},
   "outputs": [],
   "source": [
    "num=int(input(\"Enter a number to check:\"))\n",
    "if num>0:\n",
    "    print(\"{} is positive number.\".format(num))\n",
    "elif num<0:\n",
    "    print(\"{} is a negative number.\".format(num))\n",
    "else:\n",
    "    print(\"Zero\")"
   ]
  },
  {
   "attachments": {},
   "cell_type": "markdown",
   "metadata": {},
   "source": [
    "# program to check if a number is odd or even"
   ]
  },
  {
   "cell_type": "code",
   "execution_count": null,
   "metadata": {},
   "outputs": [],
   "source": [
    "num=int(input(\"Enter a number to check whether it is a odd or even: \"))\n",
    "\n",
    "if num%2==0:\n",
    "    print(\"{} is a even number.\".format(num))\n",
    "else:\n",
    "    print(\"{} is a odd number.\".format(num))\n"
   ]
  },
  {
   "attachments": {},
   "cell_type": "markdown",
   "metadata": {},
   "source": [
    "# program to check leap year"
   ]
  },
  {
   "cell_type": "code",
   "execution_count": null,
   "metadata": {},
   "outputs": [],
   "source": [
    "year=int(input(\"Enter the year: \"))\n",
    "if year%4==0:\n",
    "\n",
    " if year%400==0 or year%100!=0  :\n",
    "    print(\"{} is a leap year.\".format(year))\n",
    "    \n",
    " else:\n",
    "     print(\"{} is not a leap year.\".format(year))\n",
    "else:\n",
    "   print(\"{} is not a leap year.\".format(year))\n"
   ]
  },
  {
   "attachments": {},
   "cell_type": "markdown",
   "metadata": {},
   "source": [
    "# Find the largest number of three"
   ]
  },
  {
   "cell_type": "code",
   "execution_count": null,
   "metadata": {},
   "outputs": [],
   "source": [
    "num1=int(input(\"Enter first number:\"))\n",
    "num2=int(input(\"Enter second number:\"))\n",
    "num3=int(input(\"Enter third number:\"))\n",
    "\n",
    "if  num1==num2==num3:\n",
    "    print(\"Three numbers are equal '{}'\".format(num1))\n",
    "elif num1>num2==num3:\n",
    "    print(\"{}(num1) is greater than {}(num2,num3)\".format(num1,num2))\n",
    "elif num2>num1==num3:\n",
    "    print(\"{}(num2) is greater than {}(num1,num3)\".format(num1,num2))\n",
    "elif num3>num1==num2:\n",
    "    print(\"{}(num3) is greater than {}(num2,num1)\".format(num1,num2))\n",
    "elif num1>num2>num3:\n",
    "    print(\"{}(num1) is greater than {}(num2),{}(num3)\".format(num1,num2,num3))\n",
    "elif num2>num1>num3:\n",
    "    print(\"{}(num2) is greater than {}(num1),{}(num3)\".format(num2,num1,num3))\n",
    "else:\n",
    "    print(\"{}(num3) is greater than {}(num1),{}(num2)\".format(num3,num1,num2))\n"
   ]
  },
  {
   "attachments": {},
   "cell_type": "markdown",
   "metadata": {},
   "source": [
    "# check for prime number"
   ]
  },
  {
   "cell_type": "code",
   "execution_count": null,
   "metadata": {},
   "outputs": [],
   "source": [
    "num=int(input(\"Enter a number to check :\"))\n",
    "count=0\n",
    "for i in range(1,num+1):\n",
    "    if num%i==0:\n",
    "        count+=1\n",
    "    \n",
    "if count==2:\n",
    "    print(\"{} is a prime number.\".format(num))\n",
    "else:\n",
    "    print(\"{} is a composite number.\".format(num))"
   ]
  },
  {
   "cell_type": "code",
   "execution_count": null,
   "metadata": {},
   "outputs": [],
   "source": [
    "num=int(input(\"Enter a number to check :\"))\n",
    "count=0\n",
    "for i in range(1,num+1):\n",
    "    count=num%i==0\n",
    "    \n",
    "if count==1:\n",
    "    print(\"{} is a prime number.\".format(num))\n",
    "else:\n",
    "    print(\"{} is a composite number.\".format(num))"
   ]
  },
  {
   "attachments": {},
   "cell_type": "markdown",
   "metadata": {},
   "source": [
    "# print prime numbers according to users range"
   ]
  },
  {
   "cell_type": "code",
   "execution_count": null,
   "metadata": {},
   "outputs": [],
   "source": [
    "lower=int(input(\"Enter lower limit of range: \"))\n",
    "upper=int(input(\"Enter the upper limit of range: \"))\n",
    "\n",
    "for num in range (lower,upper+1):\n",
    "    for i in range (2,num):\n",
    "        if num%i==0:\n",
    "            break\n",
    "    else:\n",
    "      print(num)\n"
   ]
  },
  {
   "cell_type": "markdown",
   "metadata": {},
   "source": []
  },
  {
   "cell_type": "code",
   "execution_count": null,
   "metadata": {},
   "outputs": [],
   "source": [
    "x = 3.5\n",
    "print(float(int(x)))\n"
   ]
  },
  {
   "cell_type": "code",
   "execution_count": null,
   "metadata": {},
   "outputs": [],
   "source": [
    "4 % (1 + 9)**2 - 60 // (7 + 2)\n"
   ]
  },
  {
   "cell_type": "code",
   "execution_count": null,
   "metadata": {},
   "outputs": [],
   "source": [
    "str='I love Python programming'\n",
    "print(str[-18:-12])"
   ]
  },
  {
   "cell_type": "code",
   "execution_count": null,
   "metadata": {},
   "outputs": [],
   "source": [
    "x = 'len'\n",
    "x[len(x * 2) - 5]"
   ]
  },
  {
   "cell_type": "code",
   "execution_count": null,
   "metadata": {},
   "outputs": [],
   "source": [
    "input_tuple =('Monty Python', 'British', 1969)\n",
    "tuple_2=[]\n",
    "\n",
    "for t in input_tuple:\n",
    "     for x in t:\n",
    "        tuple_2.append(x)\n",
    "        \n",
    "tuple_2.extend(\"Python\")\n",
    "# Make sure to name the final tuple 'tuple_2'\n",
    "print(tuple_2)"
   ]
  },
  {
   "attachments": {},
   "cell_type": "markdown",
   "metadata": {},
   "source": [
    "# program to calculate Factorial of a number"
   ]
  },
  {
   "cell_type": "code",
   "execution_count": null,
   "metadata": {},
   "outputs": [],
   "source": [
    "num=int(input(\"Enter a number: \\n\"))\n",
    "\n",
    "if num<0:\n",
    "    print(\"There is no factorials for negetive numbers\")\n",
    "elif num==0:\n",
    "    print(\"Factorial=1\")\n",
    "else:\n",
    "   fact=1\n",
    "   for i in range(1,num+1):\n",
    "        fact=fact*i\n",
    "        \n",
    "\n",
    "print(fact)"
   ]
  },
  {
   "attachments": {},
   "cell_type": "markdown",
   "metadata": {},
   "source": [
    "# factorial of a number using recursion"
   ]
  },
  {
   "cell_type": "code",
   "execution_count": null,
   "metadata": {},
   "outputs": [],
   "source": [
    "def fact(a):\n",
    "    if a==0:\n",
    "        return 1\n",
    "    else:\n",
    "        return ((a)*fact(a-1))\n",
    "\n",
    "num=int(input(\"Enter a number: \"))\n",
    "Result=fact(num)\n",
    "print(Result)"
   ]
  },
  {
   "attachments": {},
   "cell_type": "markdown",
   "metadata": {},
   "source": [
    "-  satwik<br>\n",
    "a single dash followed by 2 spaces...\n",
    "  "
   ]
  },
  {
   "attachments": {},
   "cell_type": "markdown",
   "metadata": {},
   "source": [
    ">satwik\n",
    ">>satwik"
   ]
  },
  {
   "attachments": {},
   "cell_type": "markdown",
   "metadata": {},
   "source": [
    "`m`\n",
    "<br>\n",
    "use \" ` \" this for monospace fonts"
   ]
  },
  {
   "cell_type": "code",
   "execution_count": null,
   "metadata": {},
   "outputs": [],
   "source": [
    "\n",
    "if speed<=60:\n",
    "    print(\"No Ticket\")\n",
    "elif speed>60 and speed<80:\n",
    "    print(\"Small Ticket\")\n",
    "else:\n",
    "    print(\"Big ticket\")"
   ]
  },
  {
   "cell_type": "code",
   "execution_count": null,
   "metadata": {},
   "outputs": [],
   "source": [
    "speed=float(input(\"Enter speed of driver:\"))\n",
    "bday=input(\"Enter your birthday(today or not): \")\n",
    "result=speed_check(speed,bday)\n",
    "\n",
    "def speed_check(speed1,bday1):\n",
    "    if speed1<=60:\n",
    "     return print(\"No Ticket\")\n",
    "    elif speed1>60 and speed1<80:\n",
    "      return print(\"Small Ticket\")\n",
    "    else:\n",
    "     if bday1==\"today\":\n",
    "        return print(\"No ticket\")\n",
    "     else:\n",
    "        return print(\"Big ticket\") "
   ]
  },
  {
   "attachments": {},
   "cell_type": "markdown",
   "metadata": {},
   "source": [
    "# Program to print specific table given by user"
   ]
  },
  {
   "cell_type": "code",
   "execution_count": 3,
   "metadata": {},
   "outputs": [
    {
     "name": "stdout",
     "output_type": "stream",
     "text": [
      "5  *  1  =  5\n",
      "5  *  2  =  10\n",
      "5  *  3  =  15\n",
      "5  *  4  =  20\n",
      "5  *  5  =  25\n",
      "5  *  6  =  30\n",
      "5  *  7  =  35\n",
      "5  *  8  =  40\n",
      "5  *  9  =  45\n",
      "5  *  10  =  50\n"
     ]
    }
   ],
   "source": [
    "\n",
    "num=int(input(\"Enter a number which you have to print table: \"))\n",
    "steps=int(input(\"Enter no.of steps do you wanna print: \"))\n",
    "for i in range(1,steps+1):\n",
    "    print(num,\" * \",i,\" = \",num*i)\n"
   ]
  },
  {
   "cell_type": "code",
   "execution_count": 4,
   "metadata": {},
   "outputs": [
    {
     "name": "stdout",
     "output_type": "stream",
     "text": [
      "5  *  1  =  5\n",
      "5  *  2  =  10\n",
      "5  *  3  =  15\n",
      "5  *  4  =  20\n",
      "5  *  5  =  25\n",
      "5  *  6  =  30\n",
      "5  *  7  =  35\n",
      "5  *  8  =  40\n",
      "5  *  9  =  45\n",
      "5  *  10  =  50\n"
     ]
    }
   ],
   "source": [
    "num=int(input(\"Enter a number which you have to print table: \"))\n",
    "steps=int(input(\"Enter no.of steps do you wanna print: \"))\n",
    "i=1\n",
    "while i<=steps:\n",
    "    print(num,\" * \",i,\" = \",num*i)\n",
    "    i+=1"
   ]
  },
  {
   "attachments": {},
   "cell_type": "markdown",
   "metadata": {},
   "source": [
    "# <font color=red> Print the Fabonacci sequance<font>"
   ]
  },
  {
   "cell_type": "code",
   "execution_count": 10,
   "metadata": {},
   "outputs": [
    {
     "name": "stdout",
     "output_type": "stream",
     "text": [
      "0\n",
      "1\n",
      "1\n",
      "2\n",
      "3\n",
      "5\n",
      "8\n",
      "13\n",
      "21\n",
      "34\n",
      "55\n"
     ]
    }
   ],
   "source": [
    "num1=0\n",
    "num2=1\n",
    "num=int(input(\"Enter range of fabonacci:\"))\n",
    "if num==1:\n",
    "  print(num1)\n",
    "else:\n",
    "  print(num1)\n",
    "  print(num2)\n",
    "  for i in range(1,num):\n",
    "   fabonacci=num1+num2\n",
    "   num1=num2\n",
    "   num2=fabonacci\n",
    "   print (fabonacci)"
   ]
  },
  {
   "attachments": {},
   "cell_type": "markdown",
   "metadata": {},
   "source": [
    "# <font color=red > check armstrong number<font>"
   ]
  },
  {
   "attachments": {},
   "cell_type": "markdown",
   "metadata": {},
   "source": [
    "Armstrong number is a number that is equal to the sum of cubes of its digits.<br> For example 0, 1, 153, 370, 371 and 407 are the Armstrong numbers. "
   ]
  },
  {
   "cell_type": "code",
   "execution_count": 1,
   "metadata": {},
   "outputs": [
    {
     "name": "stdout",
     "output_type": "stream",
     "text": [
      "1634 is an Armstrong number\n"
     ]
    }
   ],
   "source": [
    "num=int(input(\"Enter a number:\"))\n",
    "order=len(str(num))\n",
    "sum=0\n",
    "temp=num\n",
    "while temp>0:\n",
    " digit=temp%10\n",
    " sum+=digit**order\n",
    " temp//=10\n",
    "\n",
    "if sum==num:\n",
    "    print(\"{} is an Armstrong number\".format(num))\n",
    "else:\n",
    "    print(\"{} is not an Armstrong number\".format(num))\n"
   ]
  },
  {
   "attachments": {},
   "cell_type": "markdown",
   "metadata": {},
   "source": [
    "# <font color=red>Armstrong numbers in an interval</font>"
   ]
  },
  {
   "cell_type": "code",
   "execution_count": 25,
   "metadata": {},
   "outputs": [],
   "source": [
    "lower=int(input(\"Enter lower limit: \"))\n",
    "upper = int (input(\"Enter upper limit: \"))\n",
    "\n",
    "\n",
    "for num in range(lower,upper+1):\n",
    " sum=0\n",
    " temp=num\n",
    " order=len(str(num))\n",
    " while temp>0: \n",
    "  digit=temp%10\n",
    "  sum+=digit**order\n",
    "  temp//=10\n",
    "  \n",
    " if num==sum:\n",
    "  print(num)"
   ]
  },
  {
   "attachments": {},
   "cell_type": "markdown",
   "metadata": {},
   "source": [
    "# <font color=red>Find the sum of natural numbers</font>"
   ]
  },
  {
   "cell_type": "code",
   "execution_count": 35,
   "metadata": {},
   "outputs": [
    {
     "ename": "TypeError",
     "evalue": "'int' object is not callable",
     "output_type": "error",
     "traceback": [
      "\u001b[1;31m---------------------------------------------------------------------------\u001b[0m",
      "\u001b[1;31mTypeError\u001b[0m                                 Traceback (most recent call last)",
      "\u001b[1;32mc:\\Users\\uppada satwik\\Downloads\\INT215\\programs\\python\\begginer progrmas.ipynb Cell 68\u001b[0m in \u001b[0;36m<cell line: 3>\u001b[1;34m()\u001b[0m\n\u001b[0;32m      <a href='vscode-notebook-cell:/c%3A/Users/uppada%20satwik/Downloads/INT215/programs/python/begginer%20progrmas.ipynb#Y125sZmlsZQ%3D%3D?line=0'>1</a>\u001b[0m start\u001b[39m=\u001b[39m\u001b[39mint\u001b[39m(\u001b[39minput\u001b[39m(\u001b[39m\"\u001b[39m\u001b[39mEnter a number where to start : \u001b[39m\u001b[39m\"\u001b[39m))\n\u001b[0;32m      <a href='vscode-notebook-cell:/c%3A/Users/uppada%20satwik/Downloads/INT215/programs/python/begginer%20progrmas.ipynb#Y125sZmlsZQ%3D%3D?line=1'>2</a>\u001b[0m end\u001b[39m=\u001b[39m\u001b[39mint\u001b[39m(\u001b[39minput\u001b[39m(\u001b[39m\"\u001b[39m\u001b[39mEnter a number which we have to stop adding: \u001b[39m\u001b[39m\"\u001b[39m))\n\u001b[1;32m----> <a href='vscode-notebook-cell:/c%3A/Users/uppada%20satwik/Downloads/INT215/programs/python/begginer%20progrmas.ipynb#Y125sZmlsZQ%3D%3D?line=2'>3</a>\u001b[0m total\u001b[39m=\u001b[39m\u001b[39msum\u001b[39;49m(\u001b[39mrange\u001b[39;49m(start,end\u001b[39m+\u001b[39;49m\u001b[39m1\u001b[39;49m))\n\u001b[0;32m      <a href='vscode-notebook-cell:/c%3A/Users/uppada%20satwik/Downloads/INT215/programs/python/begginer%20progrmas.ipynb#Y125sZmlsZQ%3D%3D?line=3'>4</a>\u001b[0m \u001b[39mprint\u001b[39m(total)\n",
      "\u001b[1;31mTypeError\u001b[0m: 'int' object is not callable"
     ]
    }
   ],
   "source": [
    "start=int(input(\"Enter a number where to start : \"))\n",
    "end=int(input(\"Enter a number which we have to stop adding: \"))\n",
    "total=sum(range(start,end+1))\n",
    "print(total)"
   ]
  },
  {
   "attachments": {},
   "cell_type": "markdown",
   "metadata": {},
   "source": [
    "# <font color=red> Power of 2 and nterms of 2 power"
   ]
  },
  {
   "cell_type": "code",
   "execution_count": 41,
   "metadata": {},
   "outputs": [
    {
     "name": "stdout",
     "output_type": "stream",
     "text": [
      "8\n",
      "[1, 2, 4, 8, 16, 32]\n"
     ]
    }
   ],
   "source": [
    "power=int(input(\"Enter power of 2 u need:\"))\n",
    "result=2**power\n",
    "print(result)\n",
    "\n",
    "nterms=int(input(\"Enter NO.OF terms u want: \"))\n",
    "results=list(map(lambda x : 2** x, range(nterms+1)))\n",
    "print(results)"
   ]
  },
  {
   "attachments": {},
   "cell_type": "markdown",
   "metadata": {},
   "source": [
    "# Numbers divisibe by certain number"
   ]
  },
  {
   "cell_type": "code",
   "execution_count": 44,
   "metadata": {},
   "outputs": [
    {
     "name": "stdout",
     "output_type": "stream",
     "text": [
      "13\n",
      "26\n",
      "39\n",
      "52\n",
      "65\n",
      "78\n",
      "91\n"
     ]
    }
   ],
   "source": [
    "divisor=int(input(\"Enter a number to check no's divisble by : \"))\n",
    "\n",
    "lower=int(input(\"Enter lower limit:\"))\n",
    "upper=int(input(\"Enter upper limit: \"))\n",
    "\n",
    "for i in range(lower,upper+1):\n",
    "\n",
    " if i%divisor==0:\n",
    "   print(i)"
   ]
  },
  {
   "attachments": {},
   "cell_type": "markdown",
   "metadata": {},
   "source": [
    "## using lambda function and filter()"
   ]
  },
  {
   "cell_type": "code",
   "execution_count": 46,
   "metadata": {},
   "outputs": [
    {
     "name": "stdout",
     "output_type": "stream",
     "text": [
      "The numbers divisible by 13 are:  [39, 26]\n"
     ]
    }
   ],
   "source": [
    "l=[39,48,26,98,33,67,87]\n",
    "\n",
    "result= list(filter(lambda x: x%13==0,l))\n",
    "\n",
    "print(\"The numbers divisible by 13 are: \",result)"
   ]
  },
  {
   "attachments": {},
   "cell_type": "markdown",
   "metadata": {},
   "source": [
    "# python program to convert Decimal to Binary,Octal,Hexadecimal"
   ]
  },
  {
   "cell_type": "code",
   "execution_count": 48,
   "metadata": {},
   "outputs": [
    {
     "name": "stdout",
     "output_type": "stream",
     "text": [
      "The conversion of decimal number 1 is\n",
      "0b1 in Binary\n",
      "0o1 in Octal\n",
      "0x1 in Hexadecimal\n"
     ]
    }
   ],
   "source": [
    "decimal=int(input(\"Enter a number here: \"))\n",
    "\n",
    "print(\"The conversion of decimal number {} is\".format(decimal))\n",
    "\n",
    "print(bin(decimal),\"in Binary\")\n",
    "print(oct(decimal),\"in Octal\")\n",
    "print(hex(decimal),\"in Hexadecimal\")"
   ]
  },
  {
   "attachments": {},
   "cell_type": "markdown",
   "metadata": {},
   "source": [
    "# Print the ASCII value of the char"
   ]
  },
  {
   "cell_type": "code",
   "execution_count": 53,
   "metadata": {},
   "outputs": [
    {
     "name": "stdout",
     "output_type": "stream",
     "text": [
      "ASCII value of 'S' is 83\n"
     ]
    }
   ],
   "source": [
    "char=input(\"Enter any character: \")             # taking char variable content\n",
    "print(\"ASCII value of '{}' is {}\".format(char,ord(char)))"
   ]
  },
  {
   "cell_type": "code",
   "execution_count": 3,
   "metadata": {},
   "outputs": [
    {
     "name": "stdout",
     "output_type": "stream",
     "text": [
      "It's a Armstrong number\n"
     ]
    }
   ],
   "source": [
    "num = int(input(\"Enter a no:\"))\n",
    "sum = 0\n",
    "temp = num\n",
    "while temp>0:\n",
    "    digit = temp%10\n",
    "    cube = digit**3\n",
    "    sum = sum+cube\n",
    "    temp//=10\n",
    "    \n",
    "if sum==num:\n",
    "    print(\"It's a Armstrong number\")\n",
    "else:\n",
    "    print(\"It's not an armstrong number\")"
   ]
  },
  {
   "cell_type": "code",
   "execution_count": 11,
   "metadata": {},
   "outputs": [
    {
     "name": "stdout",
     "output_type": "stream",
     "text": [
      "40\n"
     ]
    }
   ],
   "source": [
    "list=(2,4,5)\n",
    "product=1\n",
    "i=0\n",
    "while i<(len(list)):\n",
    "\n",
    "    product=product*list[i]\n",
    "\n",
    "    i+=1\n",
    "\n",
    "print(product)\n"
   ]
  },
  {
   "cell_type": "code",
   "execution_count": 40,
   "metadata": {},
   "outputs": [
    {
     "name": "stdout",
     "output_type": "stream",
     "text": [
      "40\n"
     ]
    }
   ],
   "source": [
    "list=(2,4,5)\n",
    "product=1\n",
    "\n",
    "for i in range(0,len(list)):\n",
    "     product=product*list[i]\n",
    "\n",
    "\n",
    "print(product)"
   ]
  },
  {
   "cell_type": "code",
   "execution_count": 13,
   "metadata": {},
   "outputs": [
    {
     "name": "stdout",
     "output_type": "stream",
     "text": [
      "11\n"
     ]
    }
   ],
   "source": [
    "list=(2,4,5)\n",
    "sum=0\n",
    "i=0\n",
    "while i<(len(list)):\n",
    "\n",
    "    sum=sum+list[i]\n",
    "\n",
    "    i+=1\n",
    "\n",
    "print(sum)"
   ]
  },
  {
   "cell_type": "code",
   "execution_count": 41,
   "metadata": {},
   "outputs": [
    {
     "name": "stdout",
     "output_type": "stream",
     "text": [
      "11\n"
     ]
    }
   ],
   "source": [
    "list=(2,4,5)\n",
    "sum=0\n",
    "for i in range(0,len(list)):\n",
    "\n",
    "    sum=sum+list[i]\n",
    "\n",
    "\n",
    "print(sum)"
   ]
  },
  {
   "cell_type": "code",
   "execution_count": 43,
   "metadata": {},
   "outputs": [
    {
     "name": "stdout",
     "output_type": "stream",
     "text": [
      "[1]\n",
      "[]\n",
      "[1]\n",
      "1.0\n"
     ]
    }
   ],
   "source": [
    "m=int(input(\"Enter the length of the first array:\"))\n",
    "n=int(input(\"Enter the length of the second array:\"))\n",
    "num1=[]\n",
    "num2=[]\n",
    "for i in range(m):\n",
    "    x=int(input(\"Enter elements in num1 array:\"))\n",
    "    num1.append(x)\n",
    "\n",
    "print(num1)\n",
    "\n",
    "for i in range(n):\n",
    "    y=int(input(\"Enter elements in num2 array:\"))\n",
    "    num2.append(y)\n",
    "\n",
    "\n",
    "print(num2)\n",
    "\n",
    "merged_array=sorted(num1)+sorted(num2)\n",
    "\n",
    "print(merged_array)\n",
    "\n",
    "\n",
    "\n",
    "\n",
    "import numpy as np\n",
    "median=np.median(merged_array)\n",
    "print(median)"
   ]
  },
  {
   "attachments": {},
   "cell_type": "markdown",
   "metadata": {},
   "source": [
    "# Palindrome string"
   ]
  },
  {
   "cell_type": "code",
   "execution_count": 45,
   "metadata": {},
   "outputs": [
    {
     "data": {
      "text/plain": [
       "'s'"
      ]
     },
     "execution_count": 45,
     "metadata": {},
     "output_type": "execute_result"
    }
   ],
   "source": [
    "string=\"satwik\"\n",
    "string[0:1]\n"
   ]
  },
  {
   "cell_type": "code",
   "execution_count": 49,
   "metadata": {},
   "outputs": [
    {
     "data": {
      "text/plain": [
       "'sasas'"
      ]
     },
     "execution_count": 49,
     "metadata": {},
     "output_type": "execute_result"
    }
   ],
   "source": [
    "def longest_palindromic_substring(string):\n",
    "    longest = \"\"\n",
    "    for i in range(len(string)):\n",
    "        for j in range(i+1, len(string)+1):\n",
    "            if string[i:j] == string[i:j][::-1] and len(string[i:j]) > len(longest):\n",
    "                longest = string[i:j]\n",
    "    return longest\n",
    "\n",
    "\n",
    "longest_palindromic_substring(\"isasas\")"
   ]
  },
  {
   "cell_type": "code",
   "execution_count": 50,
   "metadata": {},
   "outputs": [
    {
     "ename": "NameError",
     "evalue": "name 'longestPalindrome' is not defined",
     "output_type": "error",
     "traceback": [
      "\u001b[1;31m---------------------------------------------------------------------------\u001b[0m",
      "\u001b[1;31mNameError\u001b[0m                                 Traceback (most recent call last)",
      "\u001b[1;32mc:\\Users\\uppada satwik\\Downloads\\INT215\\programs\\python\\begginer progrmas.ipynb Cell 88\u001b[0m in \u001b[0;36m<cell line: 29>\u001b[1;34m()\u001b[0m\n\u001b[0;32m     <a href='vscode-notebook-cell:/c%3A/Users/uppada%20satwik/Downloads/INT215/programs/python/begginer%20progrmas.ipynb#Y155sZmlsZQ%3D%3D?line=24'>25</a>\u001b[0m         max_len, center_index \u001b[39m=\u001b[39m \u001b[39mmax\u001b[39m((p[i], i) \u001b[39mfor\u001b[39;00m i \u001b[39min\u001b[39;00m \u001b[39mrange\u001b[39m(\u001b[39m1\u001b[39m, n \u001b[39m-\u001b[39m \u001b[39m1\u001b[39m))\n\u001b[0;32m     <a href='vscode-notebook-cell:/c%3A/Users/uppada%20satwik/Downloads/INT215/programs/python/begginer%20progrmas.ipynb#Y155sZmlsZQ%3D%3D?line=25'>26</a>\u001b[0m         \u001b[39mreturn\u001b[39;00m s[(center_index  \u001b[39m-\u001b[39m max_len) \u001b[39m/\u001b[39m\u001b[39m/\u001b[39m \u001b[39m2\u001b[39m : (center_len \u001b[39m+\u001b[39m max_len) \u001b[39m/\u001b[39m\u001b[39m/\u001b[39m \u001b[39m2\u001b[39m]\n\u001b[1;32m---> <a href='vscode-notebook-cell:/c%3A/Users/uppada%20satwik/Downloads/INT215/programs/python/begginer%20progrmas.ipynb#Y155sZmlsZQ%3D%3D?line=28'>29</a>\u001b[0m longestPalindrome(\u001b[39m\"\u001b[39m\u001b[39mSASIS\u001b[39m\u001b[39m\"\u001b[39m)\n",
      "\u001b[1;31mNameError\u001b[0m: name 'longestPalindrome' is not defined"
     ]
    }
   ],
   "source": [
    "class Solution:\n",
    "    def longestPalindrome(self, s: str) -> str:\n",
    "        t = \"#\".join(\"^{}$\".format(s))\n",
    "        n = len(t)\n",
    "        p = [0] * n\n",
    "        c = 0\n",
    "        r = 0\n",
    "        for i in range(1, n - 1):\n",
    "            i_mirror = 2 * c - i\n",
    "            if r > i:\n",
    "                p[i] = min(r - i, p[i_mirror])\n",
    "            else:\n",
    "                p[i] = 0\n",
    "\n",
    "            try:\n",
    "                while t[i + 1 + p[i]] == t[i - 1 - p[i]]:\n",
    "                    p[i] += 1\n",
    "            except IndexError:\n",
    "                pass\n",
    "\n",
    "            if i + p[i] > r:\n",
    "                c = i\n",
    "                r = i + p[i]\n",
    "\n",
    "        max_len, center_index = max((p[i], i) for i in range(1, n - 1))\n",
    "        return s[(center_index  - max_len) // 2 : (center_len + max_len) // 2]\n",
    "\n",
    "\n"
   ]
  },
  {
   "cell_type": "code",
   "execution_count": 58,
   "metadata": {},
   "outputs": [
    {
     "name": "stdout",
     "output_type": "stream",
     "text": [
      "3\n"
     ]
    },
    {
     "ename": "IndexError",
     "evalue": "list index out of range",
     "output_type": "error",
     "traceback": [
      "\u001b[1;31m---------------------------------------------------------------------------\u001b[0m",
      "\u001b[1;31mIndexError\u001b[0m                                Traceback (most recent call last)",
      "\u001b[1;32mc:\\Users\\uppada satwik\\Downloads\\INT215\\programs\\python\\begginer progrmas.ipynb Cell 89\u001b[0m in \u001b[0;36m<cell line: 4>\u001b[1;34m()\u001b[0m\n\u001b[0;32m      <a href='vscode-notebook-cell:/c%3A/Users/uppada%20satwik/Downloads/INT215/programs/python/begginer%20progrmas.ipynb#Y156sZmlsZQ%3D%3D?line=3'>4</a>\u001b[0m \u001b[39mfor\u001b[39;00m i \u001b[39min\u001b[39;00m \u001b[39mrange\u001b[39m(\u001b[39mlen\u001b[39m(nums)):\n\u001b[0;32m      <a href='vscode-notebook-cell:/c%3A/Users/uppada%20satwik/Downloads/INT215/programs/python/begginer%20progrmas.ipynb#Y156sZmlsZQ%3D%3D?line=4'>5</a>\u001b[0m      \u001b[39mfor\u001b[39;00m j \u001b[39min\u001b[39;00m \u001b[39mrange\u001b[39m(i\u001b[39m+\u001b[39m\u001b[39m1\u001b[39m,\u001b[39mlen\u001b[39m(nums)\u001b[39m+\u001b[39m\u001b[39m1\u001b[39m):\n\u001b[1;32m----> <a href='vscode-notebook-cell:/c%3A/Users/uppada%20satwik/Downloads/INT215/programs/python/begginer%20progrmas.ipynb#Y156sZmlsZQ%3D%3D?line=5'>6</a>\u001b[0m         output\u001b[39m=\u001b[39mnums[i]\u001b[39m+\u001b[39mnums[j]\n\u001b[0;32m      <a href='vscode-notebook-cell:/c%3A/Users/uppada%20satwik/Downloads/INT215/programs/python/begginer%20progrmas.ipynb#Y156sZmlsZQ%3D%3D?line=6'>7</a>\u001b[0m         \u001b[39mif\u001b[39;00m output\u001b[39m==\u001b[39mtarget:\n\u001b[0;32m      <a href='vscode-notebook-cell:/c%3A/Users/uppada%20satwik/Downloads/INT215/programs/python/begginer%20progrmas.ipynb#Y156sZmlsZQ%3D%3D?line=7'>8</a>\u001b[0m              result\u001b[39m=\u001b[39m[i,j]\n",
      "\u001b[1;31mIndexError\u001b[0m: list index out of range"
     ]
    }
   ],
   "source": [
    "nums=[3,2,4]\n",
    "target=6\n",
    "print(nums[0])\n",
    "for i in range(len(nums)):\n",
    "     for j in range(i+1,len(nums)+1):\n",
    "        output=nums[i]+nums[j]\n",
    "        if output==target:\n",
    "             result=[i,j]\n",
    "             print(result)\n",
    "\n"
   ]
  },
  {
   "cell_type": "code",
   "execution_count": 1,
   "metadata": {},
   "outputs": [
    {
     "name": "stdout",
     "output_type": "stream",
     "text": [
      "file exists\n",
      "No string is found in the given file.\n"
     ]
    }
   ],
   "source": [
    "filename=input(\"Enter the file name which u wanna import to check the specific string is there or not: \")\n",
    " # taking file name as input\n",
    "\n",
    "try:  #using try except in this code\n",
    "    with open(filename) as file:   #opening file using user input as file\n",
    "        print(\"file exists\")       # if file exists compiler prints this\n",
    "        spe_string=input(\"Enter the string u want to check: \") # taking user input ...which string they want to find\n",
    "\n",
    "        def check(filename, spe_string):  # function for searching string and return lines which contain that specific string \n",
    "            string_address = []           # empty list\n",
    "            with open(filename) as file:\n",
    "                for lines in file:        # here i m accessing each line with this for loop\n",
    "                    if spe_string in lines: #checking that specific string is in which line\n",
    "                        string_address.append(lines.strip())  # if the string contains that line will append into the string_address list\n",
    "\n",
    "            return string_address\n",
    "\n",
    "        if len(check(filename,spe_string))==0: # here checking the length of that function output if it is 0 then it executes\n",
    "            print(\"No string is found in the given file.\") \n",
    "        else:# or else this will exexute and prints the ouput as list of lines which contains specific string\n",
    "            print(check(filename,spe_string))\n",
    "\n",
    "except FileNotFoundError as error:  # by using except and FileNotFoundError if the file doesn't exist then compiler gives this file doesn't found error\n",
    "    print(error)\n",
    "\n"
   ]
  },
  {
   "cell_type": "code",
   "execution_count": null,
   "metadata": {},
   "outputs": [],
   "source": [
    "\"C:\\Users\\uppada satwik\\PycharmProject\\INT215\\venv\\Scripts\\python.exe\" \"C:\\Users\\uppada satwik\\PycharmProject\\INT215\\projects_in_python\\program to search for a specific string in a file.py\" \n",
    "Enter the file name which u wanna import to check the specific string is there or not: satwik\n",
    "file exists\n",
    "Enter the string u want to check: favorite\n",
    "['My favorite color is blue and I love to paint.', 'Reading bo"
   ]
  },
  {
   "cell_type": "code",
   "execution_count": null,
   "metadata": {},
   "outputs": [],
   "source": [
    "The quick brown fox jumps over the lazy dog.\n",
    "She sells seashells by the seashore.\n",
    "The sun is shining and the birds are singing.\n",
    "I like to eat pizza on Friday nights.\n",
    "The concert was amazing and the crowd was wild.\n",
    "My favorite color is blue and I love to paint.\n",
    "The mountains are majestic and the view is breathtaking.\n",
    "Reading books is one of my favorite pastimes.\n",
    "The waves crash against the shore in a rhythmic pattern.\n",
    "The smell of freshly baked cookies fills the air."
   ]
  }
 ],
 "metadata": {
  "kernelspec": {
   "display_name": "Python 3",
   "language": "python",
   "name": "python3"
  },
  "language_info": {
   "codemirror_mode": {
    "name": "ipython",
    "version": 3
   },
   "file_extension": ".py",
   "mimetype": "text/x-python",
   "name": "python",
   "nbconvert_exporter": "python",
   "pygments_lexer": "ipython3",
   "version": "3.10.5"
  },
  "orig_nbformat": 4,
  "vscode": {
   "interpreter": {
    "hash": "26de051ba29f2982a8de78e945f0abaf191376122a1563185a90213a26c5da77"
   }
  }
 },
 "nbformat": 4,
 "nbformat_minor": 2
}
