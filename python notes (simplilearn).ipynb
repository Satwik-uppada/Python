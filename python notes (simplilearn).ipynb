{
 "cells": [
  {
   "attachments": {},
   "cell_type": "markdown",
   "metadata": {},
   "source": [
    "# Lists"
   ]
  },
  {
   "cell_type": "code",
   "execution_count": 19,
   "metadata": {},
   "outputs": [
    {
     "name": "stdout",
     "output_type": "stream",
     "text": [
      "<class 'list'>\n"
     ]
    }
   ],
   "source": [
    "EMP=[]\n",
    "print(type(EMP))"
   ]
  },
  {
   "cell_type": "code",
   "execution_count": 20,
   "metadata": {},
   "outputs": [
    {
     "name": "stdout",
     "output_type": "stream",
     "text": [
      "[]\n"
     ]
    }
   ],
   "source": [
    "print(EMP)"
   ]
  },
  {
   "cell_type": "code",
   "execution_count": 21,
   "metadata": {},
   "outputs": [
    {
     "name": "stdout",
     "output_type": "stream",
     "text": [
      "['pune', 'ap']\n"
     ]
    }
   ],
   "source": [
    "city=[\"pune\",\"ap\"]\n",
    "print(city)"
   ]
  },
  {
   "cell_type": "code",
   "execution_count": 22,
   "metadata": {},
   "outputs": [
    {
     "name": "stdout",
     "output_type": "stream",
     "text": [
      "[1, 2, 3, 4, 5]\n",
      "[]\n"
     ]
    }
   ],
   "source": [
    "new_list=[1,2,3,4,5]\n",
    "my_list=[]\n",
    "print(new_list)\n",
    "print(my_list)"
   ]
  },
  {
   "cell_type": "code",
   "execution_count": 23,
   "metadata": {},
   "outputs": [
    {
     "name": "stdout",
     "output_type": "stream",
     "text": [
      "[]\n"
     ]
    }
   ],
   "source": [
    "a=list([])\n",
    "print(a)"
   ]
  },
  {
   "cell_type": "code",
   "execution_count": 28,
   "metadata": {},
   "outputs": [
    {
     "name": "stdout",
     "output_type": "stream",
     "text": [
      "[3, 3, 3]\n",
      "[1, 2, 3, 4, 5, 3, 3, 3, 3, 3]\n"
     ]
    }
   ],
   "source": [
    "a.append(3)\n",
    "print(a)\n",
    "new_list.extend(a)\n",
    "print(new_list)"
   ]
  },
  {
   "cell_type": "code",
   "execution_count": 43,
   "metadata": {},
   "outputs": [],
   "source": [
    "new_list.insert(2,\"edureka\")\n"
   ]
  },
  {
   "cell_type": "code",
   "execution_count": 44,
   "metadata": {},
   "outputs": [
    {
     "name": "stdout",
     "output_type": "stream",
     "text": [
      "[1, 'edureka', 'edureka', 3, 4, 5, 3, 3, 3, 3, 3]\n"
     ]
    }
   ],
   "source": [
    "print(new_list)"
   ]
  },
  {
   "cell_type": "code",
   "execution_count": 45,
   "metadata": {},
   "outputs": [
    {
     "data": {
      "text/plain": [
       "'edureka'"
      ]
     },
     "execution_count": 45,
     "metadata": {},
     "output_type": "execute_result"
    }
   ],
   "source": [
    "new_list.pop(2)\n"
   ]
  },
  {
   "cell_type": "code",
   "execution_count": 46,
   "metadata": {},
   "outputs": [
    {
     "name": "stdout",
     "output_type": "stream",
     "text": [
      "[1, 'edureka', 3, 4, 5, 3, 3, 3, 3, 3]\n"
     ]
    }
   ],
   "source": [
    "print(new_list)"
   ]
  },
  {
   "cell_type": "code",
   "execution_count": 47,
   "metadata": {},
   "outputs": [],
   "source": [
    "new_list.remove(\"edureka\")"
   ]
  },
  {
   "cell_type": "code",
   "execution_count": 48,
   "metadata": {},
   "outputs": [
    {
     "name": "stdout",
     "output_type": "stream",
     "text": [
      "[1, 3, 4, 5, 3, 3, 3, 3, 3]\n"
     ]
    }
   ],
   "source": [
    "print(new_list)"
   ]
  },
  {
   "cell_type": "code",
   "execution_count": 49,
   "metadata": {},
   "outputs": [],
   "source": [
    "del new_list[5]"
   ]
  },
  {
   "cell_type": "code",
   "execution_count": 50,
   "metadata": {},
   "outputs": [
    {
     "name": "stdout",
     "output_type": "stream",
     "text": [
      "[1, 3, 4, 5, 3, 3, 3, 3]\n"
     ]
    }
   ],
   "source": [
    "print(new_list)"
   ]
  },
  {
   "cell_type": "code",
   "execution_count": 51,
   "metadata": {},
   "outputs": [
    {
     "name": "stdout",
     "output_type": "stream",
     "text": [
      "1\n",
      "3\n"
     ]
    }
   ],
   "source": [
    "for i in new_list[:2]:\n",
    "    print(i)"
   ]
  },
  {
   "attachments": {},
   "cell_type": "markdown",
   "metadata": {},
   "source": [
    "# Tuples"
   ]
  },
  {
   "cell_type": "code",
   "execution_count": null,
   "metadata": {},
   "outputs": [
    {
     "name": "stdout",
     "output_type": "stream",
     "text": [
      "<class 'tuple'>\n"
     ]
    }
   ],
   "source": [
    "EMP=()\n",
    "print(type(EMP))"
   ]
  },
  {
   "cell_type": "code",
   "execution_count": null,
   "metadata": {},
   "outputs": [
    {
     "name": "stdout",
     "output_type": "stream",
     "text": [
      "()\n"
     ]
    }
   ],
   "source": [
    "print(EMP)"
   ]
  },
  {
   "cell_type": "code",
   "execution_count": null,
   "metadata": {},
   "outputs": [],
   "source": [
    "city=\"pune\",\n"
   ]
  },
  {
   "cell_type": "code",
   "execution_count": null,
   "metadata": {},
   "outputs": [
    {
     "data": {
      "text/plain": [
       "tuple"
      ]
     },
     "execution_count": 7,
     "metadata": {},
     "output_type": "execute_result"
    }
   ],
   "source": [
    "type(city)"
   ]
  },
  {
   "cell_type": "code",
   "execution_count": null,
   "metadata": {},
   "outputs": [
    {
     "data": {
      "text/plain": [
       "('S', 'i', 'm', 'l', 'i', 'l', 'e', 'a', 'r', 'n')"
      ]
     },
     "execution_count": 1,
     "metadata": {},
     "output_type": "execute_result"
    }
   ],
   "source": [
    "tuple(\"Simlilearn\")"
   ]
  },
  {
   "cell_type": "code",
   "execution_count": null,
   "metadata": {},
   "outputs": [],
   "source": [
    "num=(1,2,3,4)"
   ]
  },
  {
   "cell_type": "code",
   "execution_count": null,
   "metadata": {},
   "outputs": [
    {
     "name": "stdout",
     "output_type": "stream",
     "text": [
      "(1, 2, 3, 4)\n"
     ]
    }
   ],
   "source": [
    "print(num)"
   ]
  },
  {
   "cell_type": "code",
   "execution_count": null,
   "metadata": {},
   "outputs": [],
   "source": [
    "a,b,c,d=num"
   ]
  },
  {
   "cell_type": "code",
   "execution_count": null,
   "metadata": {},
   "outputs": [
    {
     "name": "stdout",
     "output_type": "stream",
     "text": [
      "1 2 3 4\n"
     ]
    }
   ],
   "source": [
    "print(a,b,c,d)"
   ]
  },
  {
   "cell_type": "code",
   "execution_count": null,
   "metadata": {},
   "outputs": [
    {
     "name": "stdout",
     "output_type": "stream",
     "text": [
      "1 [2, 3] 4\n"
     ]
    }
   ],
   "source": [
    "a,*b,c=num\n",
    "print(a,b,c)"
   ]
  },
  {
   "cell_type": "code",
   "execution_count": null,
   "metadata": {},
   "outputs": [
    {
     "name": "stdout",
     "output_type": "stream",
     "text": [
      "(1, 2, 3, 4)\n"
     ]
    }
   ],
   "source": [
    "tuple1=(1,2,3,4)\n",
    "print(tuple1)"
   ]
  },
  {
   "cell_type": "code",
   "execution_count": null,
   "metadata": {},
   "outputs": [],
   "source": [
    "del tuple1"
   ]
  },
  {
   "cell_type": "code",
   "execution_count": 52,
   "metadata": {},
   "outputs": [
    {
     "ename": "NameError",
     "evalue": "name 'tuple1' is not defined",
     "output_type": "error",
     "traceback": [
      "\u001b[1;31m---------------------------------------------------------------------------\u001b[0m",
      "\u001b[1;31mNameError\u001b[0m                                 Traceback (most recent call last)",
      "\u001b[1;32mC:\\Users\\UPPADA~1\\AppData\\Local\\Temp/ipykernel_39152/2165157509.py\u001b[0m in \u001b[0;36m<module>\u001b[1;34m\u001b[0m\n\u001b[1;32m----> 1\u001b[1;33m \u001b[0mprint\u001b[0m\u001b[1;33m(\u001b[0m\u001b[0mtuple1\u001b[0m\u001b[1;33m)\u001b[0m\u001b[1;33m\u001b[0m\u001b[1;33m\u001b[0m\u001b[0m\n\u001b[0m",
      "\u001b[1;31mNameError\u001b[0m: name 'tuple1' is not defined"
     ]
    }
   ],
   "source": [
    "print(tuple1)"
   ]
  },
  {
   "attachments": {},
   "cell_type": "markdown",
   "metadata": {},
   "source": [
    "# Dictionary"
   ]
  },
  {
   "cell_type": "code",
   "execution_count": 54,
   "metadata": {},
   "outputs": [
    {
     "name": "stdout",
     "output_type": "stream",
     "text": [
      "{1: 'satwik', 2: 'pardhi'}\n"
     ]
    }
   ],
   "source": [
    "dict={1:\"satwik\",2:\"pardhi\"}\n",
    "print(dict)"
   ]
  },
  {
   "cell_type": "code",
   "execution_count": 55,
   "metadata": {},
   "outputs": [
    {
     "name": "stdout",
     "output_type": "stream",
     "text": [
      "{}\n"
     ]
    }
   ],
   "source": [
    "a={}\n",
    "print(a)"
   ]
  },
  {
   "cell_type": "code",
   "execution_count": 58,
   "metadata": {},
   "outputs": [
    {
     "ename": "TypeError",
     "evalue": "'dict' object is not callable",
     "output_type": "error",
     "traceback": [
      "\u001b[1;31m---------------------------------------------------------------------------\u001b[0m",
      "\u001b[1;31mTypeError\u001b[0m                                 Traceback (most recent call last)",
      "\u001b[1;32mC:\\Users\\UPPADA~1\\AppData\\Local\\Temp/ipykernel_39152/3790992454.py\u001b[0m in \u001b[0;36m<module>\u001b[1;34m\u001b[0m\n\u001b[1;32m----> 1\u001b[1;33m \u001b[0mc\u001b[0m\u001b[1;33m=\u001b[0m\u001b[0mdict\u001b[0m\u001b[1;33m(\u001b[0m\u001b[1;33m{\u001b[0m\u001b[1;36m21\u001b[0m\u001b[1;33m:\u001b[0m\u001b[1;34m\"satwik\"\u001b[0m\u001b[1;33m,\u001b[0m\u001b[1;36m22\u001b[0m\u001b[1;33m:\u001b[0m\u001b[1;34m\"pardhi\"\u001b[0m\u001b[1;33m}\u001b[0m\u001b[1;33m)\u001b[0m\u001b[1;33m\u001b[0m\u001b[1;33m\u001b[0m\u001b[0m\n\u001b[0m\u001b[0;32m      2\u001b[0m \u001b[0mprint\u001b[0m\u001b[1;33m(\u001b[0m\u001b[0mc\u001b[0m\u001b[1;33m)\u001b[0m\u001b[1;33m\u001b[0m\u001b[1;33m\u001b[0m\u001b[0m\n",
      "\u001b[1;31mTypeError\u001b[0m: 'dict' object is not callable"
     ]
    }
   ],
   "source": []
  },
  {
   "cell_type": "code",
   "execution_count": 60,
   "metadata": {},
   "outputs": [
    {
     "ename": "TypeError",
     "evalue": "'dict' object is not callable",
     "output_type": "error",
     "traceback": [
      "\u001b[1;31m---------------------------------------------------------------------------\u001b[0m",
      "\u001b[1;31mTypeError\u001b[0m                                 Traceback (most recent call last)",
      "\u001b[1;32mC:\\Users\\UPPADA~1\\AppData\\Local\\Temp/ipykernel_39152/2709160059.py\u001b[0m in \u001b[0;36m<module>\u001b[1;34m\u001b[0m\n\u001b[1;32m----> 1\u001b[1;33m \u001b[0mc\u001b[0m\u001b[1;33m=\u001b[0m \u001b[0mdict\u001b[0m\u001b[1;33m(\u001b[0m\u001b[1;33m{\u001b[0m\u001b[1;36m21\u001b[0m\u001b[1;33m:\u001b[0m\u001b[1;34m\"satwik\"\u001b[0m\u001b[1;33m,\u001b[0m\u001b[1;36m22\u001b[0m\u001b[1;33m:\u001b[0m\u001b[1;34m\"pardhi\"\u001b[0m\u001b[1;33m}\u001b[0m\u001b[1;33m)\u001b[0m\u001b[1;33m\u001b[0m\u001b[1;33m\u001b[0m\u001b[0m\n\u001b[0m\u001b[0;32m      2\u001b[0m \u001b[0mprint\u001b[0m\u001b[1;33m(\u001b[0m\u001b[0mc\u001b[0m\u001b[1;33m)\u001b[0m\u001b[1;33m\u001b[0m\u001b[1;33m\u001b[0m\u001b[0m\n",
      "\u001b[1;31mTypeError\u001b[0m: 'dict' object is not callable"
     ]
    }
   ],
   "source": [
    "c= dict({21:\"satwik\",22:\"pardhi\"})\n",
    "print(c)"
   ]
  },
  {
   "cell_type": "markdown",
   "metadata": {},
   "source": [
    "# BUILD IN FUNCTIONS"
   ]
  },
  {
   "cell_type": "code",
   "execution_count": null,
   "metadata": {},
   "outputs": [],
   "source": [
    "num1=(3,5,2,2,2,2,6,5,8)\n"
   ]
  },
  {
   "cell_type": "code",
   "execution_count": null,
   "metadata": {},
   "outputs": [
    {
     "data": {
      "text/plain": [
       "4"
      ]
     },
     "execution_count": 27,
     "metadata": {},
     "output_type": "execute_result"
    }
   ],
   "source": [
    "num1.count(2)"
   ]
  },
  {
   "cell_type": "code",
   "execution_count": null,
   "metadata": {},
   "outputs": [
    {
     "data": {
      "text/plain": [
       "35"
      ]
     },
     "execution_count": 28,
     "metadata": {},
     "output_type": "execute_result"
    }
   ],
   "source": [
    "sum(num1)"
   ]
  },
  {
   "cell_type": "code",
   "execution_count": null,
   "metadata": {},
   "outputs": [
    {
     "data": {
      "text/plain": [
       "9"
      ]
     },
     "execution_count": 29,
     "metadata": {},
     "output_type": "execute_result"
    }
   ],
   "source": [
    "len(num1)"
   ]
  },
  {
   "cell_type": "code",
   "execution_count": null,
   "metadata": {},
   "outputs": [
    {
     "data": {
      "text/plain": [
       "8"
      ]
     },
     "execution_count": 30,
     "metadata": {},
     "output_type": "execute_result"
    }
   ],
   "source": [
    "max(num1)"
   ]
  },
  {
   "cell_type": "code",
   "execution_count": null,
   "metadata": {},
   "outputs": [
    {
     "data": {
      "text/plain": [
       "2"
      ]
     },
     "execution_count": 31,
     "metadata": {},
     "output_type": "execute_result"
    }
   ],
   "source": [
    "min(num1)"
   ]
  },
  {
   "cell_type": "markdown",
   "metadata": {},
   "source": [
    "# CONVERTING LIST TO TUPLE"
   ]
  },
  {
   "cell_type": "code",
   "execution_count": null,
   "metadata": {},
   "outputs": [
    {
     "name": "stdout",
     "output_type": "stream",
     "text": [
      "<class 'list'>\n"
     ]
    }
   ],
   "source": [
    "lst=[1,2,3,4]\n",
    "print(type(lst))"
   ]
  },
  {
   "cell_type": "code",
   "execution_count": null,
   "metadata": {},
   "outputs": [
    {
     "name": "stdout",
     "output_type": "stream",
     "text": [
      "(1, 2, 3, 4)\n"
     ]
    }
   ],
   "source": [
    "tpl=tuple(lst)\n",
    "print(tpl)"
   ]
  },
  {
   "cell_type": "code",
   "execution_count": null,
   "metadata": {},
   "outputs": [
    {
     "data": {
      "text/plain": [
       "tuple"
      ]
     },
     "execution_count": 36,
     "metadata": {},
     "output_type": "execute_result"
    }
   ],
   "source": [
    "type(tpl)"
   ]
  },
  {
   "cell_type": "markdown",
   "metadata": {},
   "source": [
    " # NESTING TUPLES IN A LIST"
   ]
  },
  {
   "cell_type": "code",
   "execution_count": null,
   "metadata": {},
   "outputs": [
    {
     "name": "stdout",
     "output_type": "stream",
     "text": [
      "[(1, 2, 3), (4, 5, 6)]\n"
     ]
    }
   ],
   "source": [
    "lst=[(1,2,3),(4,5,6)]\n",
    "print(lst)\n",
    "print(lst[0,1])"
   ]
  },
  {
   "cell_type": "code",
   "execution_count": null,
   "metadata": {},
   "outputs": [
    {
     "name": "stdout",
     "output_type": "stream",
     "text": [
      "['satwik', 1298, 'pardhi', 7835, 'arvind', 2090]\n",
      "1298\n",
      "6\n",
      "<class 'list'>\n"
     ]
    }
   ],
   "source": [
    "list=[\"satwik\",1298,\"pardhi\",7835,\"arvind\",2090]\n",
    "print(list)\n",
    "print(list[1])\n",
    "print(len(list))\n",
    "print(type(list))"
   ]
  },
  {
   "cell_type": "code",
   "execution_count": null,
   "metadata": {},
   "outputs": [
    {
     "name": "stdout",
     "output_type": "stream",
     "text": [
      "['satwik', 'pardhi', 'aravind', 'surya', 'ranjith', 'shyam']\n",
      "['satwik', 'pardhi', 'aravind', 'surya', 'ranjith', 'shyam']\n",
      "['satwik', 'pardhi', 'aravind', 'surya', 'ranjith', 'shyam', 'lokesh']\n",
      "['aravind', 'surya', 'ranjith']\n",
      "['surya', 'ranjith', 'shyam']\n"
     ]
    }
   ],
   "source": [
    "list = [\"satwik\", \"pardhi\", \"aravind\", \"surya\", \"ranjith\", \"shyam\", \"lokesh\"]\n",
    "\n",
    "print(list[0:6]) # prints from 0 index to 6 th index\n",
    "\n",
    "print(list[:6] ) # same it will also display 0 to 6th ..compiler consider as intial index as 0 if we leave blank\n",
    "\n",
    "print(list[0:])# same it will also print 0 to 6th ..compiler understand final index as 6th if we leave blank\n",
    "\n",
    "print(list[2:5])# gives output from index 2 to 5th\n",
    "\n",
    "print(list[-4:-1])# it is called reverse indexing .... -1 means second element from last and -4 means 4th element from last"
   ]
  },
  {
   "cell_type": "code",
   "execution_count": null,
   "metadata": {},
   "outputs": [
    {
     "name": "stdout",
     "output_type": "stream",
     "text": [
      "shaik is not found in the list sorry!!!!!!\n"
     ]
    }
   ],
   "source": [
    "listname = [\"satwik\", \"pardhi\", \"aravind\", \"surya\", \"ranjith\", \"shyam\", \"lokesh\"]\n",
    "con=input(\"enter name to check \")\n",
    "if con in listname:\n",
    "    print(\"{} is found in the list of listname\".format(con))\n",
    "else:\n",
    "    print(\"{} is not found in the list sorry!!!!!!\".format(con))"
   ]
  },
  {
   "cell_type": "code",
   "execution_count": null,
   "metadata": {},
   "outputs": [],
   "source": [
    "lst.append(('Tuple' ,'Inside','list'))"
   ]
  },
  {
   "cell_type": "code",
   "execution_count": null,
   "metadata": {},
   "outputs": [
    {
     "name": "stdout",
     "output_type": "stream",
     "text": [
      "[(1, 2, 3), (4, 5, 6), ('Tuple', 'Inside', 'list')]\n"
     ]
    }
   ],
   "source": [
    "print(lst)"
   ]
  },
  {
   "cell_type": "markdown",
   "metadata": {},
   "source": [
    "# THIS SHOWS TUPLE INSIDE LIST"
   ]
  },
  {
   "cell_type": "code",
   "execution_count": null,
   "metadata": {},
   "outputs": [
    {
     "name": "stdout",
     "output_type": "stream",
     "text": [
      "[(4, 5, 6), ('Tuple', 'Inside', 'list')]\n"
     ]
    }
   ],
   "source": [
    "lst.remove((1,2,3))\n",
    "print(lst)"
   ]
  },
  {
   "cell_type": "markdown",
   "metadata": {},
   "source": [
    "# NESTING LIST WITH A TUPLE"
   ]
  },
  {
   "cell_type": "code",
   "execution_count": null,
   "metadata": {},
   "outputs": [
    {
     "name": "stdout",
     "output_type": "stream",
     "text": [
      "(['a', 'b', 'c', 'd'], ['e', 'f', 'g', 'h'])\n",
      "(['a', 'b', 'c', 'd', 'z'], ['e', 'f', 'g', 'h'])\n",
      "(['a', 'b', 'c', 'd'], ['e', 'f', 'g', 'h'])\n"
     ]
    }
   ],
   "source": [
    "tpl=(['a','b','c','d'],['e','f','g','h'])\n",
    "print(tpl)\n",
    "tpl[0].append('z')\n",
    "print(tpl)\n",
    "tpl[0].remove('z')\n",
    "print(tpl)\n",
    "tpl[0][1]"
   ]
  },
  {
   "cell_type": "code",
   "execution_count": null,
   "metadata": {},
   "outputs": [
    {
     "ename": "AttributeError",
     "evalue": "'tuple' object has no attribute 'append'",
     "output_type": "error",
     "traceback": [
      "\u001b[1;31m---------------------------------------------------------------------------\u001b[0m",
      "\u001b[1;31mAttributeError\u001b[0m                            Traceback (most recent call last)",
      "\u001b[1;32mC:\\Users\\UPPADA~1\\AppData\\Local\\Temp/ipykernel_13620/3149278059.py\u001b[0m in \u001b[0;36m<module>\u001b[1;34m\u001b[0m\n\u001b[1;32m----> 1\u001b[1;33m \u001b[0mtpl\u001b[0m\u001b[1;33m.\u001b[0m\u001b[0mappend\u001b[0m\u001b[1;33m(\u001b[0m\u001b[1;33m[\u001b[0m\u001b[1;34m'x'\u001b[0m\u001b[1;33m,\u001b[0m\u001b[1;34m'y'\u001b[0m\u001b[1;33m,\u001b[0m\u001b[1;34m'z'\u001b[0m\u001b[1;33m]\u001b[0m\u001b[1;33m)\u001b[0m\u001b[1;33m\u001b[0m\u001b[1;33m\u001b[0m\u001b[0m\n\u001b[0m\u001b[0;32m      2\u001b[0m \u001b[0mprint\u001b[0m\u001b[1;33m(\u001b[0m\u001b[0mtpl\u001b[0m\u001b[1;33m)\u001b[0m\u001b[1;33m\u001b[0m\u001b[1;33m\u001b[0m\u001b[0m\n",
      "\u001b[1;31mAttributeError\u001b[0m: 'tuple' object has no attribute 'append'"
     ]
    }
   ],
   "source": [
    "tpl.append(['x','y','z'])\n",
    "print(tpl)"
   ]
  },
  {
   "cell_type": "markdown",
   "metadata": {},
   "source": [
    "its showing error because this is a tuple not a list"
   ]
  },
  {
   "attachments": {},
   "cell_type": "markdown",
   "metadata": {},
   "source": [
    "# Dictionary\n"
   ]
  },
  {
   "cell_type": "code",
   "execution_count": 1,
   "metadata": {},
   "outputs": [],
   "source": [
    "my_dict = {'apple': 2, 'banana': 3, 'cherry': 5}\n",
    "another_dict = dict(name='John', age=25, city='New York')\n"
   ]
  },
  {
   "cell_type": "code",
   "execution_count": 2,
   "metadata": {},
   "outputs": [
    {
     "name": "stdout",
     "output_type": "stream",
     "text": [
      "2\n",
      "John\n"
     ]
    }
   ],
   "source": [
    "print(my_dict['apple'])  # output: 2\n",
    "print(another_dict['name'])  # output: 'John'\n"
   ]
  },
  {
   "cell_type": "code",
   "execution_count": 3,
   "metadata": {},
   "outputs": [],
   "source": [
    "my_dict['apple'] = 4\n",
    "another_dict['age'] = 26\n"
   ]
  },
  {
   "cell_type": "code",
   "execution_count": 4,
   "metadata": {},
   "outputs": [],
   "source": [
    "my_dict['orange'] = 6\n",
    "another_dict['gender'] = 'male'\n"
   ]
  },
  {
   "cell_type": "code",
   "execution_count": 5,
   "metadata": {},
   "outputs": [],
   "source": [
    "del my_dict['cherry']\n",
    "del another_dict['city']\n"
   ]
  },
  {
   "cell_type": "code",
   "execution_count": 6,
   "metadata": {},
   "outputs": [
    {
     "name": "stdout",
     "output_type": "stream",
     "text": [
      "Apple exists in the dictionary\n"
     ]
    }
   ],
   "source": [
    "if 'apple' in my_dict:\n",
    "    print('Apple exists in the dictionary')\n"
   ]
  },
  {
   "cell_type": "code",
   "execution_count": 7,
   "metadata": {},
   "outputs": [
    {
     "name": "stdout",
     "output_type": "stream",
     "text": [
      "dict_keys(['apple', 'banana', 'orange'])\n",
      "dict_values([4, 3, 6])\n"
     ]
    }
   ],
   "source": [
    "print(my_dict.keys())  # output: ['apple', 'banana', 'orange']\n",
    "print(my_dict.values())  # output: [4, 3, 6]\n"
   ]
  },
  {
   "cell_type": "code",
   "execution_count": 8,
   "metadata": {},
   "outputs": [
    {
     "name": "stdout",
     "output_type": "stream",
     "text": [
      "dict_items([('apple', 4), ('banana', 3), ('orange', 6)])\n"
     ]
    }
   ],
   "source": [
    "print(my_dict.items())  # output: [('apple', 4), ('banana', 3), ('orange', 6)]\n"
   ]
  },
  {
   "cell_type": "code",
   "execution_count": 16,
   "metadata": {},
   "outputs": [
    {
     "name": "stdout",
     "output_type": "stream",
     "text": [
      "<class 'int'>\n"
     ]
    }
   ],
   "source": [
    "list=[1,\"sateik\",3,2]\n",
    "print(type(list[0]))"
   ]
  },
  {
   "cell_type": "code",
   "execution_count": 3,
   "metadata": {},
   "outputs": [
    {
     "name": "stdout",
     "output_type": "stream",
     "text": [
      "{'c', 'b', 'san', 'a'}\n"
     ]
    },
    {
     "data": {
      "text/plain": [
       "{'a', 'b', 'c', 'p', 'q', 'san'}"
      ]
     },
     "execution_count": 3,
     "metadata": {},
     "output_type": "execute_result"
    }
   ],
   "source": [
    "z=set('abc')\n",
    "z.add('san')\n",
    "print(z)\n",
    "z.update(set(['p', 'q']))\n",
    "z"
   ]
  },
  {
   "cell_type": "markdown",
   "metadata": {},
   "source": [
    "# Strings\n"
   ]
  },
  {
   "cell_type": "code",
   "execution_count": null,
   "metadata": {},
   "outputs": [
    {
     "name": "stdout",
     "output_type": "stream",
     "text": [
      "satwik\n"
     ]
    }
   ],
   "source": [
    "str=\"satwik\"\n",
    "print(str)"
   ]
  },
  {
   "cell_type": "code",
   "execution_count": null,
   "metadata": {},
   "outputs": [
    {
     "name": "stdout",
     "output_type": "stream",
     "text": [
      "i'm a good boy\n"
     ]
    }
   ],
   "source": [
    "str=\"i'm a good boy\"\n",
    "print (str)"
   ]
  },
  {
   "cell_type": "code",
   "execution_count": null,
   "metadata": {},
   "outputs": [
    {
     "name": "stdout",
     "output_type": "stream",
     "text": [
      "i'm a good boy\n"
     ]
    }
   ],
   "source": [
    "sttr='i\\'m a good boy'\n",
    "print(sttr)"
   ]
  },
  {
   "cell_type": "markdown",
   "metadata": {},
   "source": [
    "# used to print like paragraph\n"
   ]
  },
  {
   "cell_type": "code",
   "execution_count": null,
   "metadata": {},
   "outputs": [
    {
     "name": "stdout",
     "output_type": "stream",
     "text": [
      "i have a habbit to learn new coding languages and hacking methods\n",
      "and i like drawing and farming i want to make both of them more easy and perfectly\n"
     ]
    }
   ],
   "source": [
    "str='''i have a habbit to learn new coding languages and hacking methods\n",
    "and i like drawing and farming i want to make both of them more easy and perfectly'''\n",
    "print(str)"
   ]
  },
  {
   "cell_type": "markdown",
   "metadata": {},
   "source": [
    "# Length of the string"
   ]
  },
  {
   "cell_type": "code",
   "execution_count": null,
   "metadata": {},
   "outputs": [
    {
     "name": "stdout",
     "output_type": "stream",
     "text": [
      "11\n"
     ]
    }
   ],
   "source": [
    "str=\"simplilearn\"\n",
    "print(len(str))"
   ]
  },
  {
   "cell_type": "code",
   "execution_count": null,
   "metadata": {},
   "outputs": [
    {
     "name": "stdout",
     "output_type": "stream",
     "text": [
      "Honey is a cute girl.she's is studing high school now. she scores good marks in all examinations\n",
      "96\n",
      "a\n"
     ]
    }
   ],
   "source": [
    "str=\"Honey is a cute girl.she's is studing high school now. she scores good marks in all examinations\"\n",
    "print(str)\n",
    "print(len(str))\n",
    "print(str[9])"
   ]
  },
  {
   "cell_type": "markdown",
   "metadata": {},
   "source": [
    "# print the element of specific index"
   ]
  },
  {
   "cell_type": "code",
   "execution_count": null,
   "metadata": {},
   "outputs": [
    {
     "name": "stdout",
     "output_type": "stream",
     "text": [
      "i\n"
     ]
    }
   ],
   "source": [
    "print(str[5])"
   ]
  },
  {
   "cell_type": "code",
   "execution_count": null,
   "metadata": {},
   "outputs": [
    {
     "name": "stdout",
     "output_type": "stream",
     "text": [
      "s\n",
      "a\n",
      "t\n",
      "h\n",
      "v\n",
      "i\n",
      " \n",
      "&\n",
      " \n",
      "p\n",
      "a\n",
      "r\n",
      "d\n",
      "h\n",
      "i\n"
     ]
    }
   ],
   "source": [
    "str=\"sathvi & pardhi\"\n",
    "for i in str:\n",
    "    print(i)"
   ]
  },
  {
   "cell_type": "code",
   "execution_count": null,
   "metadata": {},
   "outputs": [
    {
     "name": "stdout",
     "output_type": "stream",
     "text": [
      "s i m p l i l e a r n "
     ]
    }
   ],
   "source": [
    "for i in str:\n",
    "    print(i,end=\" \")"
   ]
  },
  {
   "cell_type": "code",
   "execution_count": null,
   "metadata": {},
   "outputs": [],
   "source": [
    "def view_inventory(inventory):\n",
    "    print('Inventory')\n",
    "    for item,details in inventory.items():\n",
    "        print(f\"{item}:{details}\")\n",
    "        print(\"Thanks for shopping\")"
   ]
  },
  {
   "cell_type": "markdown",
   "metadata": {},
   "source": [
    "# Slicing"
   ]
  },
  {
   "cell_type": "code",
   "execution_count": null,
   "metadata": {},
   "outputs": [
    {
     "name": "stdout",
     "output_type": "stream",
     "text": [
      "simpl\n",
      "simpl\n",
      "ilearn\n",
      "pl\n"
     ]
    }
   ],
   "source": [
    "str=\"simplilearn\"\n",
    "print(str[0:5]) # if u consider : as middle left side value is intial value and right side value is final value \n",
    "# here we slice the string from 0 to 5 th index\n",
    "print(str[:5]) # if u dont give intial point to slice compiler understand it as 0 th index\n",
    "\n",
    "print(str[5:]) # if u dont give final point to slice compiler understand it as 0 th index\n",
    "\n",
    "\n",
    "print(str[3:5])"
   ]
  },
  {
   "attachments": {},
   "cell_type": "markdown",
   "metadata": {},
   "source": [
    "##  operations in strings\n"
   ]
  },
  {
   "attachments": {},
   "cell_type": "markdown",
   "metadata": {},
   "source": [
    "### multiply the string ro print n no.of times"
   ]
  },
  {
   "cell_type": "code",
   "execution_count": 8,
   "metadata": {},
   "outputs": [
    {
     "name": "stdout",
     "output_type": "stream",
     "text": [
      "satwiksatwiksatwik\n"
     ]
    }
   ],
   "source": [
    "str1=\"satwik\"\n",
    "\n",
    "print(str1*3)"
   ]
  },
  {
   "attachments": {},
   "cell_type": "markdown",
   "metadata": {},
   "source": [
    "### concatenate the strings"
   ]
  },
  {
   "cell_type": "code",
   "execution_count": 9,
   "metadata": {},
   "outputs": [
    {
     "name": "stdout",
     "output_type": "stream",
     "text": [
      "satwikpardhi\n"
     ]
    }
   ],
   "source": [
    "str1=\"satwik\"\n",
    "str2=\"pardhi\"\n",
    "print(str1+str2)"
   ]
  },
  {
   "cell_type": "markdown",
   "metadata": {},
   "source": [
    "# string Functions"
   ]
  },
  {
   "cell_type": "code",
   "execution_count": null,
   "metadata": {},
   "outputs": [
    {
     "name": "stdout",
     "output_type": "stream",
     "text": [
      "SIMPLILEARN PYTHON PROGRAM\n",
      "simplilearn python program\n"
     ]
    }
   ],
   "source": [
    "# str=\"simplilearn python program\"\n",
    "\n",
    "# print(str.upper())\n",
    "# print(str.lower())"
   ]
  },
  {
   "cell_type": "markdown",
   "metadata": {},
   "source": [
    "TO FIND ELELMENT AT X INDEX"
   ]
  },
  {
   "cell_type": "code",
   "execution_count": null,
   "metadata": {},
   "outputs": [
    {
     "name": "stdout",
     "output_type": "stream",
     "text": [
      "0\n",
      "0\n"
     ]
    }
   ],
   "source": [
    "print(str.find('s'))\n",
    "\n",
    "print(str.index('s'))"
   ]
  },
  {
   "cell_type": "markdown",
   "metadata": {},
   "source": [
    "for repeated characters it takes only the intial index only"
   ]
  },
  {
   "cell_type": "markdown",
   "metadata": {},
   "source": [
    "# FOR SPLIT"
   ]
  },
  {
   "cell_type": "code",
   "execution_count": null,
   "metadata": {},
   "outputs": [
    {
     "name": "stdout",
     "output_type": "stream",
     "text": [
      "['simplilearn', 'and', 'python']\n"
     ]
    }
   ],
   "source": [
    "print(str.split('simplilearn and python'))"
   ]
  },
  {
   "cell_type": "code",
   "execution_count": null,
   "metadata": {},
   "outputs": [
    {
     "name": "stdout",
     "output_type": "stream",
     "text": [
      "['simplilearn', 'python', 'program']\n"
     ]
    }
   ],
   "source": [
    "x=str.split('simplilearn python program')\n",
    "print(x)"
   ]
  },
  {
   "cell_type": "code",
   "execution_count": null,
   "metadata": {},
   "outputs": [],
   "source": []
  },
  {
   "cell_type": "markdown",
   "metadata": {},
   "source": [
    "# if-elif-else ladder\n"
   ]
  },
  {
   "cell_type": "code",
   "execution_count": null,
   "metadata": {},
   "outputs": [
    {
     "name": "stdout",
     "output_type": "stream",
     "text": [
      "it is not a vowel\n"
     ]
    }
   ],
   "source": [
    "var=\"z\"\n",
    "if var==\"a\":\n",
    "     print(\"This is the vowel a\")\n",
    "elif var==\"e\":\n",
    "    print(\"this is the vowel e\")\n",
    "elif var==\"i\":\n",
    "    print(\"this is the vowel i \")\n",
    "elif var==\"o\":\n",
    "    print(\"this is the vowel o \")\n",
    "elif var==\"u\":\n",
    "    print(\"this is the vowel u \")\n",
    "else:\n",
    "    print(\"it is not a vowel\")"
   ]
  },
  {
   "cell_type": "markdown",
   "metadata": {},
   "source": [
    "# Loops\n"
   ]
  },
  {
   "cell_type": "markdown",
   "metadata": {},
   "source": [
    "A loop is an instruction that repeats multiple times as long as somw condition is met"
   ]
  },
  {
   "cell_type": "markdown",
   "metadata": {},
   "source": [
    "# while loop"
   ]
  },
  {
   "cell_type": "markdown",
   "metadata": {},
   "source": [
    "The while loop is used to repeat a section of code an unknown number of times until a specific condition is met"
   ]
  },
  {
   "cell_type": "code",
   "execution_count": null,
   "metadata": {},
   "outputs": [
    {
     "name": "stdout",
     "output_type": "stream",
     "text": [
      "1\n",
      "2\n",
      "3\n",
      "4\n",
      "5\n"
     ]
    }
   ],
   "source": [
    "i=1\n",
    "while i<6:\n",
    " print(i)\n",
    " i+=1"
   ]
  },
  {
   "attachments": {},
   "cell_type": "markdown",
   "metadata": {},
   "source": [
    "the break statement"
   ]
  },
  {
   "cell_type": "code",
   "execution_count": null,
   "metadata": {},
   "outputs": [
    {
     "name": "stdout",
     "output_type": "stream",
     "text": [
      "1\n",
      "2\n",
      "3\n"
     ]
    }
   ],
   "source": [
    "i=1\n",
    "while i<6:\n",
    "    print(i)\n",
    "    if i==3:\n",
    "        break\n",
    "    i+=1"
   ]
  },
  {
   "attachments": {},
   "cell_type": "markdown",
   "metadata": {},
   "source": [
    "The continue statement"
   ]
  },
  {
   "cell_type": "code",
   "execution_count": null,
   "metadata": {},
   "outputs": [
    {
     "name": "stdout",
     "output_type": "stream",
     "text": [
      "1\n",
      "2\n",
      "4\n",
      "5\n",
      "6\n"
     ]
    }
   ],
   "source": [
    "i=0\n",
    "while i<6:\n",
    "    i+=1\n",
    "    if i==3:\n",
    "        continue\n",
    "    print(i) \n",
    "    "
   ]
  },
  {
   "attachments": {},
   "cell_type": "markdown",
   "metadata": {},
   "source": [
    "The else statement"
   ]
  },
  {
   "cell_type": "code",
   "execution_count": null,
   "metadata": {},
   "outputs": [
    {
     "name": "stdout",
     "output_type": "stream",
     "text": [
      "1\n",
      "2\n",
      "3\n",
      "4\n",
      "5\n",
      "6 is no longer less than 6\n"
     ]
    }
   ],
   "source": [
    "i=1\n",
    "while i<6:\n",
    "    print(i)\n",
    "    i+=1\n",
    "else:\n",
    "    print(\"{} is no longer less than 6\".format(i))"
   ]
  },
  {
   "attachments": {},
   "cell_type": "markdown",
   "metadata": {},
   "source": [
    "# for loop"
   ]
  },
  {
   "attachments": {},
   "cell_type": "markdown",
   "metadata": {},
   "source": [
    "A for loop is used for iterating over a sequence (that is either a list, a tuple, a dictionary, a set, or a string)."
   ]
  },
  {
   "cell_type": "code",
   "execution_count": null,
   "metadata": {},
   "outputs": [
    {
     "name": "stdout",
     "output_type": "stream",
     "text": [
      "apple\n",
      "bannana\n",
      "cherry\n"
     ]
    }
   ],
   "source": [
    "fruits=[\"apple\",\"bannana\",\"cherry\"]\n",
    "for x in fruits:\n",
    "    print (x)"
   ]
  },
  {
   "attachments": {},
   "cell_type": "markdown",
   "metadata": {},
   "source": [
    "looping through a string"
   ]
  },
  {
   "cell_type": "code",
   "execution_count": null,
   "metadata": {},
   "outputs": [
    {
     "name": "stdout",
     "output_type": "stream",
     "text": [
      "b\n",
      "a\n",
      "n\n",
      "a\n",
      "n\n",
      "a\n"
     ]
    }
   ],
   "source": [
    "for x in \"banana\":\n",
    "    print(x)"
   ]
  },
  {
   "attachments": {},
   "cell_type": "markdown",
   "metadata": {},
   "source": [
    "The break statement"
   ]
  },
  {
   "cell_type": "code",
   "execution_count": null,
   "metadata": {},
   "outputs": [],
   "source": [
    "fruits =['apple',\"banana\",\"cherry\"]\n",
    "\n",
    "for x in fruits:\n",
    "    print(x)\n",
    "    print(\"..........................\")\n",
    "    if(x==\"banana\"):\n",
    "     break\n",
    "    print(x)"
   ]
  },
  {
   "attachments": {},
   "cell_type": "markdown",
   "metadata": {},
   "source": [
    "The continue statement"
   ]
  },
  {
   "cell_type": "code",
   "execution_count": 5,
   "metadata": {},
   "outputs": [
    {
     "name": "stdout",
     "output_type": "stream",
     "text": [
      "appple\n",
      "cherry\n"
     ]
    }
   ],
   "source": [
    "fruits=['appple','banana',\"cherry\"]\n",
    "for x in fruits:\n",
    "      if x==\"banana\":\n",
    "        continue\n",
    "      print(x)\n"
   ]
  },
  {
   "cell_type": "code",
   "execution_count": 6,
   "metadata": {},
   "outputs": [
    {
     "name": "stdout",
     "output_type": "stream",
     "text": [
      "0\n",
      "1\n",
      "2\n",
      "3\n",
      "4\n",
      "5\n",
      "2\n",
      "3\n",
      "4\n",
      "5\n"
     ]
    }
   ],
   "source": [
    "# formating\n",
    "for x in range(6):\n",
    "        print(x)\n",
    "     \n",
    "for x in range(2,6):\n",
    "         print(x)"
   ]
  },
  {
   "cell_type": "code",
   "execution_count": 7,
   "metadata": {},
   "outputs": [
    {
     "name": "stdout",
     "output_type": "stream",
     "text": [
      "Finally finished\n",
      "Finally finished\n",
      "Finally finished\n"
     ]
    }
   ],
   "source": [
    "for x in range (6):\n",
    "    if x==3:\n",
    "        break\n",
    "    else:\n",
    "        print(\"Finally finished\")"
   ]
  },
  {
   "attachments": {},
   "cell_type": "markdown",
   "metadata": {},
   "source": [
    "Nested for loops"
   ]
  },
  {
   "cell_type": "code",
   "execution_count": 8,
   "metadata": {},
   "outputs": [
    {
     "name": "stdout",
     "output_type": "stream",
     "text": [
      "red apple\n",
      "red banana\n",
      "red cherry\n",
      "big apple\n",
      "big banana\n",
      "big cherry\n",
      "tasty apple\n",
      "tasty banana\n",
      "tasty cherry\n"
     ]
    }
   ],
   "source": [
    "adj=['red','big','tasty']\n",
    "fruits=['apple',\"banana\",\"cherry\"]\n",
    "\n",
    "for x in adj:\n",
    "    for y in fruits:\n",
    "        print(x,y)\n",
    "       "
   ]
  },
  {
   "attachments": {},
   "cell_type": "markdown",
   "metadata": {},
   "source": [
    "# The pass Statement"
   ]
  },
  {
   "attachments": {},
   "cell_type": "markdown",
   "metadata": {},
   "source": [
    "\n",
    "for loops cannot be empty, but if you for some reason have a for loop with no content, put in the pass statement to avoid getting an error."
   ]
  },
  {
   "cell_type": "code",
   "execution_count": 9,
   "metadata": {},
   "outputs": [],
   "source": [
    "for x in [0,1,2]:\n",
    "    pass"
   ]
  },
  {
   "attachments": {},
   "cell_type": "markdown",
   "metadata": {},
   "source": [
    "# functions"
   ]
  },
  {
   "cell_type": "code",
   "execution_count": 10,
   "metadata": {},
   "outputs": [
    {
     "name": "stdout",
     "output_type": "stream",
     "text": [
      "This is my function\n"
     ]
    }
   ],
   "source": [
    "def my_function():\n",
    "    print(\"This is my function\")\n",
    "\n",
    "my_function()"
   ]
  },
  {
   "cell_type": "code",
   "execution_count": 11,
   "metadata": {},
   "outputs": [
    {
     "name": "stdout",
     "output_type": "stream",
     "text": [
      "satwik uppada\n",
      "lokesh uppada\n",
      "prasanna uppada\n",
      "jaggarao uppada\n",
      "thanu sri uppada\n",
      "sowmya sri uppada\n"
     ]
    }
   ],
   "source": [
    "def my_function(firstname):\n",
    "    print(firstname+\" uppada\")\n",
    "\n",
    "my_function(\"satwik\")\n",
    "my_function(\"lokesh\")\n",
    "my_function(\"prasanna\")\n",
    "my_function(\"jaggarao\")\n",
    "my_function(\"thanu sri\")\n",
    "my_function(\"sowmya sri\")"
   ]
  },
  {
   "cell_type": "code",
   "execution_count": 12,
   "metadata": {},
   "outputs": [
    {
     "name": "stdout",
     "output_type": "stream",
     "text": [
      "satwik .u\n",
      "lokesh .u\n",
      "prasanna .u\n",
      "jaggarao .u\n",
      "thanu sri .u\n",
      "sowmya sri .u\n"
     ]
    }
   ],
   "source": [
    "def my_function(firstname,secondname):\n",
    "    print(firstname+\" .\"+secondname)\n",
    "\n",
    "my_function(\"satwik\",\"u\")\n",
    "my_function(\"lokesh\",\"u\")\n",
    "my_function(\"prasanna\",\"u\")\n",
    "my_function(\"jaggarao\",\"u\")\n",
    "my_function(\"thanu sri\",\"u\")\n",
    "my_function(\"sowmya sri\",\"u\")"
   ]
  },
  {
   "cell_type": "code",
   "execution_count": null,
   "metadata": {},
   "outputs": [],
   "source": [
    "def foo(fname, val):\n",
    "    print(fname(val))\n",
    "foo(max, [1, 2, 3])\n",
    "foo(min, [1, 2, 3])"
   ]
  },
  {
   "attachments": {},
   "cell_type": "markdown",
   "metadata": {},
   "source": [
    "# Arbitrary Arguments, *args"
   ]
  },
  {
   "attachments": {},
   "cell_type": "markdown",
   "metadata": {},
   "source": [
    "\n",
    "If you do not know how many arguments that will be passed into your function, add a * before the parameter name in the function definition."
   ]
  },
  {
   "cell_type": "code",
   "execution_count": 13,
   "metadata": {},
   "outputs": [
    {
     "name": "stdout",
     "output_type": "stream",
     "text": [
      "the youngest child is lokesh\n"
     ]
    }
   ],
   "source": [
    "def my_function(*kids):\n",
    "    print(\"the youngest child is \"+kids[1])\n",
    "\n",
    "my_function(\"satwik\" ,\"lokesh\",\"ganesh\")"
   ]
  },
  {
   "cell_type": "code",
   "execution_count": 14,
   "metadata": {},
   "outputs": [
    {
     "name": "stdout",
     "output_type": "stream",
     "text": [
      "3\n"
     ]
    }
   ],
   "source": [
    "def add(*a):\n",
    " sum=0\n",
    " for i in a:\n",
    "    sum=sum+i\n",
    " print(sum)\n",
    "\n",
    "\n",
    "def sub(*a):\n",
    "  sub=0\n",
    "  for i in a:\n",
    "    sub=sub-i\n",
    " print(sub)"
   ]
  },
  {
   "attachments": {},
   "cell_type": "markdown",
   "metadata": {},
   "source": [
    "# Arbitrary Keyword Arguments, **kwargs"
   ]
  },
  {
   "attachments": {},
   "cell_type": "markdown",
   "metadata": {},
   "source": [
    "\n",
    "If you do not know how many keyword arguments that will be passed into your function, add two asterisk: ** before the parameter name in the function definition."
   ]
  },
  {
   "cell_type": "code",
   "execution_count": 14,
   "metadata": {},
   "outputs": [
    {
     "name": "stdout",
     "output_type": "stream",
     "text": [
      "His lname is : uppada\n"
     ]
    }
   ],
   "source": [
    "def my_function(**kids):\n",
    " print(\"His lname is : \"+kids[\"lname\"])\n",
    "\n",
    "my_function(fname=\"satwik\",lname=\"uppada\")"
   ]
  },
  {
   "attachments": {},
   "cell_type": "markdown",
   "metadata": {},
   "source": [
    "# Default Parameter Value  "
   ]
  },
  {
   "cell_type": "code",
   "execution_count": 15,
   "metadata": {},
   "outputs": [
    {
     "name": "stdout",
     "output_type": "stream",
     "text": [
      "I'm from swedan\n",
      "I'm from India\n"
     ]
    }
   ],
   "source": [
    "def my_function(country=\"India\"):\n",
    "    print(\"I'm from \"+country)\n",
    "\n",
    "my_function(\"swedan\")\n",
    "# -------------------------\n",
    "my_function() # if we call the function withput argument,it uses the default value"
   ]
  },
  {
   "attachments": {},
   "cell_type": "markdown",
   "metadata": {},
   "source": [
    "passing a list as an argument"
   ]
  },
  {
   "cell_type": "code",
   "execution_count": 16,
   "metadata": {},
   "outputs": [
    {
     "name": "stdout",
     "output_type": "stream",
     "text": [
      "apple\n",
      "banana\n",
      "papaya\n"
     ]
    }
   ],
   "source": [
    "def my_function(food):\n",
    "    for x in food:\n",
    "      print(x)\n",
    "\n",
    "fruits=[\"apple\",\"banana\",\"papaya\"]\n",
    "my_function(fruits)"
   ]
  },
  {
   "attachments": {},
   "cell_type": "markdown",
   "metadata": {},
   "source": [
    "# Recursion"
   ]
  },
  {
   "cell_type": "code",
   "execution_count": 17,
   "metadata": {},
   "outputs": [
    {
     "name": "stdout",
     "output_type": "stream",
     "text": [
      "\n",
      "\n",
      "Recursion example results:\n",
      "1\n",
      "3\n",
      "6\n",
      "10\n",
      "15\n",
      "21\n"
     ]
    },
    {
     "data": {
      "text/plain": [
       "21"
      ]
     },
     "execution_count": 17,
     "metadata": {},
     "output_type": "execute_result"
    }
   ],
   "source": [
    "def tri_recursion(k):\n",
    "    if (k>0):\n",
    "        result=k+tri_recursion(k-1)\n",
    "        print(result)\n",
    "    else:\n",
    "        result=0\n",
    "    return result\n",
    "print(\"\\n\\nRecursion example results:\")\n",
    "\n",
    "tri_recursion(6)"
   ]
  },
  {
   "attachments": {},
   "cell_type": "markdown",
   "metadata": {},
   "source": [
    "\n",
    "# File handling"
   ]
  },
  {
   "attachments": {},
   "cell_type": "markdown",
   "metadata": {},
   "source": [
    "<font color=\"red\" > <b>Types of files</b> </font><br>\n",
    "<font color=\"yellow\">Files in windows</font>\n",
    "<font color=\"white\">\n",
    "-  image<br>\n",
    "-  text<br>\n",
    "-  executable<br>\n",
    "-  audio<br>\n",
    "</font>\n",
    "\n",
    "<font color=\"yellow\">Files in python</font>\n",
    "-  Binary\n",
    "-  Text"
   ]
  },
  {
   "attachments": {},
   "cell_type": "markdown",
   "metadata": {},
   "source": [
    "## <font color=\"gold\"> What is File Handling?</font>\n",
    "-  It is an important part of any web application\n",
    "\n",
    "-  It is basically use <font color=\"red\" ><b>CRUD</b></font> Operations\n",
    "\n",
    "-  CRUD means: -\n",
    "\n",
    " -  Creating\n",
    " -  Reading\n",
    " -  Updating\n",
    " -  Deletion"
   ]
  },
  {
   "attachments": {},
   "cell_type": "markdown",
   "metadata": {},
   "source": [
    "# Open()\n",
    "\n",
    "-  The key function for working with files in python is open() function\n",
    "\n",
    "open(filename.mode)"
   ]
  },
  {
   "attachments": {},
   "cell_type": "markdown",
   "metadata": {},
   "source": [
    "<b>modes in open function</b>\n",
    "-  \"r\" =Read -(Default value).opens a file for reading.error if the file doesnot exist\n",
    "-  \"a\" =Append -Opens a file for appending.creates the file if it doesnot exist\n",
    "-  \"w\" =Write -Opens a fie for writing.creates the file if it doesnot exist\n",
    "-  \"x\" =Create -Creates the specified file .returns as error if the file exists\n",
    "\n",
    "\n",
    "<hr>\n",
    "\n",
    "-  \"t\" =Text -Default value.Text mode\n",
    "-  \"b\" =Binary mode(eg.images)"
   ]
  },
  {
   "cell_type": "code",
   "execution_count": 51,
   "metadata": {},
   "outputs": [],
   "source": [
    "import os"
   ]
  },
  {
   "attachments": {},
   "cell_type": "markdown",
   "metadata": {},
   "source": [
    "To read a file content"
   ]
  },
  {
   "cell_type": "code",
   "execution_count": null,
   "metadata": {},
   "outputs": [],
   "source": [
    "f=open(\"satwik.txt\",'r')\n",
    "print(f.read())\n",
    "f.close()"
   ]
  },
  {
   "attachments": {},
   "cell_type": "markdown",
   "metadata": {},
   "source": [
    "To write content in the file \n",
    "\n",
    " Two methods are there:- \n",
    "-  write mode\n",
    "-  append mode"
   ]
  },
  {
   "cell_type": "code",
   "execution_count": 72,
   "metadata": {},
   "outputs": [],
   "source": [
    "file=open(\"satwik.txt\",'w')\n",
    "file.write(\"This is the test\")\n",
    "file.write(\"\\nto add more lines\")\n",
    "file.close()"
   ]
  },
  {
   "cell_type": "code",
   "execution_count": 73,
   "metadata": {},
   "outputs": [
    {
     "name": "stdout",
     "output_type": "stream",
     "text": [
      "This is the test\n",
      "to add more lines\n"
     ]
    }
   ],
   "source": [
    "file=open(\"satwik.txt\",'r')\n",
    "print(file.read())\n",
    "file.close()"
   ]
  },
  {
   "cell_type": "code",
   "execution_count": 52,
   "metadata": {},
   "outputs": [
    {
     "name": "stdout",
     "output_type": "stream",
     "text": [
      "\n",
      "this will add upon to the previous data in ur file \n",
      "\n"
     ]
    }
   ],
   "source": [
    "f=open(\"satwik.txt\",'a') # 'a' stands for append mode\n",
    "content=f.write(\"\\nthis will add upon to the previous data in ur file \")  # file content will change with this content (replace)\n",
    "#advantage:\n",
    "#previous statement will not replace with new content\n",
    "# it will add new data to its previous data without erasing\n",
    "f=open(\"satwik\",\"r\")\n",
    "content= f.read() # to read the content in the file\n",
    "print(content)\n",
    "f.close()# to close the file"
   ]
  },
  {
   "cell_type": "code",
   "execution_count": 53,
   "metadata": {},
   "outputs": [
    {
     "name": "stdout",
     "output_type": "stream",
     "text": [
      "\n",
      "this w\n"
     ]
    }
   ],
   "source": [
    "f=open(\"satwik.txt\",'a') # 'a' stands for append mode\n",
    "content=f.write(\"\\nthis will add upon to the previous data in ur file \")  # file content will change with this content (replace)\n",
    "#advantage:\n",
    "#previous statement will not replace with new content\n",
    "# it will add new data to its previous data without erasing\n",
    "f=open(\"satwik\",\"r\")\n",
    "content1=f.read(7) # prints first 7 characters of content\n",
    "print(content1)\n",
    "f.close()"
   ]
  },
  {
   "cell_type": "code",
   "execution_count": 60,
   "metadata": {},
   "outputs": [
    {
     "name": "stdout",
     "output_type": "stream",
     "text": [
      "this is write mode \n",
      "\n"
     ]
    }
   ],
   "source": [
    "\n",
    "f=open(\"satwik.txt\",'a') # 'a' stands for append mode\n",
    "content=f.write(\"\\nthis will add upon to the previous data in ur file \")  # file content will change with this content (replace)\n",
    "#advantage:\n",
    "#previous statement will not replace with new content\n",
    "# it will add new data to its previous data without erasing\n",
    "f=open(\"satwik.txt\",\"r\")\n",
    "print(f.readline()) # prints first line in the file\n",
    "f.close()"
   ]
  },
  {
   "cell_type": "code",
   "execution_count": 68,
   "metadata": {},
   "outputs": [
    {
     "name": "stdout",
     "output_type": "stream",
     "text": [
      "th\n"
     ]
    }
   ],
   "source": [
    "f=open(\"satwik.txt\",'a') # 'a' stands for append mode\n",
    "content=f.write(\"\\nthis will add upon to the previous data in ur file \")  # file content will change with this content (replace)\n",
    "#advantage:\n",
    "#previous statement will not replace with new content\n",
    "# it will add new data to its previous data without erasing\n",
    "f=open(\"satwik.txt\",\"r\")\n",
    "print(f.readline(2)) # prints that given specific line in the file\n",
    "f.close()"
   ]
  },
  {
   "cell_type": "code",
   "execution_count": 26,
   "metadata": {},
   "outputs": [
    {
     "name": "stdout",
     "output_type": "stream",
     "text": [
      "this is write mode \n",
      "['\\n', 'this will add upon to the previous data in ur file ']\n"
     ]
    }
   ],
   "source": [
    "# File commands\n",
    "# open() -for opening the  file\n",
    "# satwik is a text file created in python\n",
    "f=open(\"satwik.txt\",'r') #'r' for read mode\n",
    "content=f.read()\n",
    "print(content)\n",
    "f.close()\n",
    "# close() -for closing the file\n",
    "f=open(\"satwik\",\"r\")\n",
    "content=f.readlines()# prints lines in the file\n",
    "print(content)\n",
    "f.close()\n"
   ]
  },
  {
   "cell_type": "code",
   "execution_count": 5,
   "metadata": {},
   "outputs": [
    {
     "name": "stdout",
     "output_type": "stream",
     "text": [
      "\n",
      "this will add upon to the previous data in ur file \n"
     ]
    }
   ],
   "source": [
    "f=open(\"satwik.txt\",'w') # 'w' stands for write mode\n",
    "content=f.write(\"this is write mode \")  # file content will change with this content (replace)\n",
    "# disadvantage:\n",
    "#previous statement replace with new content\n",
    "f=open(\"satwik\",\"r\")\n",
    "content= f.read()\n",
    "print(content)\n",
    "f.close()"
   ]
  },
  {
   "attachments": {},
   "cell_type": "markdown",
   "metadata": {},
   "source": [
    "## Looping over a file object"
   ]
  },
  {
   "cell_type": "code",
   "execution_count": 17,
   "metadata": {},
   "outputs": [
    {
     "name": "stdout",
     "output_type": "stream",
     "text": [
      "to add more lines\n"
     ]
    }
   ],
   "source": [
    "file=open(\"satwik.txt\",'r')\n",
    "for line in file:\n",
    "    print(file.readline())\n",
    "\n",
    "file.close()"
   ]
  },
  {
   "attachments": {},
   "cell_type": "markdown",
   "metadata": {},
   "source": [
    "# To create a file"
   ]
  },
  {
   "cell_type": "code",
   "execution_count": 80,
   "metadata": {},
   "outputs": [],
   "source": [
    "file=open('edureka.txt','x')\n",
    "file.write(\"New file - EDUREKA\")\n",
    "file.close()"
   ]
  },
  {
   "attachments": {},
   "cell_type": "markdown",
   "metadata": {},
   "source": [
    "## Deleting a file"
   ]
  },
  {
   "cell_type": "code",
   "execution_count": 81,
   "metadata": {},
   "outputs": [],
   "source": [
    "import os # u must import os \n",
    "if os.path.exists(\"edureka.txt\"):\n",
    "    os.remove(\"edureka.txt\")\n",
    "else:\n",
    "    print(\"This file doesn't exist\")"
   ]
  },
  {
   "attachments": {},
   "cell_type": "markdown",
   "metadata": {},
   "source": [
    "## Deleting a folder"
   ]
  },
  {
   "cell_type": "code",
   "execution_count": 82,
   "metadata": {},
   "outputs": [
    {
     "name": "stdout",
     "output_type": "stream",
     "text": [
      "This folder doesn't exist\n"
     ]
    }
   ],
   "source": [
    "import os\n",
    "\n",
    "if os.path.exists(\"my_folder\"):\n",
    "    os.rmdir(\"my_folder\")\n",
    "else:\n",
    "    print(\"This folder doesn't exist\")"
   ]
  },
  {
   "attachments": {},
   "cell_type": "markdown",
   "metadata": {},
   "source": [
    "# <b>Error Handling"
   ]
  },
  {
   "cell_type": "code",
   "execution_count": 6,
   "metadata": {},
   "outputs": [
    {
     "ename": "ZeroDivisionError",
     "evalue": "division by zero",
     "output_type": "error",
     "traceback": [
      "\u001b[1;31m---------------------------------------------------------------------------\u001b[0m",
      "\u001b[1;31mZeroDivisionError\u001b[0m                         Traceback (most recent call last)",
      "\u001b[1;32mC:\\Users\\UPPADA~1\\AppData\\Local\\Temp/ipykernel_23064/960872785.py\u001b[0m in \u001b[0;36m<module>\u001b[1;34m\u001b[0m\n\u001b[0;32m      1\u001b[0m \u001b[0my\u001b[0m\u001b[1;33m=\u001b[0m\u001b[1;36m10\u001b[0m\u001b[1;33m\u001b[0m\u001b[1;33m\u001b[0m\u001b[0m\n\u001b[1;32m----> 2\u001b[1;33m \u001b[0mprint\u001b[0m\u001b[1;33m(\u001b[0m\u001b[0my\u001b[0m\u001b[1;33m/\u001b[0m\u001b[1;36m0\u001b[0m\u001b[1;33m)\u001b[0m\u001b[1;33m\u001b[0m\u001b[1;33m\u001b[0m\u001b[0m\n\u001b[0m",
      "\u001b[1;31mZeroDivisionError\u001b[0m: division by zero"
     ]
    }
   ],
   "source": [
    "y=10\n",
    "print(y/0)"
   ]
  },
  {
   "attachments": {},
   "cell_type": "markdown",
   "metadata": {},
   "source": [
    "# <font color=red>Exception:</font> "
   ]
  },
  {
   "attachments": {},
   "cell_type": "markdown",
   "metadata": {},
   "source": [
    "An exception is an event ,which occurs during the exception of a program,that disrupts the normal flow of the programs instructions."
   ]
  },
  {
   "attachments": {},
   "cell_type": "markdown",
   "metadata": {},
   "source": [
    "<font color=yellow>Important Terms</font>\n"
   ]
  },
  {
   "attachments": {},
   "cell_type": "markdown",
   "metadata": {},
   "source": [
    "<b>try:</b> keyword used to keep the code segment under check<br>\n",
    "<b>except:</b> segment to handle the exception after catching it<br>\n",
    "<b>else:</b> Run this when no exceptions exist<br>\n",
    "<b>finally:</b> No matter what run this code if/if not for excception"
   ]
  },
  {
   "attachments": {},
   "cell_type": "markdown",
   "metadata": {},
   "source": [
    "<b>process of exception handling</b>\n",
    "\n",
    "<br>\n",
    "try{<br>\n",
    "    RUN THIS CODE<br>\n",
    "}<br>\n",
    "except{<br>\n",
    "     Execute this code when there is an exception<br>\n",
    "}<br>\n",
    "else{<br>\n",
    "     No exceptions? run this code<br>\n",
    " }<br>\n",
    "\n",
    "finally:{<br>\n",
    "     always run this code<br>\n",
    "}<br>"
   ]
  },
  {
   "attachments": {},
   "cell_type": "markdown",
   "metadata": {},
   "source": [
    "## raise"
   ]
  },
  {
   "attachments": {},
   "cell_type": "markdown",
   "metadata": {},
   "source": [
    "we can use raise to throw an exception of a condition occurs"
   ]
  },
  {
   "cell_type": "code",
   "execution_count": 7,
   "metadata": {},
   "outputs": [
    {
     "ename": "Exception",
     "evalue": "x should not be exceed 5 .The value of x is 10",
     "output_type": "error",
     "traceback": [
      "\u001b[1;31m---------------------------------------------------------------------------\u001b[0m",
      "\u001b[1;31mException\u001b[0m                                 Traceback (most recent call last)",
      "\u001b[1;32mC:\\Users\\UPPADA~1\\AppData\\Local\\Temp/ipykernel_23064/4200382972.py\u001b[0m in \u001b[0;36m<module>\u001b[1;34m\u001b[0m\n\u001b[0;32m      1\u001b[0m \u001b[0mx\u001b[0m\u001b[1;33m=\u001b[0m\u001b[1;36m10\u001b[0m\u001b[1;33m\u001b[0m\u001b[1;33m\u001b[0m\u001b[0m\n\u001b[0;32m      2\u001b[0m \u001b[1;32mif\u001b[0m \u001b[0mx\u001b[0m\u001b[1;33m>\u001b[0m\u001b[1;36m5\u001b[0m\u001b[1;33m:\u001b[0m\u001b[1;33m\u001b[0m\u001b[1;33m\u001b[0m\u001b[0m\n\u001b[1;32m----> 3\u001b[1;33m     \u001b[1;32mraise\u001b[0m \u001b[0mException\u001b[0m\u001b[1;33m(\u001b[0m\u001b[1;34m'x should not be exceed 5 .The value of x is {}'\u001b[0m\u001b[1;33m.\u001b[0m\u001b[0mformat\u001b[0m\u001b[1;33m(\u001b[0m\u001b[0mx\u001b[0m\u001b[1;33m)\u001b[0m\u001b[1;33m)\u001b[0m\u001b[1;33m\u001b[0m\u001b[1;33m\u001b[0m\u001b[0m\n\u001b[0m",
      "\u001b[1;31mException\u001b[0m: x should not be exceed 5 .The value of x is 10"
     ]
    }
   ],
   "source": [
    "x=10\n",
    "if x>5:\n",
    "    raise Exception('x should not be exceed 5 .The value of x is {}'.format(x))"
   ]
  },
  {
   "attachments": {},
   "cell_type": "markdown",
   "metadata": {},
   "source": [
    "# Assertion Error exception"
   ]
  },
  {
   "attachments": {},
   "cell_type": "markdown",
   "metadata": {},
   "source": [
    "instead of waiting for a program  to crash in a midway, you can also start by making an assertion in python"
   ]
  },
  {
   "attachments": {},
   "cell_type": "markdown",
   "metadata": {},
   "source": [
    "## assert\n"
   ]
  },
  {
   "attachments": {},
   "cell_type": "markdown",
   "metadata": {},
   "source": [
    "assert enables you to verify if a cetain condition is met and throw an exception if it isn't"
   ]
  },
  {
   "cell_type": "code",
   "execution_count": 8,
   "metadata": {},
   "outputs": [
    {
     "ename": "AssertionError",
     "evalue": "This code runs on linux only",
     "output_type": "error",
     "traceback": [
      "\u001b[1;31m---------------------------------------------------------------------------\u001b[0m",
      "\u001b[1;31mAssertionError\u001b[0m                            Traceback (most recent call last)",
      "\u001b[1;32mC:\\Users\\UPPADA~1\\AppData\\Local\\Temp/ipykernel_23064/2894527766.py\u001b[0m in \u001b[0;36m<module>\u001b[1;34m\u001b[0m\n\u001b[0;32m      1\u001b[0m \u001b[1;32mimport\u001b[0m \u001b[0msys\u001b[0m\u001b[1;33m\u001b[0m\u001b[1;33m\u001b[0m\u001b[0m\n\u001b[1;32m----> 2\u001b[1;33m \u001b[1;32massert\u001b[0m \u001b[1;33m(\u001b[0m\u001b[1;34m'Linux'\u001b[0m \u001b[1;32min\u001b[0m \u001b[0msys\u001b[0m\u001b[1;33m.\u001b[0m\u001b[0mplatform\u001b[0m\u001b[1;33m)\u001b[0m\u001b[1;33m,\u001b[0m\u001b[1;34m\"This code runs on linux only\"\u001b[0m\u001b[1;33m\u001b[0m\u001b[1;33m\u001b[0m\u001b[0m\n\u001b[0m",
      "\u001b[1;31mAssertionError\u001b[0m: This code runs on linux only"
     ]
    }
   ],
   "source": [
    "import sys\n",
    "assert ('Linux' in sys.platform),\"This code runs on linux only\""
   ]
  },
  {
   "attachments": {},
   "cell_type": "markdown",
   "metadata": {},
   "source": [
    "# Try and Except Block"
   ]
  },
  {
   "attachments": {},
   "cell_type": "markdown",
   "metadata": {},
   "source": [
    "The try and except block in python is used to catch and handle exceptions"
   ]
  },
  {
   "attachments": {},
   "cell_type": "markdown",
   "metadata": {},
   "source": [
    "try:<br>\n",
    "{<br>\n",
    "    Run this code<br>\n",
    "\n",
    "}<br>\n",
    "\n",
    "except:<br>\n",
    "{<br>\n",
    "Execute this code when there is an exception\n",
    "<br>\n",
    "}"
   ]
  },
  {
   "cell_type": "code",
   "execution_count": 13,
   "metadata": {},
   "outputs": [
    {
     "ename": "AssertionError",
     "evalue": "Function can only run in Linux system.",
     "output_type": "error",
     "traceback": [
      "\u001b[1;31m---------------------------------------------------------------------------\u001b[0m",
      "\u001b[1;31mAssertionError\u001b[0m                            Traceback (most recent call last)",
      "\u001b[1;32mC:\\Users\\UPPADA~1\\AppData\\Local\\Temp/ipykernel_23064/2465527870.py\u001b[0m in \u001b[0;36m<module>\u001b[1;34m\u001b[0m\n\u001b[0;32m      3\u001b[0m     \u001b[0mprint\u001b[0m\u001b[1;33m(\u001b[0m\u001b[1;34m'Doing something'\u001b[0m\u001b[1;33m)\u001b[0m\u001b[1;33m\u001b[0m\u001b[1;33m\u001b[0m\u001b[0m\n\u001b[0;32m      4\u001b[0m \u001b[1;33m\u001b[0m\u001b[0m\n\u001b[1;32m----> 5\u001b[1;33m \u001b[0mlinux_interaction\u001b[0m\u001b[1;33m(\u001b[0m\u001b[1;33m)\u001b[0m\u001b[1;33m\u001b[0m\u001b[1;33m\u001b[0m\u001b[0m\n\u001b[0m",
      "\u001b[1;32mC:\\Users\\UPPADA~1\\AppData\\Local\\Temp/ipykernel_23064/2465527870.py\u001b[0m in \u001b[0;36mlinux_interaction\u001b[1;34m()\u001b[0m\n\u001b[0;32m      1\u001b[0m \u001b[1;32mdef\u001b[0m \u001b[0mlinux_interaction\u001b[0m\u001b[1;33m(\u001b[0m\u001b[1;33m)\u001b[0m\u001b[1;33m:\u001b[0m\u001b[1;33m\u001b[0m\u001b[1;33m\u001b[0m\u001b[0m\n\u001b[1;32m----> 2\u001b[1;33m     \u001b[1;32massert\u001b[0m\u001b[1;33m(\u001b[0m\u001b[1;34m'linux'\u001b[0m \u001b[1;32min\u001b[0m \u001b[0msys\u001b[0m\u001b[1;33m.\u001b[0m\u001b[0mplatform\u001b[0m\u001b[1;33m)\u001b[0m\u001b[1;33m,\u001b[0m\u001b[1;34m\"Function can only run in Linux system.\"\u001b[0m\u001b[1;33m\u001b[0m\u001b[1;33m\u001b[0m\u001b[0m\n\u001b[0m\u001b[0;32m      3\u001b[0m     \u001b[0mprint\u001b[0m\u001b[1;33m(\u001b[0m\u001b[1;34m'Doing something'\u001b[0m\u001b[1;33m)\u001b[0m\u001b[1;33m\u001b[0m\u001b[1;33m\u001b[0m\u001b[0m\n\u001b[0;32m      4\u001b[0m \u001b[1;33m\u001b[0m\u001b[0m\n\u001b[0;32m      5\u001b[0m \u001b[0mlinux_interaction\u001b[0m\u001b[1;33m(\u001b[0m\u001b[1;33m)\u001b[0m\u001b[1;33m\u001b[0m\u001b[1;33m\u001b[0m\u001b[0m\n",
      "\u001b[1;31mAssertionError\u001b[0m: Function can only run in Linux system."
     ]
    }
   ],
   "source": [
    "def linux_interaction():\n",
    "    assert('linux' in sys.platform),\"Function can only run in Linux system.\"\n",
    "    print('Doing something')\n",
    "\n",
    "linux_interaction()"
   ]
  },
  {
   "cell_type": "code",
   "execution_count": 11,
   "metadata": {},
   "outputs": [
    {
     "name": "stdout",
     "output_type": "stream",
     "text": [
      "Linux function was not executed\n"
     ]
    }
   ],
   "source": [
    "def linux_interaction():\n",
    "    assert('linux' in sys.platform),\"Function can only run in Linux system.\"\n",
    "    print('Doing something')\n",
    "\n",
    "try:\n",
    "    linux_interaction()\n",
    "except:\n",
    "    print(\"Linux function was not executed\")"
   ]
  },
  {
   "attachments": {},
   "cell_type": "markdown",
   "metadata": {},
   "source": [
    "we can capture the assertion error and output message with <b>AssertionError</b> "
   ]
  },
  {
   "cell_type": "code",
   "execution_count": 14,
   "metadata": {},
   "outputs": [
    {
     "name": "stdout",
     "output_type": "stream",
     "text": [
      "Function can only run in Linux system.\n",
      "Linux function was not executed\n"
     ]
    }
   ],
   "source": [
    "def linux_interaction():\n",
    "    assert('linux' in sys.platform),\"Function can only run in Linux system.\"\n",
    "    print('Doing something')\n",
    "\n",
    "try:\n",
    "    linux_interaction()\n",
    "except AssertionError as error:\n",
    "    print(error)\n",
    "    print(\"Linux function was not executed\")"
   ]
  },
  {
   "cell_type": "code",
   "execution_count": 17,
   "metadata": {},
   "outputs": [
    {
     "name": "stdout",
     "output_type": "stream",
     "text": [
      "this is write mode \n"
     ]
    }
   ],
   "source": [
    "def linux_interaction():\n",
    "    assert('linux' in sys.platform),\"Function can only run in Linux system.\"\n",
    "    print('Doing something')\n",
    "\n",
    "try:\n",
    "    with open(\"satwik.txt\") as file:\n",
    "        read_data=file.read()\n",
    "        print(read_data)\n",
    "except FileNotFoundError as error:\n",
    "    print(error)"
   ]
  },
  {
   "cell_type": "code",
   "execution_count": 20,
   "metadata": {},
   "outputs": [
    {
     "name": "stdout",
     "output_type": "stream",
     "text": [
      "[Errno 2] No such file or directory: 'pardhi'\n"
     ]
    }
   ],
   "source": [
    "def linux_interaction():\n",
    "    assert('linux' in sys.platform),\"Function can only run in Linux system.\"\n",
    "    print('Doing something')\n",
    "\n",
    "try:\n",
    "    with open(\"pardhi\") as file:\n",
    "        read_data=file.read()\n",
    "        print(read_data)\n",
    "except FileNotFoundError as error:\n",
    "    print(error)"
   ]
  },
  {
   "cell_type": "code",
   "execution_count": 16,
   "metadata": {},
   "outputs": [
    {
     "ename": "NameError",
     "evalue": "name 'satwik' is not defined",
     "output_type": "error",
     "traceback": [
      "\u001b[1;31m---------------------------------------------------------------------------\u001b[0m",
      "\u001b[1;31mNameError\u001b[0m                                 Traceback (most recent call last)",
      "\u001b[1;32mC:\\Users\\UPPADA~1\\AppData\\Local\\Temp/ipykernel_23064/3158629671.py\u001b[0m in \u001b[0;36m<module>\u001b[1;34m\u001b[0m\n\u001b[0;32m      1\u001b[0m \u001b[1;32mtry\u001b[0m\u001b[1;33m:\u001b[0m\u001b[1;33m\u001b[0m\u001b[1;33m\u001b[0m\u001b[0m\n\u001b[1;32m----> 2\u001b[1;33m     \u001b[1;32mwith\u001b[0m \u001b[0mopen\u001b[0m\u001b[1;33m(\u001b[0m\u001b[0msatwik\u001b[0m\u001b[1;33m.\u001b[0m\u001b[0mtxt\u001b[0m\u001b[1;33m)\u001b[0m \u001b[1;32mas\u001b[0m \u001b[0mfile\u001b[0m\u001b[1;33m:\u001b[0m\u001b[1;33m\u001b[0m\u001b[1;33m\u001b[0m\u001b[0m\n\u001b[0m\u001b[0;32m      3\u001b[0m         \u001b[0mread_data\u001b[0m\u001b[1;33m=\u001b[0m\u001b[0mfile\u001b[0m\u001b[1;33m.\u001b[0m\u001b[0mread\u001b[0m\u001b[1;33m(\u001b[0m\u001b[1;33m)\u001b[0m\u001b[1;33m\u001b[0m\u001b[1;33m\u001b[0m\u001b[0m\n\u001b[0;32m      4\u001b[0m \u001b[1;32mexcept\u001b[0m \u001b[0mFileNotFoundError\u001b[0m \u001b[1;32mas\u001b[0m \u001b[0merror\u001b[0m\u001b[1;33m:\u001b[0m\u001b[1;33m\u001b[0m\u001b[1;33m\u001b[0m\u001b[0m\n\u001b[0;32m      5\u001b[0m     \u001b[0mprint\u001b[0m\u001b[1;33m(\u001b[0m\u001b[0merror\u001b[0m\u001b[1;33m)\u001b[0m\u001b[1;33m\u001b[0m\u001b[1;33m\u001b[0m\u001b[0m\n",
      "\u001b[1;31mNameError\u001b[0m: name 'satwik' is not defined"
     ]
    }
   ],
   "source": [
    "def linux_interaction():\n",
    "    assert('linux' in sys.platform),\"Function can only run in Linux system.\"\n",
    "    print('Doing something')\n",
    "\n",
    "try:\n",
    "    with open(satwik.txt) as file:\n",
    "        read_data=file.read()\n",
    "except FileNotFoundError as error:\n",
    "    print(error)\n",
    "    # print(\"Could not open satwik.txt\")"
   ]
  },
  {
   "cell_type": "code",
   "execution_count": 21,
   "metadata": {},
   "outputs": [
    {
     "name": "stdout",
     "output_type": "stream",
     "text": [
      "Function can only run in Linux system.\n",
      "Linux linux_interaction() function was not executed\n"
     ]
    }
   ],
   "source": [
    "def linux_interaction():\n",
    "    assert('linux' in sys.platform),\"Function can only run in Linux system.\"\n",
    "    print('Doing something')\n",
    "\n",
    "try:\n",
    "    linux_interaction()\n",
    "    with open(\"satwik.txt\")as file:\n",
    "        read_data=file.read()\n",
    "        print(read_data)\n",
    "except FileNotFoundError as error:\n",
    "    print(error)\n",
    "except AssertionError  as error:\n",
    "    print(error)\n",
    "    print('Linux linux_interaction() function was not executed')"
   ]
  },
  {
   "attachments": {},
   "cell_type": "markdown",
   "metadata": {},
   "source": [
    "# Key Takeways"
   ]
  },
  {
   "attachments": {},
   "cell_type": "markdown",
   "metadata": {},
   "source": [
    "-  A try clause is executed up until the point where the first exception is encountered\n",
    "-  Inside the except clause,or the exception handler,you determine how the program responds to the exception\n",
    "-  You can anticipate multiple exceptions and differentiate how the program should respond to them\n",
    "-  Avoid using bare except clauses\n"
   ]
  },
  {
   "attachments": {},
   "cell_type": "markdown",
   "metadata": {},
   "source": [
    "## The else clause "
   ]
  },
  {
   "attachments": {},
   "cell_type": "markdown",
   "metadata": {},
   "source": [
    "using the else statement,you can instruct a program to execute a certain block of code only in the absence of exceptions"
   ]
  },
  {
   "attachments": {},
   "cell_type": "markdown",
   "metadata": {},
   "source": [
    "try<br>{\n",
    "    <br> run this code<br>\n",
    "\n",
    "}<br>\n",
    "except{<br>\n",
    "execute this code when there is an exception<br>\n",
    "\n",
    "\n",
    "}<br>\n",
    "else<br>\n",
    "{<br>\n",
    " no exception run this code<br>\n",
    "}"
   ]
  },
  {
   "cell_type": "code",
   "execution_count": 22,
   "metadata": {},
   "outputs": [
    {
     "name": "stdout",
     "output_type": "stream",
     "text": [
      "Function can only run in Linux system.\n"
     ]
    }
   ],
   "source": [
    "def linux_interaction():\n",
    "    assert('linux' in sys.platform),\"Function can only run in Linux system.\"\n",
    "    print('Doing something')\n",
    "\n",
    "try:\n",
    "    linux_interaction()\n",
    "except AssertionError as error:\n",
    "    print(error)\n",
    "else:\n",
    "    print(\"Executing this else clause\")\n",
    "    "
   ]
  },
  {
   "attachments": {},
   "cell_type": "markdown",
   "metadata": {},
   "source": [
    "we can also try to run code inside the else clause and catch possible exceptions there as well."
   ]
  },
  {
   "cell_type": "code",
   "execution_count": 23,
   "metadata": {},
   "outputs": [
    {
     "name": "stdout",
     "output_type": "stream",
     "text": [
      "Function can only run in Linux system.\n"
     ]
    }
   ],
   "source": [
    "def linux_interaction():\n",
    "    assert('linux' in sys.platform),\"Function can only run in Linux system.\"\n",
    "    print('Doing something')\n",
    "\n",
    "try:\n",
    "    linux_interaction()\n",
    "except AssertionError as error:\n",
    "    print(error)\n",
    "else:\n",
    "    try:\n",
    "        with open(\"satwik.txt\") as file:\n",
    "            read_data=file.read()\n",
    "    except FileNotFoundError as error:\n",
    "        print(error)"
   ]
  },
  {
   "attachments": {},
   "cell_type": "markdown",
   "metadata": {},
   "source": [
    "## The finally clause"
   ]
  },
  {
   "attachments": {},
   "cell_type": "markdown",
   "metadata": {},
   "source": [
    "finally is used for cleaning up!"
   ]
  },
  {
   "attachments": {},
   "cell_type": "markdown",
   "metadata": {},
   "source": [
    "try{<br>\n",
    "    run this code<br>\n",
    "}<br>\n",
    "except{<br>\n",
    "    execute this code when there is an exception<br>\n",
    "}<br>\n",
    "else{<br>\n",
    "    no exceptions..run this code<br>\n",
    "}<br>\n",
    "finally{<br>\n",
    "    always run this code<br>\n",
    "}"
   ]
  },
  {
   "cell_type": "code",
   "execution_count": 24,
   "metadata": {},
   "outputs": [
    {
     "name": "stdout",
     "output_type": "stream",
     "text": [
      "Function can only run in Linux system.\n",
      "cleaning up,irresptive of any exceptions\n"
     ]
    }
   ],
   "source": [
    "def linux_interaction():\n",
    "    assert('linux' in sys.platform),\"Function can only run in Linux system.\"\n",
    "    print('Doing something')\n",
    "\n",
    "try:\n",
    "    linux_interaction()\n",
    "except AssertionError as error:\n",
    "    print(error)\n",
    "else:\n",
    "    try:\n",
    "        with open(\"satwik.txt\") as file:\n",
    "            read_data=file.read()\n",
    "    except FileNotFoundError as error:\n",
    "        print(error)\n",
    "finally:\n",
    "    print('cleaning up,irresptive of any exceptions')"
   ]
  },
  {
   "attachments": {},
   "cell_type": "markdown",
   "metadata": {},
   "source": [
    "# Classes and Objects"
   ]
  },
  {
   "attachments": {},
   "cell_type": "markdown",
   "metadata": {},
   "source": [
    "### Scopes and namespaces"
   ]
  },
  {
   "attachments": {},
   "cell_type": "markdown",
   "metadata": {},
   "source": [
    "#### Namespaces\n",
    "\n",
    "It is further classified into 3 types\n",
    "-  Built-in Namespace\n",
    "-  Global Namespace\n",
    "-  Local Namespace"
   ]
  },
  {
   "attachments": {},
   "cell_type": "markdown",
   "metadata": {},
   "source": [
    "## scope"
   ]
  },
  {
   "attachments": {},
   "cell_type": "markdown",
   "metadata": {},
   "source": [
    "\n",
    "so namespace in python basically make\n",
    "sure that\n",
    "<font color=\"gold\">any name that is used in a program are\n",
    "unique and can be used without any\n",
    "conflict</font>\n",
    "namespaces are stored as dictionaries\n",
    "which is absolutely unnoticeable\n",
    "yet the namespaces are basically mapping\n",
    "names to objects\n",
    "it is used so that attributes of an\n",
    "object also\n",
    "form a namespace <br>\n",
    "<hr><br>\n",
    "The namespaces\n",
    "having the built-in names are created\n",
    "when the python interpreter starts off\n",
    "and these namespaces are never deleted.\n",
    "the global namespaces for module are\n",
    "created when the module definition is\n",
    "read in and deleted when the interpreter\n",
    "quits.\n",
    "similarly local namespaces for function\n",
    "is created when the function is called\n",
    "and is deleted when the function is\n",
    "executed."
   ]
  },
  {
   "attachments": {},
   "cell_type": "markdown",
   "metadata": {},
   "source": [
    "it can be defined as a region or a block where the namespace is directly accessible."
   ]
  },
  {
   "attachments": {},
   "cell_type": "markdown",
   "metadata": {},
   "source": [
    "-  <font color=\"white\">Inner most-scope: Local scope</font>\n",
    "-  <font color=\"white\">After that: non local scope and non global scope enclosed in fiunction scope</font>\n",
    "-  <font color=\"white\">After that: Global scope</font>\n",
    "-  <font color=\"white\">Lastly: outer most scope Built-in names </font>"
   ]
  },
  {
   "cell_type": "code",
   "execution_count": 99,
   "metadata": {},
   "outputs": [
    {
     "name": "stdout",
     "output_type": "stream",
     "text": [
      "edureka\n",
      "edureka\n",
      "Data science\n",
      "Data science\n",
      "ai\n"
     ]
    }
   ],
   "source": [
    "\n",
    "def lpu():\n",
    "    def local_func():\n",
    "        name=\"Lovely professional university\"\n",
    "    def non_local():\n",
    "        nonlocal name\n",
    "        name=\"Data science\"\n",
    "    def global_func():\n",
    "        global name\n",
    "        name=\"ai\"\n",
    "    name=\"edureka\"\n",
    "    print(name)\n",
    "    local_func()\n",
    "    print(name)# it prints functions output only\n",
    "\n",
    "    non_local()\n",
    "    print(name)# it prints non_local\n",
    "\n",
    "    global_func()\n",
    "    print(name)# it prints non_local\n",
    "\n",
    "lpu()# calling our main function\n",
    "print(name) # it prints global scope"
   ]
  },
  {
   "attachments": {},
   "cell_type": "markdown",
   "metadata": {},
   "source": [
    "# <b><font color=\"gold\">OOPS</font>"
   ]
  },
  {
   "attachments": {},
   "cell_type": "markdown",
   "metadata": {},
   "source": [
    "# Classes in python\n",
    "-  A class in python is the blueprint from which specific objects are created."
   ]
  },
  {
   "attachments": {},
   "cell_type": "markdown",
   "metadata": {},
   "source": [
    "# Objects in python\n",
    "-  Objects are used for attribute instantiation and reference"
   ]
  },
  {
   "attachments": {},
   "cell_type": "markdown",
   "metadata": {},
   "source": [
    "example :\n",
    "-  Lets take an example of fruits \n",
    "-  Here fruits is a class \n",
    "-  orange ,apple ,papaya are types of fruits and these are called as objects"
   ]
  },
  {
   "attachments": {},
   "cell_type": "markdown",
   "metadata": {},
   "source": [
    "The self keyword is used to refer to the instance of a class in which the method is being execute"
   ]
  },
  {
   "cell_type": "code",
   "execution_count": 122,
   "metadata": {},
   "outputs": [
    {
     "name": "stdout",
     "output_type": "stream",
     "text": [
      "hello world\n"
     ]
    }
   ],
   "source": [
    "class cse:\n",
    "    def print(self):\n",
    "      print(\"hello world\")\n",
    "\n",
    "\n",
    "x=cse()# x is an object to use as an attribute to call the class\n",
    "x.print()# object.function can gives the output of that function"
   ]
  },
  {
   "cell_type": "code",
   "execution_count": 132,
   "metadata": {},
   "outputs": [
    {
     "name": "stdout",
     "output_type": "stream",
     "text": [
      "10 12\n",
      "12\n"
     ]
    }
   ],
   "source": [
    "class Satwik:\n",
    "    d=12\n",
    "    def display(self):\n",
    "        a=10\n",
    "        b=12\n",
    "        print(a,b)\n",
    "\n",
    "output=Satwik()\n",
    "output.display() # object.method \n",
    "print(output.d) # object.variable to access class variable\n"
   ]
  },
  {
   "cell_type": "code",
   "execution_count": 143,
   "metadata": {},
   "outputs": [
    {
     "name": "stdout",
     "output_type": "stream",
     "text": [
      "Brand: apple\n",
      "Battery: 4000mah\n",
      "Camera 108Mp\n",
      "Ram: 8Gb\n",
      "Price: 90000\n",
      "---------------------\n",
      "Brand: Motorola\n",
      "Battery: 6000mah\n",
      "Camera 108Mp\n",
      "Ram: 6Gb\n",
      "Price: 17000\n",
      "---------------------\n"
     ]
    }
   ],
   "source": [
    "class Mobile:\n",
    "    def __init__(self,Brand,battery,ram,camera,price):\n",
    "        self.Brand=Brand\n",
    "        self.battery=battery\n",
    "        self.camera=camera\n",
    "        self.ram=ram\n",
    "        self.price=price\n",
    "\n",
    "    def display(self):\n",
    "        print(\"Brand:\",self.Brand)\n",
    "        print(\"Battery:\",self.battery)\n",
    "        print(\"Camera\",self.camera)\n",
    "        print(\"Ram:\",self.ram)\n",
    "        print(\"Price:\",self.price)\n",
    "        print(\"---------------------\")\n",
    "\n",
    "obj1=Mobile(\"apple\",\"4000mah\",\"8Gb\",\"108Mp\",\"90000\")\n",
    "obj1.display()\n",
    "\n",
    "obj2=Mobile(\"Motorola\",\"6000mah\",\"6Gb\",\"108Mp\",\"17000\")\n",
    "obj2.display()"
   ]
  },
  {
   "attachments": {},
   "cell_type": "markdown",
   "metadata": {},
   "source": [
    "## Instance -basically a constructer\n",
    "\n",
    "python constructer is defined as _ _init_ _()method \n",
    "-  Defaultly python doesnot support multiple constructers in a class.\n",
    "i.e; no constructer overloading\n",
    "-  init method can give output if we create an object without calling object with it."
   ]
  },
  {
   "cell_type": "code",
   "execution_count": 112,
   "metadata": {},
   "outputs": [
    {
     "name": "stdout",
     "output_type": "stream",
     "text": [
      "python\n",
      "This is my function\n"
     ]
    }
   ],
   "source": [
    "class Cse: # class keyword used to create a class\n",
    "    # class name is better to create first letter captial\n",
    "    def __init__(self,name):\n",
    "        self.name = name\n",
    "\n",
    "    def func(self):\n",
    "        print(\"This is my function\")\n",
    "\n",
    "x=Cse(\"python\")\n",
    "print(x.name) #obj.variable\n",
    "x.func() # obj.method"
   ]
  },
  {
   "cell_type": "code",
   "execution_count": 148,
   "metadata": {},
   "outputs": [
    {
     "name": "stdout",
     "output_type": "stream",
     "text": [
      "From year 2021-2025 Batch.. :)\n",
      "Best sec in the batch (2021-2025) is : K21MD\n"
     ]
    }
   ],
   "source": [
    "class Sec:\n",
    "    def __init__(self,sec):\n",
    "        self.sec=sec\n",
    "        print(\"From year 2021-2025 Batch.. :)\")\n",
    "\n",
    "    def display(self):\n",
    "        print(\"Best sec in the batch (2021-2025) is :\",self.sec)\n",
    "\n",
    "obj=Sec(\"K21MD\")\n",
    "obj.display()"
   ]
  },
  {
   "cell_type": "code",
   "execution_count": 141,
   "metadata": {},
   "outputs": [
    {
     "name": "stdout",
     "output_type": "stream",
     "text": [
      "Name of init method is :  python\n",
      "this will print with func function\n"
     ]
    }
   ],
   "source": [
    "class Cse:\n",
    "    def __init__(self):\n",
    "        self.name=\"python\"\n",
    "        self.couse=\"Data science\"\n",
    "    def func(self):\n",
    "        print(\"Name of init method is : \",self.name)\n",
    "        name=\"python programming\"\n",
    "        print(\"this will print with func function\")\n",
    " \n",
    "x=Cse()\n",
    "x.course=\"Machine learning\"\n",
    "x.course\n",
    "\n",
    "func=x.func\n",
    "func()\n",
    "\n",
    "\n"
   ]
  },
  {
   "attachments": {},
   "cell_type": "markdown",
   "metadata": {},
   "source": [
    "### Types of variables\n",
    "-  <font color=\"gold\">Class variables:</font> They are used by all instances of the class.\n",
    "-  <font color=\"gold\">Instance variables:</font> They are for data unique to each instance."
   ]
  },
  {
   "cell_type": "code",
   "execution_count": 120,
   "metadata": {},
   "outputs": [
    {
     "name": "stdout",
     "output_type": "stream",
     "text": [
      "python\n",
      "python programming\n",
      "python\n",
      "python\n",
      "Dsa\n",
      "R programming\n"
     ]
    }
   ],
   "source": [
    "class cse:\n",
    "    name=\"python\" # class variable\n",
    "    def __init__(self,course,tech):\n",
    "        self.course=course# instance variable\n",
    "        self.tech=tech# instance variable\n",
    "\n",
    "ob=cse(\"python programming\",\"python\")# object\n",
    "print(ob.name)\n",
    "print(ob.course)\n",
    "print(ob.tech)\n",
    "\n",
    "\n",
    "ob1=cse(\"Dsa\",\"R programming\")# object1\n",
    "print(ob1.name)\n",
    "print(ob1.course)\n",
    "print(ob1.tech)\n",
    "\n"
   ]
  },
  {
   "attachments": {},
   "cell_type": "markdown",
   "metadata": {},
   "source": [
    "# Inheritance\n",
    "\n",
    "Types of Inheritence\n",
    "-  Single Inheritance\n",
    "-  Multilevel Inheritence\n",
    "-  Hierarchical Inheritence\n",
    "-  Multiple Inheritence(drawback in cpp and java but it gives best in python)"
   ]
  },
  {
   "cell_type": "code",
   "execution_count": 151,
   "metadata": {},
   "outputs": [
    {
     "name": "stdout",
     "output_type": "stream",
     "text": [
      "This is child class\n",
      "This is parent class\n"
     ]
    }
   ],
   "source": [
    "# single inheritence\n",
    "\n",
    "# Class A <------------ Class B\n",
    "class Parent:\n",
    "    def fun1(self):\n",
    "        print(\"This is parent class\")\n",
    "    \n",
    "\n",
    "class Child(Parent):\n",
    "    def fun2(self):\n",
    "        print(\"This is child class\")\n",
    "\n",
    "\n",
    "obj=Child()\n",
    "obj.fun2()# function in child class\n",
    "obj.fun1()# function of parent class can be called with child class object\n"
   ]
  },
  {
   "cell_type": "code",
   "execution_count": 152,
   "metadata": {},
   "outputs": [
    {
     "name": "stdout",
     "output_type": "stream",
     "text": [
      "This is child class.\n",
      "It is the class of  Father.\n",
      "It is the class of Grand father.\n"
     ]
    }
   ],
   "source": [
    "# Multi level Inheritence\n",
    "\n",
    "# Class A <------- Class B <-------- Class C\n",
    "\n",
    "class Grand_father:\n",
    "    def fun1(self):\n",
    "        print(\"It is the class of Grand father.\")\n",
    "\n",
    "class Father(Grand_father):\n",
    "    def fun2(self):\n",
    "        print(\"It is the class of  Father.\")\n",
    "\n",
    "class Child(Father):\n",
    "    def fun3(self):\n",
    "        print(\"This is child class.\")\n",
    "\n",
    "\n",
    "obj=Child()# we just need to create an object only for child class.\n",
    "\n",
    "# call the methods of parent and grand parent class also with the same object. \n",
    "obj.fun3()# CHILD CLASS METHOD\n",
    "obj.fun2()# father class method\n",
    "obj.fun1()# Grand father class method\n"
   ]
  },
  {
   "cell_type": "code",
   "execution_count": 158,
   "metadata": {},
   "outputs": [
    {
     "name": "stdout",
     "output_type": "stream",
     "text": [
      "This is first child class.\n",
      "This is the parent class\n",
      "----------------------------------\n",
      "This is second child class\n",
      "This is the parent class\n"
     ]
    }
   ],
   "source": [
    "# Herrachical Inheritence\n",
    "\n",
    "class Parent:\n",
    "    def fun1(self):\n",
    "        print(\"This is the parent class\")\n",
    "\n",
    "class Child_1(Parent):\n",
    "    def fun2(self):\n",
    "        print(\"This is first child class.\")\n",
    "\n",
    "class Child_2(Parent):\n",
    "    def fun3(self):\n",
    "        print(\"This is second child class\")\n",
    "\n",
    "\n",
    "obj1=Child_1()\n",
    "obj1.fun2()\n",
    "obj1.fun1()\n",
    "# obj1.fun3() with object of Child_1 we can't access child_2 \n",
    "# we need to create another object for child_2\n",
    "print(\"----------------------------------\")\n",
    "obj2=Child_2()\n",
    "obj2.fun3()\n",
    "obj2.fun1()"
   ]
  },
  {
   "cell_type": "code",
   "execution_count": 159,
   "metadata": {},
   "outputs": [
    {
     "name": "stdout",
     "output_type": "stream",
     "text": [
      "This is child class.\n",
      "This is mother class.\n",
      "This is father class.\n"
     ]
    }
   ],
   "source": [
    "# Multiple Inheritence\n",
    "class Father:\n",
    "    def fun1(self):\n",
    "        print(\"This is father class.\")\n",
    "class Mother:\n",
    "    def fun2(self):\n",
    "        print(\"This is mother class.\")\n",
    "class Child(Father,Mother):\n",
    "    def fun3(self):\n",
    "        print(\"This is child class.\")\n",
    "\n",
    "obj=Child()\n",
    "obj.fun3()\n",
    "obj.fun2()\n",
    "obj.fun1()"
   ]
  },
  {
   "cell_type": "code",
   "execution_count": 164,
   "metadata": {},
   "outputs": [
    {
     "name": "stdout",
     "output_type": "stream",
     "text": [
      "This is the father function\n",
      "This is the son function\n",
      "This is the daughter function\n",
      "This is the function of Siblings.\n"
     ]
    }
   ],
   "source": [
    "# Hybrid inheritence\n",
    "\n",
    "# class A -----> class B & class c ---->class d\n",
    "class Father:\n",
    "    def fun1(self):\n",
    "        print(\"This is the father function\")\n",
    "    \n",
    "class Son(Father):\n",
    "    def fun2(self):\n",
    "        print(\"This is the son function\")\n",
    "\n",
    "class Daughter(Father):\n",
    "    def fun3(self):\n",
    "        print(\"This is the daughter function\")\n",
    "\n",
    "class Siblings(Son,Daughter):\n",
    "    def fun4(self):\n",
    "        print(\"This is the function of Siblings.\")\n",
    "\n",
    "\n",
    "obj=Siblings()\n",
    "obj.fun1()\n",
    "obj.fun2()\n",
    "obj.fun3()\n",
    "obj.fun4()\n",
    "\n"
   ]
  },
  {
   "cell_type": "code",
   "execution_count": 163,
   "metadata": {},
   "outputs": [
    {
     "name": "stdout",
     "output_type": "stream",
     "text": [
      "This is class B init method.\n",
      "This is class A init method\n",
      "------------------\n",
      "This is parent class.\n",
      "This is child class.\n"
     ]
    }
   ],
   "source": [
    "# Super keyword\n",
    "class A:\n",
    "    def __init__ (self):\n",
    "        print(\"This is class A init method\")\n",
    "    def fun1(self):\n",
    "        print(\"This is parent class.\")\n",
    "class B(A):\n",
    "    def __init__(self):\n",
    "        print(\"This is class B init method.\")\n",
    "        super().__init__()# it is used to call the init method of parent class \n",
    "    def fun2(self):\n",
    "        print(\"This is child class.\")\n",
    "\n",
    "obj=B()\n",
    "print(\"------------------\")\n",
    "obj.fun1()\n",
    "obj.fun2()"
   ]
  },
  {
   "cell_type": "code",
   "execution_count": 11,
   "metadata": {},
   "outputs": [
    {
     "ename": "TypeError",
     "evalue": "list expected at most 1 argument, got 2",
     "output_type": "error",
     "traceback": [
      "\u001b[1;31m---------------------------------------------------------------------------\u001b[0m",
      "\u001b[1;31mTypeError\u001b[0m                                 Traceback (most recent call last)",
      "\u001b[1;32mC:\\Users\\UPPADA~1\\AppData\\Local\\Temp/ipykernel_16868/2394697522.py\u001b[0m in \u001b[0;36m<module>\u001b[1;34m\u001b[0m\n\u001b[0;32m      2\u001b[0m \u001b[1;32mdef\u001b[0m \u001b[0mincr\u001b[0m\u001b[1;33m(\u001b[0m\u001b[0mx\u001b[0m\u001b[1;33m)\u001b[0m\u001b[1;33m:\u001b[0m\u001b[1;33m\u001b[0m\u001b[1;33m\u001b[0m\u001b[0m\n\u001b[0;32m      3\u001b[0m     \u001b[1;32mreturn\u001b[0m \u001b[0mx\u001b[0m\u001b[1;33m+\u001b[0m\u001b[1;36m1\u001b[0m\u001b[1;33m\u001b[0m\u001b[1;33m\u001b[0m\u001b[0m\n\u001b[1;32m----> 4\u001b[1;33m \u001b[0mprint\u001b[0m\u001b[1;33m(\u001b[0m\u001b[0mmap\u001b[0m\u001b[1;33m(\u001b[0m\u001b[0mlist\u001b[0m\u001b[1;33m(\u001b[0m\u001b[0melements\u001b[0m\u001b[1;33m,\u001b[0m\u001b[0mincr\u001b[0m\u001b[1;33m)\u001b[0m\u001b[1;33m)\u001b[0m\u001b[1;33m)\u001b[0m\u001b[1;33m\u001b[0m\u001b[1;33m\u001b[0m\u001b[0m\n\u001b[0m",
      "\u001b[1;31mTypeError\u001b[0m: list expected at most 1 argument, got 2"
     ]
    }
   ],
   "source": [
    "elements=[0,1,2]\n",
    "def incr(x):\n",
    "    return x+1\n",
    "print(map(list(elements,incr)))"
   ]
  },
  {
   "cell_type": "code",
   "execution_count": null,
   "metadata": {},
   "outputs": [],
   "source": []
  },
  {
   "cell_type": "code",
   "execution_count": null,
   "metadata": {},
   "outputs": [],
   "source": []
  },
  {
   "cell_type": "code",
   "execution_count": null,
   "metadata": {},
   "outputs": [],
   "source": []
  },
  {
   "cell_type": "code",
   "execution_count": null,
   "metadata": {},
   "outputs": [],
   "source": []
  },
  {
   "cell_type": "code",
   "execution_count": null,
   "metadata": {},
   "outputs": [],
   "source": []
  },
  {
   "cell_type": "code",
   "execution_count": null,
   "metadata": {},
   "outputs": [],
   "source": []
  },
  {
   "cell_type": "code",
   "execution_count": null,
   "metadata": {},
   "outputs": [],
   "source": []
  },
  {
   "cell_type": "code",
   "execution_count": null,
   "metadata": {},
   "outputs": [],
   "source": []
  },
  {
   "attachments": {},
   "cell_type": "markdown",
   "metadata": {},
   "source": [
    "# Algoritms "
   ]
  },
  {
   "attachments": {},
   "cell_type": "markdown",
   "metadata": {},
   "source": [
    "## Algoritm classes\n",
    "\n",
    "<font color=\"red\">Divide and conquer</font>\n",
    "-  Divides the problem into sub-parts and solves each one separately.\n",
    "\n",
    "<font color=\"red\"> Dynamic programming </font>\n",
    "-  Divides the problem into sub-parts,remembers the result if the sub--parts and applies it to similar ones.\n",
    "\n",
    "<font color=\"red\">Greedy algorithm</font>\n",
    "-  Involves taking the easiest step while solving a problem without worrying about the complexity of the future steps"
   ]
  },
  {
   "attachments": {},
   "cell_type": "markdown",
   "metadata": {},
   "source": [
    "## <font color=\"gold\"> Tree Traversal Algorithms</font>\n",
    "\n",
    "Trees in python are non-linear data structures having a root and nodes .Tree Traversal refers to visiting each node present in the tree exactly once in order to update or check them."
   ]
  },
  {
   "attachments": {},
   "cell_type": "markdown",
   "metadata": {},
   "source": [
    "There are three types of tree traversals\n",
    "-  In-order traversal-\n",
    "<font color=\"pink\">It refers to visiting the left nodes follwed by the root and then right nodes</font>\n",
    "\n",
    "-  Pre order traversal-\n",
    "<font color=\"pink\">It refers to visiting the root nodes follwed by the left nodes and then right nodes</font>\n",
    "\n",
    "-  Post order traversal-\n",
    "<font color=\"pink\">It refers to visiting the right nodes follwed by the root and then root nodes</font>\n"
   ]
  },
  {
   "cell_type": "code",
   "execution_count": null,
   "metadata": {},
   "outputs": [],
   "source": []
  },
  {
   "cell_type": "code",
   "execution_count": null,
   "metadata": {},
   "outputs": [],
   "source": []
  },
  {
   "cell_type": "code",
   "execution_count": null,
   "metadata": {},
   "outputs": [],
   "source": []
  },
  {
   "cell_type": "code",
   "execution_count": null,
   "metadata": {},
   "outputs": [],
   "source": []
  },
  {
   "cell_type": "code",
   "execution_count": null,
   "metadata": {},
   "outputs": [],
   "source": []
  },
  {
   "cell_type": "code",
   "execution_count": null,
   "metadata": {},
   "outputs": [],
   "source": []
  },
  {
   "cell_type": "code",
   "execution_count": null,
   "metadata": {},
   "outputs": [],
   "source": []
  },
  {
   "cell_type": "code",
   "execution_count": null,
   "metadata": {},
   "outputs": [],
   "source": []
  },
  {
   "cell_type": "code",
   "execution_count": null,
   "metadata": {},
   "outputs": [],
   "source": []
  },
  {
   "cell_type": "code",
   "execution_count": null,
   "metadata": {},
   "outputs": [],
   "source": []
  },
  {
   "cell_type": "code",
   "execution_count": null,
   "metadata": {},
   "outputs": [],
   "source": []
  },
  {
   "cell_type": "code",
   "execution_count": null,
   "metadata": {},
   "outputs": [],
   "source": []
  },
  {
   "cell_type": "code",
   "execution_count": null,
   "metadata": {},
   "outputs": [],
   "source": []
  }
 ],
 "metadata": {
  "kernelspec": {
   "display_name": "Python 3.9.7 ('python')",
   "language": "python",
   "name": "python3"
  },
  "language_info": {
   "codemirror_mode": {
    "name": "ipython",
    "version": 3
   },
   "file_extension": ".py",
   "mimetype": "text/x-python",
   "name": "python",
   "nbconvert_exporter": "python",
   "pygments_lexer": "ipython3",
   "version": "3.9.7"
  },
  "orig_nbformat": 4,
  "vscode": {
   "interpreter": {
    "hash": "ebca2c0207c2e4390668c2950131c1f04206a65d347091efc0411a24a42dac2a"
   }
  }
 },
 "nbformat": 4,
 "nbformat_minor": 2
}
